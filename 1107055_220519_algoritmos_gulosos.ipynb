{
  "nbformat": 4,
  "nbformat_minor": 0,
  "metadata": {
    "colab": {
      "name": "1107055_220519_algoritmos gulosos",
      "provenance": [],
      "collapsed_sections": [],
      "include_colab_link": true
    },
    "kernelspec": {
      "name": "python3",
      "display_name": "Python 3"
    },
    "language_info": {
      "name": "python"
    }
  },
  "cells": [
    {
      "cell_type": "markdown",
      "metadata": {
        "id": "view-in-github",
        "colab_type": "text"
      },
      "source": [
        "<a href=\"https://colab.research.google.com/github/GRACOPORDEUS/atividades_mestrado/blob/main/1107055_220519_algoritmos_gulosos.ipynb\" target=\"_parent\"><img src=\"https://colab.research.google.com/assets/colab-badge.svg\" alt=\"Open In Colab\"/></a>"
      ]
    },
    {
      "cell_type": "code",
      "source": [
        "import numpy as np\n",
        "import sys"
      ],
      "metadata": {
        "id": "__IaiQZbKtsh"
      },
      "execution_count": null,
      "outputs": []
    },
    {
      "cell_type": "code",
      "source": [
        "## Ler os arquivos de entrada\n",
        "\n",
        "# Código para importar arquivos do Drive\n",
        "from google.colab import drive\n",
        "drive.mount('/content/drive')\n",
        "\n",
        "path = \"/content/drive/MyDrive/Colab Notebooks/Algoritmos/\"\n",
        "file1 = \"dij10.txt\"\n",
        "file2 = \"dij20.txt\"\n",
        "file3 = \"dij40.txt\"\n",
        "file4 = \"dij50.txt\"\n",
        "\n",
        "def readInputs(file):\n",
        "  arquivo = open(path+file)\n",
        "  linhas  = arquivo.readlines()\n",
        "\n",
        "  vertices = (int (linhas[0]))\n",
        "  shape = (vertices, vertices)\n",
        "  arestas = np.zeros(shape, dtype=int)\n",
        "  \n",
        "  contadorLinha = -1\n",
        "  contadorColuna = 0\n",
        "\n",
        "  for linha in linhas:\n",
        "    if(contadorLinha == -1): # workaround para evitar a primeira linha do arquivo (que já foi lida)\n",
        "      contadorLinha += 1\n",
        "    else:\n",
        "      contadorColuna = contadorLinha + 1\n",
        "      for i in linha.split():\n",
        "        arestas[contadorLinha, contadorColuna] = (int(i))\n",
        "        arestas[contadorColuna, contadorLinha] = (int(i))\n",
        "        contadorColuna += 1\n",
        "      contadorLinha += 1\n",
        "\n",
        "  return vertices, arestas"
      ],
      "metadata": {
        "id": "YznBvVN2bzp3",
        "colab": {
          "base_uri": "https://localhost:8080/"
        },
        "outputId": "13d5f9ba-1690-481e-ad56-076b4e69f94c"
      },
      "execution_count": null,
      "outputs": [
        {
          "output_type": "stream",
          "name": "stdout",
          "text": [
            "Drive already mounted at /content/drive; to attempt to forcibly remount, call drive.mount(\"/content/drive\", force_remount=True).\n"
          ]
        }
      ]
    },
    {
      "cell_type": "code",
      "source": [
        "# Criando a classe do Grafo com os vetores auxiliares e a matrix de referência\n",
        "class Grafo:\n",
        "\n",
        "\t# Função de inicialização do Grafo\n",
        "\tdef __init__(self, vertices):\n",
        "\t\tself.vertices = vertices # Número de vertices\n",
        "\t\t\n",
        "\t\tself.matriz = [] # matriz de adjacências que representa o grafo\n",
        "\t\tself.arestas = [] # array [u, v, w] com par de vértices e peso da aresta entre eles\n",
        "\t\t\n",
        "\t\tself.pesos = [] # array auxiliar com os pesos entre as arestas (similar à estrutura \"vertices[2]\")\n",
        "\t\tself.pais = [] # array auxiliar com o índice do pai do vértice i\n",
        "\t\tself.rank = [] # array auxiliar com o rank do vértice i\n",
        "\t\tself.flag = [] # array auxiliar indicando se um nó já foi considerado ou não no caminho\n",
        "\n",
        "\t# Função para adicionar uma aresta ao grafo\n",
        "\tdef adicionarAresta(self, u, v, w):\n",
        "\t\tself.arestas.append([u, v, w])\n",
        "\n",
        "\t# Função para encontrar o pai (raiz) de um vértice recursivamente\n",
        "\tdef encontrarPai(self, i):\n",
        "\t\tif self.pais[i] == i:\n",
        "\t\t\treturn i\n",
        "\t\treturn self.encontrarPai(self.pais[i])\n",
        "\n",
        "\t# Função que UNE duas árvores através de sua raiz\n",
        "\tdef union(self, x, y):\n",
        "\t\traizX = self.encontrarPai(x)\n",
        "\t\traizY = self.encontrarPai(y)\n",
        "\n",
        "\t\t# Agrega a menor árvore (por rank) na maior árvore pelo nó raiz\n",
        "\t\tif self.rank[raizX] < self.rank[raizY]:\n",
        "\t\t\tself.pais[raizX] = raizY\n",
        "\t\telif self.rank[raizX] > self.rank[raizY]:\n",
        "\t\t\tself.pais[raizY] = raizX\n",
        "\n",
        "\t\t# Caso ambos sejam iguais, escolhe um como pai e incrementa seu rank\n",
        "\t\telse:\n",
        "\t\t\tself.pais[raizY] = raizX\n",
        "\t\n",
        "\t\n",
        "\n",
        "\t# Função auxiliar para encontrar o vértice com menor distância que não está no menor caminho\n",
        "\tdef extractMin(self):\n",
        "\n",
        "\t\tmin = sys.maxsize # inicializa com \"infinito\"\n",
        "\t\tmin_index = 0 # vertice referente ao menor\n",
        "\n",
        "\t\tfor v in range(self.vertices):\n",
        "\t\t\tif self.pesos[v] < min and self.flag[v] == False:\n",
        "\t\t\t\tmin = self.pesos[v]\n",
        "\t\t\t\tmin_index = v\n",
        "\n",
        "\t\treturn min_index"
      ],
      "metadata": {
        "id": "yylAl65nt5H0"
      },
      "execution_count": null,
      "outputs": []
    },
    {
      "cell_type": "markdown",
      "source": [
        "### Implementação da Solução Gulosa KRUSKAL MST"
      ],
      "metadata": {
        "id": "3RGySp1nvjVz"
      }
    },
    {
      "cell_type": "code",
      "source": [
        "# Função Kruskal para Árvore Mínima Espalhada (MST - Minimum Spanned Tree)\n",
        "def CaminhoMinimoKruskal(grafo):\n",
        "\n",
        "\t\tarvore = [] # Arvore resultado final\n",
        "\t\ti = 0 # interação nos vértices do grafo\n",
        "\t\tarestas = 0 # interação até encontrarmos o caminho mínimo\n",
        "\n",
        "\t\t# Passo 1: Ordenar o atributo Graph pelas Arestas mais leves\n",
        "\t\tgrafo.arestas = sorted(grafo.arestas, key=lambda item: item[2]) # O peso da aresta é o terceiro elemento do vetor grafo\n",
        "\n",
        "\t\t# Re-inicializando os arrays de suporte: Pais e Rank dos vértices\n",
        "\t\tgrafo.pais = []\n",
        "\t\tgrafo.rank = []\n",
        "\t\tfor vertice in range(grafo.vertices):\n",
        "\t\t\tgrafo.pais.append(vertice) # Cada vértice inicia como seu próprio pai\n",
        "\t\t\tgrafo.rank.append(0) # cada vértice inicia com o rank zero (sem filhos)\n",
        "\n",
        "\t\t# O número de arestas para o menor caminho é o número de vértices-1\n",
        "\t\twhile arestas < grafo.vertices - 1:\n",
        "\n",
        "\t\t\t# Para cada par de vértices e sua aresta,\n",
        "\t\t\t# vamos encontrar a primeira ARESTA SEGURA para adicionar à árvore\n",
        "\t\t\tu, v, w = grafo.arestas[i]\n",
        "\t\t\tx = grafo.encontrarPai(u)\n",
        "\t\t\ty = grafo.encontrarPai(v)\n",
        "\t\t\ti = i + 1\n",
        "\n",
        "\t\t\t# Se as raizes forem diferentes, podemos incluir na árvore de forma segura\n",
        "\t\t\t# Qualquer outro caso pode ser descartado, e selecionamos o próximo elemento\n",
        "\t\t\tif x != y:\n",
        "\t\t\t\tarvore.append([u, v, w])\n",
        "\t\t\t\tgrafo.union(x, y) #chamada à função de unir 2 árvores pela raiz\n",
        "\t\t\t\tarestas = arestas + 1\n",
        "\n",
        "\t\t# Agora com a árvore pronta, podemos calcular o Caminho Mínimo\n",
        "\t\tcaminho = 0\n",
        "\t\tfor u, v, w in arvore:\n",
        "\t\t\tcaminho += w\n",
        "\t\t\n",
        "\t\treturn caminho"
      ],
      "metadata": {
        "id": "GJS5rM6Nt9b7"
      },
      "execution_count": null,
      "outputs": []
    },
    {
      "cell_type": "code",
      "source": [
        "# Chamada Principal\n",
        "path = \"/content/drive/MyDrive/Colab Notebooks/Algoritmos/\"\n",
        "file = \"dij10.txt\"\n",
        "\n",
        "# Leitura dos inputs no arquivo\n",
        "vertices, arestas = readInputs(file1)\n",
        "\n",
        "# Inicialização do Grafo com base nos inputs\n",
        "grafo = Grafo(vertices)\n",
        "#grafo.grafo = arestas\n",
        "for i in range(vertices):\n",
        "\tfor j in range(vertices):\n",
        "\t\tgrafo.adicionarAresta(i, j, arestas[i,j])\n",
        "\n",
        "#print(grafo.grafo)\n",
        "\n",
        "# Chamada à função de cálculo do caminho mínimo\n",
        "caminhoMinimo = CaminhoMinimoKruskal(grafo)\n",
        "print(\"Caminho Mínimo KRUSKAL no arquivo\", file1, \":\", caminhoMinimo)"
      ],
      "metadata": {
        "colab": {
          "base_uri": "https://localhost:8080/"
        },
        "id": "lSIo8aVQmX9D",
        "outputId": "44f11272-9b7f-44cc-9d0a-7a9d5a7ebfa7"
      },
      "execution_count": null,
      "outputs": [
        {
          "output_type": "stream",
          "name": "stdout",
          "text": [
            "Caminho Mínimo KRUSKAL no arquivo dij10.txt : 7072\n"
          ]
        }
      ]
    },
    {
      "cell_type": "markdown",
      "source": [
        "### Implementação da Solução Gulosa PRIM"
      ],
      "metadata": {
        "id": "tcnvLZJgKuIR"
      }
    },
    {
      "cell_type": "code",
      "source": [
        "# Função PRIM para Árvore Mínima Espalhada (MST - Minimum Spanned Tree)\n",
        "def CaminhoMinimoPrim(grafo):\n",
        " \n",
        "\tgrafo.pesos = [sys.maxsize] * grafo.vertices # inicia os pesos com 'infinito'\n",
        "\tgrafo.pais = [None] * grafo.vertices # Array com os pais inicia vazio\n",
        "\tgrafo.flag = [False] * grafo.vertices # vetor auxiliar acompanha se já foi incluído na arvore ou não\n",
        "\n",
        "\t# Escolhendo um vertice para iniciar, setando seu valor como zero\n",
        "\tgrafo.pesos[0] = 0 # será o menor\n",
        "\tgrafo.pais[0] = -1 # será o raiz\n",
        "    \n",
        "\tfor count in range(grafo.vertices):\n",
        "\t\t\n",
        "\t\tu = grafo.extractMin() # Encontra o menor vértice dentre os não incluídos\n",
        "\t\t\n",
        "\t\tgrafo.flag[u] = True # marca como incluído na arvore mínima\n",
        "    \n",
        "\t\t# Relaxando os nós adjacentes para identificar o próximo a ser visitado\n",
        "\t\tfor v in range(vertices):\n",
        "\t\t\t\t# grafo.arestas[u][v] será maior que zero se forem adjacentes\n",
        "\t\t\t\t# auxIncluido[v] é falso somente para nós não incluídos na arvore mínima\n",
        "        # Além disso, só troca se o peso for menor do que a Aresta já existente entre os 2 vértices\n",
        "\t\t\tif grafo.matriz[u][v] > 0 and grafo.flag[v] == False and grafo.pesos[v] > grafo.matriz[u][v]:\n",
        "\t\t\t\t\tgrafo.pesos[v] = grafo.matriz[u][v]\n",
        "\t\t\t\t\tgrafo.pais[v] = u\n",
        "\n",
        "  # Para finalizar, contar os pesos das arestas consideradas\n",
        "\tpesoTotal = 0\n",
        "\tfor i in range(1, grafo.vertices):\n",
        "\t\tpesoTotal += grafo.matriz[i][grafo.pais[i]]\n",
        "\treturn pesoTotal"
      ],
      "metadata": {
        "id": "_hz9UpYSzQiS"
      },
      "execution_count": null,
      "outputs": []
    },
    {
      "cell_type": "code",
      "source": [
        "# Chamada Principal\n",
        "\n",
        "# Leitura dos inputs no arquivo\n",
        "vertices, arestas = readInputs(file2)\n",
        "\n",
        "# Inicialização do Grafo com base nos inputs\n",
        "grafo2 = Grafo(vertices)\n",
        "grafo2.matriz = arestas\n",
        "\n",
        "# Chamada à função de cálculo do caminho mínimo\n",
        "caminhoMinimo = CaminhoMinimoPrim(grafo2)\n",
        "print(\"Caminho Mínimo PRIM no arquivo\", file2, \":\", caminhoMinimo)"
      ],
      "metadata": {
        "colab": {
          "base_uri": "https://localhost:8080/"
        },
        "id": "oB3gyyRjzv7r",
        "outputId": "8126cc55-a1a3-4d03-a100-97b740cc8db7"
      },
      "execution_count": null,
      "outputs": [
        {
          "output_type": "stream",
          "name": "stdout",
          "text": [
            "Caminho Mínimo PRIM no arquivo dij20.txt : 15238\n"
          ]
        }
      ]
    },
    {
      "cell_type": "markdown",
      "source": [
        "### Implementação da Solução Gulosa DIJKSTRA"
      ],
      "metadata": {
        "id": "9-XIiPR_VoCo"
      }
    },
    {
      "cell_type": "code",
      "source": [
        "def Dijkstra(grafo):\n",
        "\n",
        "    grafo.pesos = [sys.maxsize] * grafo.vertices # inicia os pesos com 'infinito'\n",
        "    grafo.flag = [False] * grafo.vertices # vetor auxiliar acompanha se já foi incluído na arvore ou não\n",
        "\n",
        "    grafo.pesos[0] = 0\n",
        "\n",
        "    for cout in range(grafo.vertices):\n",
        "      u = grafo.extractMin()\n",
        "      grafo.flag[u] = True\n",
        "\n",
        "      for v in range(grafo.vertices):\n",
        "        if (grafo.matriz[u][v] > 0 and grafo.flag[v] == False and grafo.pesos[v] > grafo.pesos[u] + grafo.matriz[u][v]):\n",
        "          grafo.pesos[v] = grafo.pesos[u] + grafo.matriz[u][v]\n",
        "      \n",
        "    return grafo.pesos[grafo.vertices - 1]"
      ],
      "metadata": {
        "id": "iC4N7qvV9HyF"
      },
      "execution_count": null,
      "outputs": []
    },
    {
      "cell_type": "code",
      "source": [
        "# Chamada Principal\n",
        "\n",
        "# Leitura dos inputs no arquivo\n",
        "vertices, arestas = readInputs(file4)\n",
        "\n",
        "# Inicialização do Grafo com base nos inputs\n",
        "grafo3 = Grafo(vertices)\n",
        "grafo3.matriz = arestas\n",
        "\n",
        "# Chamada à função de cálculo do caminho mínimo\n",
        "caminhoMinimo = Dijkstra(grafo3)\n",
        "print(\"Caminho Mínimo DIJKSTRA no arquivo\", file4, \":\", caminhoMinimo)"
      ],
      "metadata": {
        "colab": {
          "base_uri": "https://localhost:8080/"
        },
        "id": "3LgE7Yi1BCWF",
        "outputId": "76bab089-28b2-4920-f190-cad8569b74aa"
      },
      "execution_count": null,
      "outputs": [
        {
          "output_type": "stream",
          "name": "stdout",
          "text": [
            "Caminho Mínimo DIJKSTRA no arquivo dij50.txt : 6764\n"
          ]
        }
      ]
    }
  ]
}