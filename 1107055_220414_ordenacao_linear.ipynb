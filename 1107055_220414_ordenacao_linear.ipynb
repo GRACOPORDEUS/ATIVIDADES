{
  "nbformat": 4,
  "nbformat_minor": 0,
  "metadata": {
    "colab": {
      "name": "1107055_220414_ordenacao_linear.ipynb",
      "provenance": [],
      "authorship_tag": "ABX9TyPnjUzErRw3vtiLBLFSoHt9",
      "include_colab_link": true
    },
    "kernelspec": {
      "name": "python3",
      "display_name": "Python 3"
    },
    "language_info": {
      "name": "python"
    }
  },
  "cells": [
    {
      "cell_type": "markdown",
      "metadata": {
        "id": "view-in-github",
        "colab_type": "text"
      },
      "source": [
        "<a href=\"https://colab.research.google.com/github/GRACOPORDEUS/atividades_mestrado/blob/main/1107055_220414_ordenacao_linear.ipynb\" target=\"_parent\"><img src=\"https://colab.research.google.com/assets/colab-badge.svg\" alt=\"Open In Colab\"/></a>"
      ]
    },
    {
      "cell_type": "code",
      "source": [
        "import numpy as np\n",
        "import pandas as pd\n",
        "from datetime import *\n",
        "import matplotlib.pyplot as plt\n",
        "\n",
        "from google.colab import drive\n",
        "import os"
      ],
      "metadata": {
        "id": "pGYlQ31VQlJz"
      },
      "execution_count": 2,
      "outputs": []
    },
    {
      "cell_type": "code",
      "source": [
        "drive.mount('/content/gdrive')"
      ],
      "metadata": {
        "colab": {
          "base_uri": "https://localhost:8080/"
        },
        "id": "JjgW8zfJ7G75",
        "outputId": "8441c00f-5522-4d45-c2cc-f4d397695611"
      },
      "execution_count": 9,
      "outputs": [
        {
          "output_type": "stream",
          "name": "stdout",
          "text": [
            "Mounted at /content/gdrive\n"
          ]
        }
      ]
    },
    {
      "cell_type": "code",
      "source": [
        "dir = '/content/gdrive/MyDrive/instancias_num/'\n",
        "\n",
        "insts = os.listdir('./gdrive/MyDrive/instancias_num/')"
      ],
      "metadata": {
        "id": "gUFRtwCjQmqV"
      },
      "execution_count": 12,
      "outputs": []
    },
    {
      "cell_type": "code",
      "source": [
        "arr = np.loadtxt(dir + insts[3])\n",
        "\n",
        "plt.plot(arr)\n",
        "plt.show()\n",
        "len(arr)"
      ],
      "metadata": {
        "colab": {
          "base_uri": "https://localhost:8080/",
          "height": 283
        },
        "id": "TWXd6zt9_1Ip",
        "outputId": "819c58cc-2d1f-4aec-a184-88ebce9af573"
      },
      "execution_count": 14,
      "outputs": [
        {
          "output_type": "display_data",
          "data": {
            "text/plain": [
              "<Figure size 432x288 with 1 Axes>"
            ],
            "image/png": "[encoded data removed]"
          },
          "metadata": {
            "needs_background": "light"
          }
        },
        {
          "output_type": "execute_result",
          "data": {
            "text/plain": [
              "1001"
            ]
          },
          "metadata": {},
          "execution_count": 14
        }
      ]
    },
    {
      "cell_type": "markdown",
      "source": [
        "Counting Sort"
      ],
      "metadata": {
        "id": "tPdriks-QsIV"
      }
    },
    {
      "cell_type": "code",
      "source": [
        "def count_sort(arr):\n",
        "    max = int(np.max(arr))\n",
        "    min = int(np.min(arr))\n",
        "    n = max - min + 1\n",
        "\n",
        "    C = [0] * n\n",
        "    B = [0] * len(arr)\n",
        "\n",
        "    for i in range(0, len(arr)):\n",
        "        C[arr[i]- min] += 1\n",
        "  \n",
        "    for i in range(1, len(C)):\n",
        "        C[i] += C[i-1]\n",
        "  \n",
        "    for i in range(len(arr)-1, -1, -1):\n",
        "        B[C[arr[i] - min] - 1] = arr[i]\n",
        "        C[arr[i] - min] -= 1\n",
        "\n",
        "    for i in range(0, len(arr)):\n",
        "        arr[i] = B[i]\n",
        "  \n",
        "    return arr"
      ],
      "metadata": {
        "id": "9asuY3HHiD2q"
      },
      "execution_count": 16,
      "outputs": []
    },
    {
      "cell_type": "code",
      "source": [
        "instancia = dir + insts[3]\n",
        "\n",
        "arr = pd.read_csv(instancia).values.flatten()\n",
        "start = datetime.now()\n",
        "count_sort(arr)\n",
        "end = datetime.now()\n",
        "\n",
        "plt.plot(arr)\n",
        "plt.show()\n",
        "print('O tempo de execução foi:',end - start)"
      ],
      "metadata": {
        "colab": {
          "base_uri": "https://localhost:8080/",
          "height": 283
        },
        "id": "QBOosGenkY9s",
        "outputId": "893f3a62-dc82-4afa-af6a-8550e5edacdb"
      },
      "execution_count": 17,
      "outputs": [
        {
          "output_type": "display_data",
          "data": {
            "text/plain": [
              "<Figure size 432x288 with 1 Axes>"
            ],
            "image/png": "[encoded data removed]"
          },
          "metadata": {
            "needs_background": "light"
          }
        },
        {
          "output_type": "stream",
          "name": "stdout",
          "text": [
            "O tempo de execução foi: 0:00:00.017784\n"
          ]
        }
      ]
    },
    {
      "cell_type": "markdown",
      "source": [
        "Radix Sort"
      ],
      "metadata": {
        "id": "jVGlIsi4nOz_"
      }
    },
    {
      "cell_type": "code",
      "source": [
        "def radix_sort(arr):\n",
        "    max1 = np.max(arr)\n",
        "    exp = 1\n",
        "\n",
        "    while max1 / exp > 1:\n",
        "        count_sort(arr)\n",
        "        exp *= 10"
      ],
      "metadata": {
        "id": "UmnBxc3mxCzz"
      },
      "execution_count": 18,
      "outputs": []
    },
    {
      "cell_type": "code",
      "source": [
        "instancia = dir + insts[3]\n",
        "\n",
        "arr = pd.read_csv(instancia).values.flatten()\n",
        "start = datetime.now()\n",
        "radix_sort(arr)\n",
        "end = datetime.now()\n",
        "\n",
        "plt.plot(arr)\n",
        "plt.show()\n",
        "print('O tempo de execução foi:',end - start)"
      ],
      "metadata": {
        "colab": {
          "base_uri": "https://localhost:8080/",
          "height": 283
        },
        "id": "Rd2oLGa6xk9I",
        "outputId": "91ceeedc-74d2-41a7-ba97-41c24ee70cbb"
      },
      "execution_count": 21,
      "outputs": [
        {
          "output_type": "display_data",
          "data": {
            "text/plain": [
              "<Figure size 432x288 with 1 Axes>"
            ],
            "image/png": "[encoded data removed]"
          },
          "metadata": {
            "needs_background": "light"
          }
        },
        {
          "output_type": "stream",
          "name": "stdout",
          "text": [
            "O tempo de execução foi: 0:00:00.338290\n"
          ]
        }
      ]
    },
    {
      "cell_type": "markdown",
      "source": [
        "Bucket Sort"
      ],
      "metadata": {
        "id": "Av-2ImMazmp8"
      }
    },
    {
      "cell_type": "code",
      "source": [
        "def insertion_sort(A):\n",
        "  for i in range(1, len(A)):\n",
        "    chave = A[i]\n",
        "    j = i - 1\n",
        "    while j >= 0 and A[j] > chave:\n",
        "      A[j+1] = A[j]\n",
        "      j = j - 1\n",
        "    A[j+1] = chave\n",
        "  return A\n",
        "\n",
        "def bucket_sort(arr):\n",
        "    bucket = []\n",
        "\n",
        "    for i in range(len(arr)):\n",
        "        bucket.append([])\n",
        "\n",
        "    for j in arr:\n",
        "        index_b = int(10 * j)\n",
        "        bucket[index_b].append(j)\n",
        "\n",
        "    for i in range(len(arr)):\n",
        "        bucket[i] = insertion_sort(bucket[i])\n",
        "\n",
        "    k = 0\n",
        "    for i in range(len(arr)):\n",
        "        for j in range(len(bucket[i])):\n",
        "            arr[k] = bucket[i][j]\n",
        "            k += 1\n",
        "    return arr"
      ],
      "metadata": {
        "id": "71G3BywL4zPA"
      },
      "execution_count": 43,
      "outputs": []
    },
    {
      "cell_type": "code",
      "source": [
        "instancia = dir + insts[3]\n",
        "\n",
        "arr = pd.read_csv(instancia).values.flatten()\n",
        "arr = np.trunc(arr/1000)\n",
        "\n",
        "start = datetime.now()\n",
        "bucket_sort(arr)\n",
        "end = datetime.now()\n",
        "\n",
        "plt.plot(arr)\n",
        "plt.show()\n",
        "print('O tempo de execução foi:',end - start)"
      ],
      "metadata": {
        "colab": {
          "base_uri": "https://localhost:8080/",
          "height": 283
        },
        "id": "gyNNvarzyKys",
        "outputId": "d542f045-f5b2-44a1-883a-6a4121d1bf91"
      },
      "execution_count": 45,
      "outputs": [
        {
          "output_type": "display_data",
          "data": {
            "text/plain": [
              "<Figure size 432x288 with 1 Axes>"
            ],
            "image/png": "[encoded data removed]"
          },
          "metadata": {
            "needs_background": "light"
          }
        },
        {
          "output_type": "stream",
          "name": "stdout",
          "text": [
            "O tempo de execução foi: 0:00:00.015899\n"
          ]
        }
      ]
    },
    {
      "cell_type": "code",
      "source": [
        ""
      ],
      "metadata": {
        "id": "X3dI5zF6FqCr"
      },
      "execution_count": null,
      "outputs": []
    }
  ]
}