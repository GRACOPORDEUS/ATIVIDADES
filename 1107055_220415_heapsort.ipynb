{
  "nbformat": 4,
  "nbformat_minor": 0,
  "metadata": {
    "colab": {
      "name": "1107055_220415_heapsort.ipynb",
      "provenance": [],
      "authorship_tag": "ABX9TyNuPVxPFnwypyVNT2FSn8NT",
      "include_colab_link": true
    },
    "kernelspec": {
      "name": "python3",
      "display_name": "Python 3"
    },
    "language_info": {
      "name": "python"
    }
  },
  "cells": [
    {
      "cell_type": "markdown",
      "metadata": {
        "id": "view-in-github",
        "colab_type": "text"
      },
      "source": [
        "<a href=\"https://colab.research.google.com/github/GRACOPORDEUS/atividades_mestrado/blob/main/1107055_220415_heapsort.ipynb\" target=\"_parent\"><img src=\"https://colab.research.google.com/assets/colab-badge.svg\" alt=\"Open In Colab\"/></a>"
      ]
    },
    {
      "cell_type": "code",
      "source": [
        "import numpy as np\n",
        "import pandas as pd\n",
        "from datetime import *\n",
        "import matplotlib.pyplot as plt\n",
        "\n",
        "from google.colab import drive\n",
        "import os"
      ],
      "metadata": {
        "id": "pGYlQ31VQlJz"
      },
      "execution_count": 3,
      "outputs": []
    },
    {
      "cell_type": "code",
      "source": [
        "drive.mount('/content/gdrive')"
      ],
      "metadata": {
        "id": "JjgW8zfJ7G75"
      },
      "execution_count": null,
      "outputs": []
    },
    {
      "cell_type": "code",
      "source": [
        "dir = '/content/gdrive/MyDrive/instancias_num/'\n",
        "\n",
        "insts = os.listdir('./gdrive/MyDrive/instancias_num/')"
      ],
      "metadata": {
        "id": "gUFRtwCjQmqV"
      },
      "execution_count": 7,
      "outputs": []
    },
    {
      "cell_type": "code",
      "source": [
        "arr = np.loadtxt(dir + insts[3])\n",
        "\n",
        "plt.plot(arr)\n",
        "plt.show()\n",
        "len(arr)"
      ],
      "metadata": {
        "colab": {
          "base_uri": "https://localhost:8080/",
          "height": 294
        },
        "id": "TWXd6zt9_1Ip",
        "outputId": "b196c0d5-df36-44b8-8eb3-349d306ad585"
      },
      "execution_count": 8,
      "outputs": [
        {
          "output_type": "display_data",
          "data": {
            "text/plain": [
              "<Figure size 432x288 with 1 Axes>"
            ],
            "image/png": "[encoded data removed]"
          },
          "metadata": {
            "needs_background": "light"
          }
        },
        {
          "output_type": "execute_result",
          "data": {
            "text/plain": [
              "1001"
            ]
          },
          "metadata": {},
          "execution_count": 8
        }
      ]
    },
    {
      "cell_type": "markdown",
      "source": [
        "Counting Sort"
      ],
      "metadata": {
        "id": "tPdriks-QsIV"
      }
    },
    {
      "cell_type": "code",
      "source": [
        "def heap_ify(arr, n, i):\n",
        "    maior = i\n",
        "    l = 2 * i + 1\n",
        "    r = 2 * i + 2\n",
        "\n",
        "    if l < n and arr[i] < arr[l]:\n",
        "        maior = l\n",
        "\n",
        "    if r < n and arr[maior] < arr[r]:\n",
        "        maior = r\n",
        "\n",
        "    if maior != i:\n",
        "        arr[i], arr[maior] = arr[maior], arr[i]\n",
        "        heap_ify(arr, n, maior)\n",
        "\n",
        "\n",
        "def heap_sort(arr):\n",
        "    n = len(arr)\n",
        "\n",
        "    for i in range(n//2, -1, -1):\n",
        "        heap_ify(arr, n, i)\n",
        "\n",
        "    for i in range(n-1, 0, -1):\n",
        "        arr[i], arr[0] = arr[0], arr[i]\n",
        "        heap_ify(arr, i, 0)\n"
      ],
      "metadata": {
        "id": "9asuY3HHiD2q"
      },
      "execution_count": 10,
      "outputs": []
    },
    {
      "cell_type": "code",
      "source": [
        "instancia = dir + insts[3]\n",
        "\n",
        "arr = pd.read_csv(instancia).values.flatten()\n",
        "start = datetime.now()\n",
        "heap_sort(arr)\n",
        "end = datetime.now()\n",
        "\n",
        "plt.plot(arr)\n",
        "plt.show()\n",
        "print('O tempo de execução foi:',end - start)"
      ],
      "metadata": {
        "colab": {
          "base_uri": "https://localhost:8080/",
          "height": 294
        },
        "id": "QBOosGenkY9s",
        "outputId": "69f4e9dd-fb68-499a-8962-ba07b51350d9"
      },
      "execution_count": 11,
      "outputs": [
        {
          "output_type": "display_data",
          "data": {
            "text/plain": [
              "<Figure size 432x288 with 1 Axes>"
            ],
            "image/png": "[encoded data removed]"
          },
          "metadata": {
            "needs_background": "light"
          }
        },
        {
          "output_type": "stream",
          "name": "stdout",
          "text": [
            "O tempo de execução foi: 0:00:00.020212\n"
          ]
        }
      ]
    }
  ]
}