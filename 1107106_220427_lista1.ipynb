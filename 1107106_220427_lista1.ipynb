{
  "nbformat": 4,
  "nbformat_minor": 0,
  "metadata": {
    "colab": {
      "name": "1107106_220427_lista1.ipynb",
      "provenance": [],
      "authorship_tag": "ABX9TyM/FwDRcce98ayGIfhYOmWN",
      "include_colab_link": true
    },
    "kernelspec": {
      "name": "python3",
      "display_name": "Python 3"
    },
    "language_info": {
      "name": "python"
    }
  },
  "cells": [
    {
      "cell_type": "markdown",
      "metadata": {
        "id": "view-in-github",
        "colab_type": "text"
      },
      "source": [
        "<a href=\"https://colab.research.google.com/github/GRACOPORDEUS/atividades_mestrado/blob/main/1107106_220427_lista1.ipynb\" target=\"_parent\"><img src=\"https://colab.research.google.com/assets/colab-badge.svg\" alt=\"Open In Colab\"/></a>"
      ]
    },
    {
      "cell_type": "code",
      "execution_count": 103,
      "metadata": {
        "id": "avFhBTvkIKup"
      },
      "outputs": [],
      "source": [
        "from mpl_toolkits.mplot3d import Axes3D\n",
        "import matplotlib.pyplot as plt\n",
        "\n",
        "from itertools import product\n",
        "import pandas as pd\n",
        "import numpy as np\n",
        "\n",
        "from sklearn.linear_model import Perceptron\n",
        "from sklearn.metrics import accuracy_score"
      ]
    },
    {
      "cell_type": "markdown",
      "source": [
        "### Qustão 1"
      ],
      "metadata": {
        "id": "Ms37XfE3ABo3"
      }
    },
    {
      "cell_type": "markdown",
      "source": [
        "**Criando base de dados**"
      ],
      "metadata": {
        "id": "1SC0Y4kJAIvP"
      }
    },
    {
      "cell_type": "code",
      "source": [
        "def func_classes(df):\n",
        "\n",
        "  x = df[0]\n",
        "  y = df[1]\n",
        "  z = df[2]\n",
        "\n",
        "  if (x <= 0.1) & (y <= 0.1) & (z <= 0.1): Classe = 1\n",
        "  elif (x <= 0.1) & (y <= 0.1) & (z >= 0.9): Classe = 2\n",
        "  elif (x <= 0.1) & (y >= 0.9) & (z <= 0.1): Classe = 3\n",
        "  elif (x <= 0.1) & (y >= 0.9) & (z >= 0.9): Classe = 4\n",
        "  elif (x >= 0.9) & (y <= 0.1) & (z <= 0.1): Classe = 5\n",
        "  elif (x >= 0.9) & (y <= 0.1) & (z >= 0.9): Classe = 6\n",
        "  elif (x >= 0.9) & (y >= 0.9) & (z <= 0.1): Classe = 7\n",
        "  elif (x >= 0.9) & (y >= 0.9) & (z >= 0.9): Classe = 8\n",
        "  else: Classe = 0\n",
        "\n",
        "  return Classe"
      ],
      "metadata": {
        "id": "38Blaf9sb3R8"
      },
      "execution_count": 105,
      "outputs": []
    },
    {
      "cell_type": "markdown",
      "source": [
        "Dados de treino"
      ],
      "metadata": {
        "id": "dCLfEBw4IlX8"
      }
    },
    {
      "cell_type": "code",
      "source": [
        "top_x = np.arange(0.85, 1, 0.01)\n",
        "top_y = np.arange(0.85, 1, 0.01)\n",
        "top_z = np.arange(0.85, 1, 0.01)\n",
        "bot_x = np.arange(0, 0.15, 0.01)\n",
        "bot_y = np.arange(0, 0.15, 0.01)\n",
        "bot_z = np.arange(0, 0.15, 0.01)\n",
        "\n",
        "x = np.array([top_x, bot_x])\n",
        "y = np.array([top_y, bot_y])\n",
        "z = np.array([top_z, bot_z])"
      ],
      "metadata": {
        "colab": {
          "base_uri": "https://localhost:8080/"
        },
        "id": "Ak4a7XS_MFY-",
        "outputId": "35bb018e-8bbf-4283-c36e-0c9cd7ddb1e7"
      },
      "execution_count": 110,
      "outputs": [
        {
          "output_type": "stream",
          "name": "stderr",
          "text": [
            "/usr/local/lib/python3.7/dist-packages/ipykernel_launcher.py:8: VisibleDeprecationWarning: Creating an ndarray from ragged nested sequences (which is a list-or-tuple of lists-or-tuples-or ndarrays with different lengths or shapes) is deprecated. If you meant to do this, you must specify 'dtype=object' when creating the ndarray.\n",
            "  \n",
            "/usr/local/lib/python3.7/dist-packages/ipykernel_launcher.py:9: VisibleDeprecationWarning: Creating an ndarray from ragged nested sequences (which is a list-or-tuple of lists-or-tuples-or ndarrays with different lengths or shapes) is deprecated. If you meant to do this, you must specify 'dtype=object' when creating the ndarray.\n",
            "  if __name__ == '__main__':\n",
            "/usr/local/lib/python3.7/dist-packages/ipykernel_launcher.py:10: VisibleDeprecationWarning: Creating an ndarray from ragged nested sequences (which is a list-or-tuple of lists-or-tuples-or ndarrays with different lengths or shapes) is deprecated. If you meant to do this, you must specify 'dtype=object' when creating the ndarray.\n",
            "  # Remove the CWD from sys.path while we load stuff.\n"
          ]
        }
      ]
    },
    {
      "cell_type": "code",
      "source": [
        "vertices = pd.DataFrame(product(x, y, z), columns=[\"x\", \"y\", \"z\"]) \\\n",
        "    .explode(\"x\") \\\n",
        "    .explode(\"y\") \\\n",
        "    .explode(\"z\") \\\n",
        "    .drop_duplicates() \\\n",
        "    .reset_index(drop=True)\n",
        "\n",
        "vertices[\"classes\"] = \"\""
      ],
      "metadata": {
        "id": "v0vYiYOTVcoM"
      },
      "execution_count": 111,
      "outputs": []
    },
    {
      "cell_type": "code",
      "source": [
        "for i in range(len(vertices)):\n",
        "  df = vertices.loc[i]\n",
        "  vertices.classes[i] = func_classes(df)"
      ],
      "metadata": {
        "id": "l80P2FOeku4f"
      },
      "execution_count": 112,
      "outputs": []
    },
    {
      "cell_type": "markdown",
      "source": [
        "Dados de teste"
      ],
      "metadata": {
        "id": "ABNQKwRuItbH"
      }
    },
    {
      "cell_type": "code",
      "source": [
        "ax = plt.axes(projection=\"3d\")\n",
        "\n",
        "x_data = np.random.randint(0, 100, (100000,))/100\n",
        "y_data = np.random.randint(0, 100, (100000,))/100\n",
        "z_data = np.random.randint(0, 100, (100000,))/100\n",
        "\n",
        "ax.scatter(x_data, y_data, z_data)"
      ],
      "metadata": {
        "colab": {
          "base_uri": "https://localhost:8080/",
          "height": 266
        },
        "id": "A5Wuxl_9rN0Y",
        "outputId": "d383ea4b-4d3e-43f6-f317-a0d5c83bc6f6"
      },
      "execution_count": 58,
      "outputs": [
        {
          "output_type": "execute_result",
          "data": {
            "text/plain": [
              "<mpl_toolkits.mplot3d.art3d.Path3DCollection at 0x7f9c7be0e5d0>"
            ]
          },
          "metadata": {},
          "execution_count": 58
        },
        {
          "output_type": "display_data",
          "data": {
            "text/plain": [
              "<Figure size 432x288 with 1 Axes>"
            ],
            "image/png": "[encoded data removed]"
          },
          "metadata": {
            "needs_background": "light"
          }
        }
      ]
    },
    {
      "cell_type": "code",
      "source": [
        "d = {\"x\": x_data, \n",
        "     \"y\": y_data, \n",
        "     \"z\": z_data}\n",
        "\n",
        "test = pd.DataFrame(data = d)\n",
        "test[\"y_test\"] = \"\""
      ],
      "metadata": {
        "id": "25SLdfaKBixg"
      },
      "execution_count": 88,
      "outputs": []
    },
    {
      "cell_type": "code",
      "source": [
        "for i in range(len(test)):\n",
        "  df = test.loc[i]\n",
        "  test.y_test[i] = func_classes(df)"
      ],
      "metadata": {
        "colab": {
          "base_uri": "https://localhost:8080/"
        },
        "id": "E1pnadUdEd6_",
        "outputId": "cc6e0abd-8781-4ecb-95fb-af7a5e7eef74"
      },
      "execution_count": 106,
      "outputs": [
        {
          "output_type": "stream",
          "name": "stderr",
          "text": [
            "/usr/local/lib/python3.7/dist-packages/ipykernel_launcher.py:3: SettingWithCopyWarning: \n",
            "A value is trying to be set on a copy of a slice from a DataFrame\n",
            "\n",
            "See the caveats in the documentation: https://pandas.pydata.org/pandas-docs/stable/user_guide/indexing.html#returning-a-view-versus-a-copy\n",
            "  This is separate from the ipykernel package so we can avoid doing imports until\n"
          ]
        }
      ]
    },
    {
      "cell_type": "markdown",
      "source": [
        "**Modelagem**"
      ],
      "metadata": {
        "id": "EzzZqOLD__En"
      }
    },
    {
      "cell_type": "code",
      "source": [
        "X_train = vertices[[\"x\",\"y\",\"z\"]]\n",
        "y_train = vertices[[\"classes\"]].astype('int')"
      ],
      "metadata": {
        "id": "CaRl_2dBAAdX"
      },
      "execution_count": 115,
      "outputs": []
    },
    {
      "cell_type": "code",
      "source": [
        "n_iter = 10\n",
        "eta = 0.1\n",
        "\n",
        "model = Perceptron()\n",
        "\n",
        "model.fit(X_train, y_train)"
      ],
      "metadata": {
        "colab": {
          "base_uri": "https://localhost:8080/"
        },
        "id": "TuOC14FX8rO-",
        "outputId": "2a1964f5-a362-4046-c294-6d8be5c9b7cf"
      },
      "execution_count": 116,
      "outputs": [
        {
          "output_type": "stream",
          "name": "stderr",
          "text": [
            "/usr/local/lib/python3.7/dist-packages/sklearn/utils/validation.py:993: DataConversionWarning: A column-vector y was passed when a 1d array was expected. Please change the shape of y to (n_samples, ), for example using ravel().\n",
            "  y = column_or_1d(y, warn=True)\n"
          ]
        },
        {
          "output_type": "execute_result",
          "data": {
            "text/plain": [
              "Perceptron()"
            ]
          },
          "metadata": {},
          "execution_count": 116
        }
      ]
    },
    {
      "cell_type": "markdown",
      "source": [
        "Testando"
      ],
      "metadata": {
        "id": "EYwYqfo3Bgnh"
      }
    },
    {
      "cell_type": "code",
      "source": [
        "X_test = test[[\"x\",\"y\",\"z\"]]\n",
        "y_test = test[[\"y_test\"]].astype('int')"
      ],
      "metadata": {
        "id": "tegUayA0FE88"
      },
      "execution_count": 107,
      "outputs": []
    },
    {
      "cell_type": "code",
      "source": [
        "y_pred = model.predict(X_test)"
      ],
      "metadata": {
        "id": "nbgENKMzClnK"
      },
      "execution_count": 117,
      "outputs": []
    },
    {
      "cell_type": "code",
      "source": [
        "print(accuracy_score(y_test, y_pred))"
      ],
      "metadata": {
        "colab": {
          "base_uri": "https://localhost:8080/"
        },
        "id": "TtDti581EFJq",
        "outputId": "32095c6c-d097-4472-d595-d2541efb4e68"
      },
      "execution_count": 118,
      "outputs": [
        {
          "output_type": "stream",
          "name": "stdout",
          "text": [
            "0.99051\n"
          ]
        }
      ]
    },
    {
      "cell_type": "code",
      "source": [
        "plot_test = test[test[\"y_test\"] != 0]\n",
        "\n",
        "plot_pred = test\n",
        "plot_pred[\"y_pred\"] = y_pred\n",
        "plot_pred = plot_pred[plot_pred[\"y_pred\"] != 0]\n",
        "plot_pred = plot_pred[plot_pred[\"y_pred\"] != plot_pred[\"y_test\"]]"
      ],
      "metadata": {
        "id": "le8LRsMGPbF0"
      },
      "execution_count": 168,
      "outputs": []
    },
    {
      "cell_type": "code",
      "source": [
        "fig = plt.figure()\n",
        "ax = fig.add_subplot(projection='3d')\n",
        "\n",
        "ax.scatter(plot_test.x, \n",
        "           plot_test.y, \n",
        "           plot_test.z,\n",
        "           color='blue',\n",
        "           linewidth=0.01)\n",
        "\n",
        "ax.scatter(plot_pred.x, \n",
        "           plot_pred.y, \n",
        "           plot_pred.z,\n",
        "           color='orange',\n",
        "           linewidth=0.01)\n",
        "\n",
        "plt.show()"
      ],
      "metadata": {
        "colab": {
          "base_uri": "https://localhost:8080/",
          "height": 248
        },
        "id": "WtkXDGBnMdFY",
        "outputId": "b52b807b-3e37-4a98-a0fe-a01615048f2d"
      },
      "execution_count": 169,
      "outputs": [
        {
          "output_type": "display_data",
          "data": {
            "text/plain": [
              "<Figure size 432x288 with 1 Axes>"
            ],
            "image/png": "[encoded data removed]"
          },
          "metadata": {
            "needs_background": "light"
          }
        }
      ]
    },
    {
      "cell_type": "code",
      "source": [
        "plot_pred"
      ],
      "metadata": {
        "colab": {
          "base_uri": "https://localhost:8080/",
          "height": 423
        },
        "id": "MrwiXDApUB4Q",
        "outputId": "a2671f34-23cb-4b4e-be46-d5ace99cca20"
      },
      "execution_count": 170,
      "outputs": [
        {
          "output_type": "execute_result",
          "data": {
            "text/plain": [
              "          x     y     z y_test  y_pred\n",
              "75     0.96  0.02  0.12      0       5\n",
              "180    0.89  0.04  0.03      0       5\n",
              "357    0.04  0.93  0.12      0       3\n",
              "617    0.02  0.97  0.89      0       4\n",
              "790    0.05  0.99  0.20      0       3\n",
              "...     ...   ...   ...    ...     ...\n",
              "99558  0.99  0.14  0.05      0       5\n",
              "99746  0.02  0.99  0.14      0       3\n",
              "99772  0.12  0.99  0.16      0       3\n",
              "99954  0.10  0.88  0.01      0       3\n",
              "99974  0.12  0.99  0.08      0       3\n",
              "\n",
              "[597 rows x 5 columns]"
            ],
            "text/html": [
              "\n",
              "  <div id=\"df-505f5943-f50a-4a2b-b831-e4134235b4d2\">\n",
              "    <div class=\"colab-df-container\">\n",
              "      <div>\n",
              "<style scoped>\n",
              "    .dataframe tbody tr th:only-of-type {\n",
              "        vertical-align: middle;\n",
              "    }\n",
              "\n",
              "    .dataframe tbody tr th {\n",
              "        vertical-align: top;\n",
              "    }\n",
              "\n",
              "    .dataframe thead th {\n",
              "        text-align: right;\n",
              "    }\n",
              "</style>\n",
              "<table border=\"1\" class=\"dataframe\">\n",
              "  <thead>\n",
              "    <tr style=\"text-align: right;\">\n",
              "      <th></th>\n",
              "      <th>x</th>\n",
              "      <th>y</th>\n",
              "      <th>z</th>\n",
              "      <th>y_test</th>\n",
              "      <th>y_pred</th>\n",
              "    </tr>\n",
              "  </thead>\n",
              "  <tbody>\n",
              "    <tr>\n",
              "      <th>75</th>\n",
              "      <td>0.96</td>\n",
              "      <td>0.02</td>\n",
              "      <td>0.12</td>\n",
              "      <td>0</td>\n",
              "      <td>5</td>\n",
              "    </tr>\n",
              "    <tr>\n",
              "      <th>180</th>\n",
              "      <td>0.89</td>\n",
              "      <td>0.04</td>\n",
              "      <td>0.03</td>\n",
              "      <td>0</td>\n",
              "      <td>5</td>\n",
              "    </tr>\n",
              "    <tr>\n",
              "      <th>357</th>\n",
              "      <td>0.04</td>\n",
              "      <td>0.93</td>\n",
              "      <td>0.12</td>\n",
              "      <td>0</td>\n",
              "      <td>3</td>\n",
              "    </tr>\n",
              "    <tr>\n",
              "      <th>617</th>\n",
              "      <td>0.02</td>\n",
              "      <td>0.97</td>\n",
              "      <td>0.89</td>\n",
              "      <td>0</td>\n",
              "      <td>4</td>\n",
              "    </tr>\n",
              "    <tr>\n",
              "      <th>790</th>\n",
              "      <td>0.05</td>\n",
              "      <td>0.99</td>\n",
              "      <td>0.20</td>\n",
              "      <td>0</td>\n",
              "      <td>3</td>\n",
              "    </tr>\n",
              "    <tr>\n",
              "      <th>...</th>\n",
              "      <td>...</td>\n",
              "      <td>...</td>\n",
              "      <td>...</td>\n",
              "      <td>...</td>\n",
              "      <td>...</td>\n",
              "    </tr>\n",
              "    <tr>\n",
              "      <th>99558</th>\n",
              "      <td>0.99</td>\n",
              "      <td>0.14</td>\n",
              "      <td>0.05</td>\n",
              "      <td>0</td>\n",
              "      <td>5</td>\n",
              "    </tr>\n",
              "    <tr>\n",
              "      <th>99746</th>\n",
              "      <td>0.02</td>\n",
              "      <td>0.99</td>\n",
              "      <td>0.14</td>\n",
              "      <td>0</td>\n",
              "      <td>3</td>\n",
              "    </tr>\n",
              "    <tr>\n",
              "      <th>99772</th>\n",
              "      <td>0.12</td>\n",
              "      <td>0.99</td>\n",
              "      <td>0.16</td>\n",
              "      <td>0</td>\n",
              "      <td>3</td>\n",
              "    </tr>\n",
              "    <tr>\n",
              "      <th>99954</th>\n",
              "      <td>0.10</td>\n",
              "      <td>0.88</td>\n",
              "      <td>0.01</td>\n",
              "      <td>0</td>\n",
              "      <td>3</td>\n",
              "    </tr>\n",
              "    <tr>\n",
              "      <th>99974</th>\n",
              "      <td>0.12</td>\n",
              "      <td>0.99</td>\n",
              "      <td>0.08</td>\n",
              "      <td>0</td>\n",
              "      <td>3</td>\n",
              "    </tr>\n",
              "  </tbody>\n",
              "</table>\n",
              "<p>597 rows × 5 columns</p>\n",
              "</div>\n",
              "      <button class=\"colab-df-convert\" onclick=\"convertToInteractive('df-505f5943-f50a-4a2b-b831-e4134235b4d2')\"\n",
              "              title=\"Convert this dataframe to an interactive table.\"\n",
              "              style=\"display:none;\">\n",
              "        \n",
              "  <svg xmlns=\"http://www.w3.org/2000/svg\" height=\"24px\"viewBox=\"0 0 24 24\"\n",
              "       width=\"24px\">\n",
              "    <path d=\"M0 0h24v24H0V0z\" fill=\"none\"/>\n",
              "    <path d=\"M18.56 5.44l.94 2.06.94-2.06 2.06-.94-2.06-.94-.94-2.06-.94 2.06-2.06.94zm-11 1L8.5 8.5l.94-2.06 2.06-.94-2.06-.94L8.5 2.5l-.94 2.06-2.06.94zm10 10l.94 2.06.94-2.06 2.06-.94-2.06-.94-.94-2.06-.94 2.06-2.06.94z\"/><path d=\"M17.41 7.96l-1.37-1.37c-.4-.4-.92-.59-1.43-.59-.52 0-1.04.2-1.43.59L10.3 9.45l-7.72 7.72c-.78.78-.78 2.05 0 2.83L4 21.41c.39.39.9.59 1.41.59.51 0 1.02-.2 1.41-.59l7.78-7.78 2.81-2.81c.8-.78.8-2.07 0-2.86zM5.41 20L4 18.59l7.72-7.72 1.47 1.35L5.41 20z\"/>\n",
              "  </svg>\n",
              "      </button>\n",
              "      \n",
              "  <style>\n",
              "    .colab-df-container {\n",
              "      display:flex;\n",
              "      flex-wrap:wrap;\n",
              "      gap: 12px;\n",
              "    }\n",
              "\n",
              "    .colab-df-convert {\n",
              "      background-color: #E8F0FE;\n",
              "      border: none;\n",
              "      border-radius: 50%;\n",
              "      cursor: pointer;\n",
              "      display: none;\n",
              "      fill: #1967D2;\n",
              "      height: 32px;\n",
              "      padding: 0 0 0 0;\n",
              "      width: 32px;\n",
              "    }\n",
              "\n",
              "    .colab-df-convert:hover {\n",
              "      background-color: #E2EBFA;\n",
              "      box-shadow: 0px 1px 2px rgba(60, 64, 67, 0.3), 0px 1px 3px 1px rgba(60, 64, 67, 0.15);\n",
              "      fill: #174EA6;\n",
              "    }\n",
              "\n",
              "    [theme=dark] .colab-df-convert {\n",
              "      background-color: #3B4455;\n",
              "      fill: #D2E3FC;\n",
              "    }\n",
              "\n",
              "    [theme=dark] .colab-df-convert:hover {\n",
              "      background-color: #434B5C;\n",
              "      box-shadow: 0px 1px 3px 1px rgba(0, 0, 0, 0.15);\n",
              "      filter: drop-shadow(0px 1px 2px rgba(0, 0, 0, 0.3));\n",
              "      fill: #FFFFFF;\n",
              "    }\n",
              "  </style>\n",
              "\n",
              "      <script>\n",
              "        const buttonEl =\n",
              "          document.querySelector('#df-505f5943-f50a-4a2b-b831-e4134235b4d2 button.colab-df-convert');\n",
              "        buttonEl.style.display =\n",
              "          google.colab.kernel.accessAllowed ? 'block' : 'none';\n",
              "\n",
              "        async function convertToInteractive(key) {\n",
              "          const element = document.querySelector('#df-505f5943-f50a-4a2b-b831-e4134235b4d2');\n",
              "          const dataTable =\n",
              "            await google.colab.kernel.invokeFunction('convertToInteractive',\n",
              "                                                     [key], {});\n",
              "          if (!dataTable) return;\n",
              "\n",
              "          const docLinkHtml = 'Like what you see? Visit the ' +\n",
              "            '<a target=\"_blank\" href=https://colab.research.google.com/notebooks/data_table.ipynb>data table notebook</a>'\n",
              "            + ' to learn more about interactive tables.';\n",
              "          element.innerHTML = '';\n",
              "          dataTable['output_type'] = 'display_data';\n",
              "          await google.colab.output.renderOutput(dataTable, element);\n",
              "          const docLink = document.createElement('div');\n",
              "          docLink.innerHTML = docLinkHtml;\n",
              "          element.appendChild(docLink);\n",
              "        }\n",
              "      </script>\n",
              "    </div>\n",
              "  </div>\n",
              "  "
            ]
          },
          "metadata": {},
          "execution_count": 170
        }
      ]
    },
    {
      "cell_type": "code",
      "source": [
        ""
      ],
      "metadata": {
        "id": "G1F89drLX0Fx"
      },
      "execution_count": null,
      "outputs": []
    }
  ]
}