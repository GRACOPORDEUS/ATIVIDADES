{
  "nbformat": 4,
  "nbformat_minor": 0,
  "metadata": {
    "colab": {
      "name": "1107055_220414_ordenacao_linear.ipynb",
      "provenance": [],
      "authorship_tag": "ABX9TyOGcmjDlfcKuhgGBVCh5ArR",
      "include_colab_link": true
    },
    "kernelspec": {
      "name": "python3",
      "display_name": "Python 3"
    },
    "language_info": {
      "name": "python"
    }
  },
  "cells": [
    {
      "cell_type": "markdown",
      "metadata": {
        "id": "view-in-github",
        "colab_type": "text"
      },
      "source": [
        "<a href=\"https://colab.research.google.com/github/GRACOPORDEUS/atividades_mestrado/blob/main/1107055_220524_mochila_inteira.ipynb\" target=\"_parent\"><img src=\"https://colab.research.google.com/assets/colab-badge.svg\" alt=\"Open In Colab\"/></a>"
      ]
    },
    {
      "cell_type": "code",
      "source": [
        "import numpy as np\n",
        "import pandas as pd\n",
        "from datetime import *\n",
        "import matplotlib.pyplot as plt\n",
        "\n",
        "from google.colab import drive\n",
        "import os"
      ],
      "metadata": {
        "id": "pGYlQ31VQlJz"
      },
      "execution_count": 1,
      "outputs": []
    },
    {
      "cell_type": "code",
      "source": [
        "drive.mount('/content/gdrive')"
      ],
      "metadata": {
        "colab": {
          "base_uri": "https://localhost:8080/"
        },
        "id": "JjgW8zfJ7G75",
        "outputId": "2cbcc544-9e31-49b7-f0ab-df3768ca8a64"
      },
      "execution_count": 2,
      "outputs": [
        {
          "output_type": "stream",
          "name": "stdout",
          "text": [
            "Mounted at /content/gdrive\n"
          ]
        }
      ]
    },
    {
      "cell_type": "code",
      "source": [
        "dir = '/content/gdrive/MyDrive/instancias_num/'\n",
        "\n",
        "insts = os.listdir('./gdrive/MyDrive/instancias_num/')"
      ],
      "metadata": {
        "id": "gUFRtwCjQmqV"
      },
      "execution_count": 15,
      "outputs": []
    },
    {
      "cell_type": "code",
      "source": [
        "arr = np.loadtxt(dir + insts[-1])\n",
        "print(arr[0])\n",
        "arr = arr[1:]\n",
        "\n",
        "plt.plot(arr)\n",
        "plt.show()"
      ],
      "metadata": {
        "colab": {
          "base_uri": "https://localhost:8080/",
          "height": 283
        },
        "id": "TWXd6zt9_1Ip",
        "outputId": "17783ab7-3f49-470f-9cbb-39cb9c05950b"
      },
      "execution_count": 18,
      "outputs": [
        {
          "output_type": "stream",
          "name": "stdout",
          "text": [
            "[ 1000. 12811.]\n"
          ]
        },
        {
          "output_type": "display_data",
          "data": {
            "text/plain": [
              "<Figure size 432x288 with 1 Axes>"
            ],
            "image/png": "[encoded data removed]"
          },
          "metadata": {
            "needs_background": "light"
          }
        }
      ]
    },
    {
      "cell_type": "markdown",
      "source": [
        "Counting Sort"
      ],
      "metadata": {
        "id": "tPdriks-QsIV"
      }
    },
    {
      "cell_type": "code",
      "source": [
        "import sys\n",
        "print(sys.getrecursionlimit())"
      ],
      "metadata": {
        "colab": {
          "base_uri": "https://localhost:8080/"
        },
        "id": "t_H2DGlzmYia",
        "outputId": "93abc628-3c0a-440c-87c6-9deb80812518"
      },
      "execution_count": 30,
      "outputs": [
        {
          "output_type": "stream",
          "name": "stdout",
          "text": [
            "1000\n"
          ]
        }
      ]
    },
    {
      "cell_type": "code",
      "source": [
        "sys.setrecursionlimit(10000)"
      ],
      "metadata": {
        "id": "QjwXeM4-mdqt"
      },
      "execution_count": 31,
      "outputs": []
    },
    {
      "cell_type": "code",
      "source": [
        "def mochila_inteira(W, wt, val, n):\n",
        "    dp = [0 for i in range(W+1)]\n",
        " \n",
        "    for i in range(1, n+1):\n",
        "        for w in range(W, 0, -1):\n",
        "            if wt[i-1] <= w:\n",
        "                dp[w] = max(dp[w], dp[w-wt[i-1]]+val[i-1])\n",
        " \n",
        "    return dp[W]"
      ],
      "metadata": {
        "id": "gyNNvarzyKys"
      },
      "execution_count": 32,
      "outputs": []
    },
    {
      "cell_type": "code",
      "source": [
        "c = 12811\n",
        "n = 1000\n",
        "\n",
        "peso = arr[:,1].astype(int)\n",
        "valor = arr[:,0].astype(int)\n",
        "\n",
        "\n",
        "start = datetime.now()\n",
        "g = mochila_inteira(c, peso, valor, n)\n",
        "end = datetime.now()\n",
        "\n",
        "print(\"Foi obtidos um valor de %d\"%(g),\"para o conjunto de 1000 produtos.\")\n",
        "print('O tempo de execução foi:',end - start)"
      ],
      "metadata": {
        "id": "X3dI5zF6FqCr",
        "colab": {
          "base_uri": "https://localhost:8080/"
        },
        "outputId": "e432227a-65d7-49b6-ffc5-c0d1d0a79b36"
      },
      "execution_count": 34,
      "outputs": [
        {
          "output_type": "stream",
          "name": "stdout",
          "text": [
            "Foi obtidos um valor de 83111 para o conjunto de 1000 produtos.\n",
            "O tempo de execução foi: 0:00:12.873143\n"
          ]
        }
      ]
    }
  ]
}