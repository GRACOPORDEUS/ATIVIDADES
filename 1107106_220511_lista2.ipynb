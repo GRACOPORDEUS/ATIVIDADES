{
  "cells": [
    {
      "cell_type": "markdown",
      "metadata": {
        "id": "view-in-github",
        "colab_type": "text"
      },
      "source": [
        "<a href=\"https://colab.research.google.com/github/GRACOPORDEUS/atividades_mestrado/blob/main/1107106_220511_lista2.ipynb\" target=\"_parent\"><img src=\"https://colab.research.google.com/assets/colab-badge.svg\" alt=\"Open In Colab\"/></a>"
      ]
    },
    {
      "cell_type": "code",
      "execution_count": 63,
      "metadata": {
        "id": "7VxPi01PZ9Nw"
      },
      "outputs": [],
      "source": [
        "import torch\n",
        "import torch.nn as nn\n",
        "import torch.optim as optim\n",
        "import torch.nn.functional as F\n",
        "from torch.utils.data import Dataset, DataLoader\n",
        "\n",
        "from sklearn.preprocessing import StandardScaler\n",
        "from sklearn.model_selection import train_test_split\n",
        "\n",
        "import matplotlib.pyplot as plt\n",
        "import pandas as pd\n",
        "import numpy as np\n",
        "from tqdm import tqdm"
      ]
    },
    {
      "cell_type": "code",
      "execution_count": 2,
      "metadata": {
        "colab": {
          "base_uri": "https://localhost:8080/",
          "height": 35
        },
        "id": "6FWMdEJ3dbf_",
        "outputId": "a73a2ae1-51cc-483f-a9bd-36b73ddb7783"
      },
      "outputs": [
        {
          "output_type": "execute_result",
          "data": {
            "text/plain": [
              "'cpu'"
            ],
            "application/vnd.google.colaboratory.intrinsic+json": {
              "type": "string"
            }
          },
          "metadata": {},
          "execution_count": 2
        }
      ],
      "source": [
        "device = \"cuda\" if torch.cuda.is_available() else \"cpu\"\n",
        "device"
      ]
    },
    {
      "cell_type": "markdown",
      "metadata": {
        "id": "G341v7WLWbes"
      },
      "source": [
        "# 1ª Questão"
      ]
    },
    {
      "cell_type": "markdown",
      "metadata": {
        "id": "8HO_6P23UmaU"
      },
      "source": [
        "\"que tipo de pessoa tem mais probabilidade de sobreviver?\""
      ]
    },
    {
      "cell_type": "markdown",
      "metadata": {
        "id": "M2x8hGy3qpHI"
      },
      "source": [
        "### data manipulation"
      ]
    },
    {
      "cell_type": "markdown",
      "metadata": {
        "id": "pjXqK5i9aMcV"
      },
      "source": [
        "#### import from kaggle"
      ]
    },
    {
      "cell_type": "code",
      "execution_count": 26,
      "metadata": {
        "colab": {
          "base_uri": "https://localhost:8080/"
        },
        "id": "89UN1bnDPV5t",
        "outputId": "1d6b965f-ba67-47ff-f73b-c3fd0d16cd1d"
      },
      "outputs": [
        {
          "output_type": "stream",
          "name": "stdout",
          "text": [
            "Requirement already satisfied: kaggle in /usr/local/lib/python3.7/dist-packages (1.5.12)\n",
            "Requirement already satisfied: six>=1.10 in /usr/local/lib/python3.7/dist-packages (from kaggle) (1.15.0)\n",
            "Requirement already satisfied: python-slugify in /usr/local/lib/python3.7/dist-packages (from kaggle) (6.1.2)\n",
            "Requirement already satisfied: requests in /usr/local/lib/python3.7/dist-packages (from kaggle) (2.23.0)\n",
            "Requirement already satisfied: python-dateutil in /usr/local/lib/python3.7/dist-packages (from kaggle) (2.8.2)\n",
            "Requirement already satisfied: tqdm in /usr/local/lib/python3.7/dist-packages (from kaggle) (4.64.0)\n",
            "Requirement already satisfied: urllib3 in /usr/local/lib/python3.7/dist-packages (from kaggle) (1.24.3)\n",
            "Requirement already satisfied: certifi in /usr/local/lib/python3.7/dist-packages (from kaggle) (2021.10.8)\n",
            "Requirement already satisfied: text-unidecode>=1.3 in /usr/local/lib/python3.7/dist-packages (from python-slugify->kaggle) (1.3)\n",
            "Requirement already satisfied: idna<3,>=2.5 in /usr/local/lib/python3.7/dist-packages (from requests->kaggle) (2.10)\n",
            "Requirement already satisfied: chardet<4,>=3.0.2 in /usr/local/lib/python3.7/dist-packages (from requests->kaggle) (3.0.4)\n"
          ]
        }
      ],
      "source": [
        "!pip install kaggle"
      ]
    },
    {
      "cell_type": "code",
      "execution_count": 27,
      "metadata": {
        "colab": {
          "base_uri": "https://localhost:8080/"
        },
        "id": "VNhsVzUHUnfj",
        "outputId": "40c61728-2559-4e0f-ae74-b9a5519843a0"
      },
      "outputs": [
        {
          "output_type": "stream",
          "name": "stdout",
          "text": [
            "mkdir: cannot create directory ‘/root/.kaggle’: File exists\n"
          ]
        }
      ],
      "source": [
        "! mkdir ~/.kaggle"
      ]
    },
    {
      "cell_type": "code",
      "execution_count": 28,
      "metadata": {
        "id": "U5FVK2aeWIfa"
      },
      "outputs": [],
      "source": [
        "! cp kaggle.json ~/.kaggle/"
      ]
    },
    {
      "cell_type": "code",
      "execution_count": 29,
      "metadata": {
        "id": "Z4muKdFPX7bH"
      },
      "outputs": [],
      "source": [
        "! chmod 600 ~/.kaggle/kaggle.json"
      ]
    },
    {
      "cell_type": "code",
      "execution_count": 30,
      "metadata": {
        "colab": {
          "base_uri": "https://localhost:8080/"
        },
        "id": "JGKZKDQuV8aG",
        "outputId": "c78e1028-5a9b-44b6-8a1a-dfd07071c38d"
      },
      "outputs": [
        {
          "output_type": "stream",
          "name": "stdout",
          "text": [
            "Downloading titanic.zip to /content\n",
            "\r  0% 0.00/34.1k [00:00<?, ?B/s]\n",
            "\r100% 34.1k/34.1k [00:00<00:00, 35.2MB/s]\n"
          ]
        }
      ],
      "source": [
        "! kaggle competitions download -c titanic --force"
      ]
    },
    {
      "cell_type": "code",
      "execution_count": 31,
      "metadata": {
        "colab": {
          "base_uri": "https://localhost:8080/"
        },
        "id": "qCZNcicEWsSp",
        "outputId": "1e289647-31fd-4d43-df34-cdae446d93f0"
      },
      "outputs": [
        {
          "output_type": "stream",
          "name": "stdout",
          "text": [
            "Archive:  titanic.zip\n",
            "replace gender_submission.csv? [y]es, [n]o, [A]ll, [N]one, [r]ename: "
          ]
        }
      ],
      "source": [
        "! unzip titanic.zip"
      ]
    },
    {
      "cell_type": "markdown",
      "metadata": {
        "id": "1Mo5c5tEqzns"
      },
      "source": [
        "#### data preprocessing"
      ]
    },
    {
      "cell_type": "code",
      "execution_count": 345,
      "metadata": {
        "id": "J_oCQMoAZCkX"
      },
      "outputs": [],
      "source": [
        "titanic_train = pd.read_csv(\"train.csv\")\n",
        "titanic_test = pd.read_csv(\"test.csv\")"
      ]
    },
    {
      "cell_type": "markdown",
      "metadata": {
        "id": "Q9d7VdkprVJM"
      },
      "source": [
        "Train"
      ]
    },
    {
      "cell_type": "code",
      "execution_count": 343,
      "metadata": {
        "id": "WEfmtjRsq-9d"
      },
      "outputs": [],
      "source": [
        "titanic_train.drop(['Name','Ticket','Cabin'],axis=1,inplace=True)\n",
        "y = titanic_train.loc[:, 'Survived'].values\n",
        "\n",
        "sex = pd.get_dummies(titanic_train['Sex'],drop_first=True)\n",
        "embark = pd.get_dummies(titanic_train['Embarked'],drop_first=True)\n",
        "\n",
        "titanic_train = pd.concat([titanic_train,sex,embark],axis=1)\n",
        "\n",
        "titanic_train.drop(['Sex','Embarked'],axis=1,inplace=True)\n",
        "\n",
        "titanic_train.fillna(titanic_train.mean(),inplace=True)\n",
        "\n",
        "train_columns = titanic_train.columns\n",
        "titanic_train = pd.DataFrame(StandardScaler().fit_transform(titanic_train))\n",
        "titanic_train.columns  = train_columns\n",
        "\n",
        "features = titanic_train.iloc[:,2:].columns.tolist()\n",
        "target   = titanic_train.loc[:, 'Survived'].name\n",
        "\n",
        "X = titanic_train.iloc[:,2:].values"
      ]
    },
    {
      "cell_type": "code",
      "source": [
        "X_train, X_test, y_train, y_test = train_test_split(X, y, test_size = 0.2)"
      ],
      "metadata": {
        "id": "EthOswywSE70"
      },
      "execution_count": 81,
      "outputs": []
    },
    {
      "cell_type": "code",
      "source": [
        "X_train.shape, y_train.shape, X_test.shape, y_test.shape"
      ],
      "metadata": {
        "colab": {
          "base_uri": "https://localhost:8080/"
        },
        "id": "As4rwDdBSgMb",
        "outputId": "de38534a-1072-48bc-a339-e5ca5ae15749"
      },
      "execution_count": 82,
      "outputs": [
        {
          "output_type": "execute_result",
          "data": {
            "text/plain": [
              "((712, 8), (712,), (179, 8), (179,))"
            ]
          },
          "metadata": {},
          "execution_count": 82
        }
      ]
    },
    {
      "cell_type": "markdown",
      "metadata": {
        "id": "GpABmtSSrWH5"
      },
      "source": [
        "Test"
      ]
    },
    {
      "cell_type": "code",
      "execution_count": 346,
      "metadata": {
        "id": "vQRRbLQSrPuJ"
      },
      "outputs": [],
      "source": [
        "titanic_test.drop(['Name','Ticket','Cabin'],axis=1,inplace=True)\n",
        "\n",
        "sex = pd.get_dummies(titanic_test['Sex'],drop_first=True)\n",
        "embark = pd.get_dummies(titanic_test['Embarked'],drop_first=True)\n",
        "\n",
        "titanic_test = pd.concat([titanic_test,sex,embark],axis=1)\n",
        "\n",
        "titanic_test.drop(['Sex','Embarked'],axis=1,inplace=True)\n",
        "\n",
        "titanic_test.fillna(titanic_test.mean(),inplace=True)\n",
        "\n",
        "test_columns  = titanic_test.columns\n",
        "titanic_test = pd.DataFrame(StandardScaler().fit_transform(titanic_test))\n",
        "titanic_test.columns  = test_columns"
      ]
    },
    {
      "cell_type": "code",
      "source": [
        "test = titanic_test.iloc[:,1:].values"
      ],
      "metadata": {
        "id": "BGmJwBFe72Za"
      },
      "execution_count": 347,
      "outputs": []
    },
    {
      "cell_type": "code",
      "source": [
        "test.shape"
      ],
      "metadata": {
        "colab": {
          "base_uri": "https://localhost:8080/"
        },
        "id": "IyCm6AA2AZed",
        "outputId": "8ccc277c-d888-4631-abc0-79fd6d6e4cc6"
      },
      "execution_count": 349,
      "outputs": [
        {
          "output_type": "execute_result",
          "data": {
            "text/plain": [
              "(418, 8)"
            ]
          },
          "metadata": {},
          "execution_count": 349
        }
      ]
    },
    {
      "cell_type": "markdown",
      "metadata": {
        "id": "PAHetOnjaVKK"
      },
      "source": [
        "### Network"
      ]
    },
    {
      "cell_type": "code",
      "source": [
        "class dataset(Dataset):\n",
        "    def __init__(self, x, y):\n",
        "        self.x = torch.from_numpy(x).float()\n",
        "        self.y = torch.from_numpy(y)\n",
        "        self.n_sample = x.shape[0]\n",
        "\n",
        "    def __getitem__(self, index):\n",
        "        return self.x[index], self.y[index]\n",
        "\n",
        "    def __len__(self):\n",
        "        return self.n_sample"
      ],
      "metadata": {
        "id": "2O0N98iVXHAt"
      },
      "execution_count": 318,
      "outputs": []
    },
    {
      "cell_type": "code",
      "source": [
        "train_dataset = dataset(X_train, y_train)\n",
        "test_dataset = dataset(X_test, y_test)"
      ],
      "metadata": {
        "id": "o0UulP5vYLZf"
      },
      "execution_count": 261,
      "outputs": []
    },
    {
      "cell_type": "code",
      "execution_count": 262,
      "metadata": {
        "id": "haAcdB8W06rH"
      },
      "outputs": [],
      "source": [
        "# datasset parameters\n",
        "input_size = X_train.shape[1]\n",
        "batch_size = X_train.shape[0]\n",
        "num_classes = 2"
      ]
    },
    {
      "cell_type": "code",
      "execution_count": 263,
      "metadata": {
        "id": "Ahrrze-e06ol"
      },
      "outputs": [],
      "source": [
        "train_loader = DataLoader(\n",
        "    dataset = train_dataset,\n",
        "    batch_size = batch_size,\n",
        "    shuffle = True)\n",
        "\n",
        "test_loader = DataLoader(\n",
        "    dataset = test_dataset,\n",
        "    batch_size = batch_size,\n",
        "    shuffle = True)"
      ]
    },
    {
      "cell_type": "code",
      "execution_count": 400,
      "metadata": {
        "id": "vMVrsloDyM3p"
      },
      "outputs": [],
      "source": [
        "class NN(nn.Module):\n",
        "  def __init__(self, input_size, num_classes, tx_dropout):\n",
        "    super(NN, self).__init__()\n",
        "    self.fc1 = nn.Linear(input_size, int(input_size*2))\n",
        "    self.fc2 = nn.Linear(int(input_size*2), int(input_size*3))\n",
        "    self.fc3 = nn.Linear(int(input_size*3), int(input_size*4))\n",
        "    self.fc4 = nn.Linear(int(input_size*4), int(input_size*3))\n",
        "    self.fc5 = nn.Linear(int(input_size*3), int(input_size*2))\n",
        "    self.fc6 = nn.Linear(int(input_size*2), int(input_size*1))\n",
        "    self.fc7 = nn.Linear(int(input_size*1), num_classes)\n",
        "    \n",
        "    self.dropout = nn.Dropout(tx_dropout)\n",
        "\n",
        "    self.bn1 = nn.BatchNorm1d(int(input_size*1))\n",
        "    self.bn2 = nn.BatchNorm1d(int(input_size*2))\n",
        "    self.bn3 = nn.BatchNorm1d(int(input_size*3))\n",
        "    self.bn4 = nn.BatchNorm1d(int(input_size*4))\n",
        "  \n",
        "  def forward(self, x):\n",
        "    x = F.relu(self.bn2(self.fc1(x)))\n",
        "    x = self.dropout(F.relu(self.bn3(self.fc2(x))))\n",
        "    x = self.dropout(F.relu(self.bn4(self.fc3(x))))\n",
        "    x = self.dropout(F.relu(self.bn3(self.fc4(x))))\n",
        "    x = self.dropout(F.relu(self.bn2(self.fc5(x))))\n",
        "    x = self.dropout(F.relu(self.bn1(self.fc6(x))))\n",
        "    x = F.relu(self.fc7(x))\n",
        "    x = torch.sigmoid(x)\n",
        "    return x"
      ]
    },
    {
      "cell_type": "code",
      "source": [
        "nn.Linear()"
      ],
      "metadata": {
        "id": "-bM1JTZ9JyQh"
      },
      "execution_count": null,
      "outputs": []
    },
    {
      "cell_type": "code",
      "source": [
        "print(NN(input_size, num_classes, tx_dropout= 0))"
      ],
      "metadata": {
        "colab": {
          "base_uri": "https://localhost:8080/"
        },
        "id": "fq_tVdyiZKJE",
        "outputId": "7cfc2902-6ed6-422f-a9e9-7b8f6a32e284"
      },
      "execution_count": 401,
      "outputs": [
        {
          "output_type": "stream",
          "name": "stdout",
          "text": [
            "NN(\n",
            "  (fc1): Linear(in_features=8, out_features=16, bias=True)\n",
            "  (fc2): Linear(in_features=16, out_features=24, bias=True)\n",
            "  (fc3): Linear(in_features=24, out_features=32, bias=True)\n",
            "  (fc4): Linear(in_features=32, out_features=24, bias=True)\n",
            "  (fc5): Linear(in_features=24, out_features=16, bias=True)\n",
            "  (fc6): Linear(in_features=16, out_features=8, bias=True)\n",
            "  (fc7): Linear(in_features=8, out_features=2, bias=True)\n",
            "  (dropout): Dropout(p=0, inplace=False)\n",
            "  (bn1): BatchNorm1d(8, eps=1e-05, momentum=0.1, affine=True, track_running_stats=True)\n",
            "  (bn2): BatchNorm1d(16, eps=1e-05, momentum=0.1, affine=True, track_running_stats=True)\n",
            "  (bn3): BatchNorm1d(24, eps=1e-05, momentum=0.1, affine=True, track_running_stats=True)\n",
            "  (bn4): BatchNorm1d(32, eps=1e-05, momentum=0.1, affine=True, track_running_stats=True)\n",
            ")\n"
          ]
        }
      ]
    },
    {
      "cell_type": "code",
      "execution_count": 380,
      "metadata": {
        "id": "yCOXHdcI06hP"
      },
      "outputs": [],
      "source": [
        "# Check accuracy on training & test to see how good our model\n",
        "def valdation_metrics(loader, test_losses, model):\n",
        "    num_correct = 0\n",
        "    num_samples = 0\n",
        "    model.eval()\n",
        "\n",
        "    with torch.no_grad():\n",
        "        for x, y in loader:\n",
        "            x = x.to(device=device)\n",
        "            y = y.to(device=device)\n",
        "            x = x.reshape(x.shape[0], -1)\n",
        "\n",
        "            outputs = model(x)\n",
        "            _, predictions = outputs.max(1)\n",
        "\n",
        "            # accuracy\n",
        "            num_correct += (predictions == y).sum()\n",
        "            num_samples += predictions.size(0)\n",
        "            accuracy = num_correct/num_samples\n",
        "\n",
        "            # validation losses\n",
        "            loss = criterion(outputs, y)\n",
        "            test_losses += loss.item() \n",
        "            test_losses = (test_losses/num_samples)\n",
        "            \n",
        "    model.train()\n",
        "    return accuracy, test_losses"
      ]
    },
    {
      "cell_type": "code",
      "source": [
        "# ploting evaluations\n",
        "def network_plots(train, test, metric):\n",
        "  fig, ax = plt.subplots(figsize=(8,5))\n",
        "\n",
        "  ax.plot(train)\n",
        "  ax.plot(test)\n",
        "\n",
        "  ax.legend(('Train', 'Test'), loc=\"best\")\n",
        "  plt.show()\n",
        "  print(f\"The {metric} in train was {round(train[-1],2)}% and in test was {round(test[-1],2)}%.\")"
      ],
      "metadata": {
        "id": "psbR8zY7Lz4w"
      },
      "execution_count": 381,
      "outputs": []
    },
    {
      "cell_type": "code",
      "execution_count": 411,
      "metadata": {
        "id": "ZyMtJtCS06jx",
        "colab": {
          "base_uri": "https://localhost:8080/"
        },
        "outputId": "0e3fb15e-1266-4913-fce5-a07df28c438c"
      },
      "outputs": [
        {
          "output_type": "stream",
          "name": "stderr",
          "text": [
            "100%|██████████| 1000/1000 [00:17<00:00, 57.72it/s]\n"
          ]
        }
      ],
      "source": [
        "# hiperparameters\n",
        "num_epochs = 1000\n",
        "learning_rate = 0.0001\n",
        "tx_dropout = 0.3\n",
        "\n",
        "# Initialize network\n",
        "model = NN(\n",
        "    input_size=input_size, \n",
        "    num_classes=num_classes, \n",
        "    tx_dropout=tx_dropout\n",
        "    ).to(device)\n",
        "\n",
        "# Loss and optimizer\n",
        "criterion = nn.CrossEntropyLoss()\n",
        "optimizer = optim.Adam(model.parameters(), lr=learning_rate)\n",
        "\n",
        "# Train Network\n",
        "plot_train_losses = []\n",
        "plot_test_losses = []\n",
        "plot_train_accuracy = []\n",
        "plot_test_accuracy = []\n",
        "\n",
        "for epoch in tqdm(range(num_epochs)):\n",
        "    train_losses = 0.0\n",
        "    test_losses = 0.0\n",
        "    \n",
        "    for batch_idx, (data, targets) in enumerate(train_loader):\n",
        "        # Get data to cuda if possible\n",
        "        data = data.to(device=device)\n",
        "        targets = targets.to(device=device)\n",
        "\n",
        "        # Get to correct shape\n",
        "        data = data.reshape(data.shape[0], -1)\n",
        "\n",
        "        # forward\n",
        "        outputs = model(data)\n",
        "        loss = criterion(outputs, targets)\n",
        "\n",
        "        # backward\n",
        "        optimizer.zero_grad()\n",
        "        loss.backward()\n",
        "\n",
        "        # gradient descent or adam step\n",
        "        optimizer.step()\n",
        "    \n",
        "\n",
        "    # metrics\n",
        "    train_metric = valdation_metrics(train_loader, train_losses, model)\n",
        "    test_metric = valdation_metrics(test_loader, test_losses, model)\n",
        "\n",
        "    # cumulative losses\n",
        "    train_losses = train_metric[1]*100\n",
        "    plot_train_losses.append(train_losses)\n",
        "    test_losses = test_metric[1]*100\n",
        "    plot_test_losses.append(test_losses)\n",
        "    \n",
        "    # cumulative accuracy\n",
        "    train_accuracy = (train_metric[0]*100).item()\n",
        "    test_accuracy = (test_metric[0]*100).item()\n",
        "    \n",
        "    plot_train_accuracy.append(train_accuracy)\n",
        "    plot_test_accuracy.append(test_accuracy)"
      ]
    },
    {
      "cell_type": "code",
      "source": [
        "network_plots(plot_train_accuracy, plot_test_accuracy, 'Accuracy')\n",
        "network_plots(plot_train_losses, plot_test_losses, 'Losses')"
      ],
      "metadata": {
        "colab": {
          "base_uri": "https://localhost:8080/",
          "height": 658
        },
        "id": "xHCpYTBFLhJL",
        "outputId": "89e2c4cd-fbed-4561-97ea-3df3c6d4ef8e"
      },
      "execution_count": 412,
      "outputs": [
        {
          "output_type": "display_data",
          "data": {
            "text/plain": [
              "<Figure size 576x360 with 1 Axes>"
            ],
            "image/png": "[encoded data removed]"
          },
          "metadata": {
            "needs_background": "light"
          }
        },
        {
          "output_type": "stream",
          "name": "stdout",
          "text": [
            "The Accuracy in train was 79.49% and in test was 78.21%.\n"
          ]
        },
        {
          "output_type": "display_data",
          "data": {
            "text/plain": [
              "<Figure size 576x360 with 1 Axes>"
            ],
            "image/png": "[encoded data removed]"
          },
          "metadata": {
            "needs_background": "light"
          }
        },
        {
          "output_type": "stream",
          "name": "stdout",
          "text": [
            "The Losses in train was 0.09% and in test was 0.37%.\n"
          ]
        }
      ]
    },
    {
      "cell_type": "markdown",
      "source": [
        "Submission"
      ],
      "metadata": {
        "id": "dRaTUAhk8Krt"
      }
    },
    {
      "cell_type": "code",
      "source": [
        "class submission(Dataset):\n",
        "    def __init__(self, x):\n",
        "        self.x = torch.from_numpy(x).float()\n",
        "        self.n_sample = x.shape[0]\n",
        "\n",
        "    def __getitem__(self, index):\n",
        "        return self.x[index]\n",
        "\n",
        "    def __len__(self):\n",
        "        return self.n_sample\n",
        "\n",
        "\n",
        "sub_dataset = submission(test)\n",
        "sub_loader = DataLoader(\n",
        "    dataset = sub_dataset,\n",
        "    batch_size = test.shape[0],\n",
        "    shuffle=True)\n",
        "\n",
        "\n",
        "with torch.no_grad():\n",
        "    for x in sub_loader:\n",
        "        x = x.to(device=device)\n",
        "        x = x.reshape(x.shape[0], -1)\n",
        "        test_result = model(x)\n",
        "\n",
        "\n",
        "values, labels = torch.max(test_result, 1)\n",
        "survived = labels.data.numpy()\n",
        "\n",
        "df_sub = pd.read_csv(\"gender_submission.csv\")\n",
        "submission = pd.DataFrame({'PassengerId': df_sub['PassengerId'], 'Survived': survived})\n",
        "submission.to_csv('submission.csv', index=False)\n",
        "! kaggle competitions submit -c titanic -f submission.csv -m \"No mensage.\""
      ],
      "metadata": {
        "colab": {
          "base_uri": "https://localhost:8080/"
        },
        "id": "pPOdxWwy7M57",
        "outputId": "8e8b993f-0a22-4f77-dab2-e51f8badfb52"
      },
      "execution_count": 408,
      "outputs": [
        {
          "output_type": "stream",
          "name": "stdout",
          "text": [
            "100% 2.77k/2.77k [00:01<00:00, 1.50kB/s]\n",
            "Successfully submitted to Titanic - Machine Learning from Disaster"
          ]
        }
      ]
    },
    {
      "cell_type": "markdown",
      "source": [
        "Score: 0.56459"
      ],
      "metadata": {
        "id": "2Em5MuwPCiOL"
      }
    },
    {
      "cell_type": "markdown",
      "source": [
        "# 2ª Questão"
      ],
      "metadata": {
        "id": "m2N8vmwj6x4S"
      }
    },
    {
      "cell_type": "code",
      "source": [
        ""
      ],
      "metadata": {
        "id": "PDc9jjO76yhf"
      },
      "execution_count": null,
      "outputs": []
    }
  ],
  "metadata": {
    "colab": {
      "name": "1107106_220511_lista2.ipynb",
      "provenance": [],
      "authorship_tag": "ABX9TyMA8paWQ1yPNoUf2lcuxi3k",
      "include_colab_link": true
    },
    "kernelspec": {
      "display_name": "Python 3",
      "name": "python3"
    },
    "language_info": {
      "name": "python"
    }
  },
  "nbformat": 4,
  "nbformat_minor": 0
}