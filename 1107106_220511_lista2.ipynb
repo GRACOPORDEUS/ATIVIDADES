{
  "cells": [
    {
      "cell_type": "markdown",
      "metadata": {
        "id": "view-in-github",
        "colab_type": "text"
      },
      "source": [
        "<a href=\"https://colab.research.google.com/github/GRACOPORDEUS/atividades_mestrado/blob/main/1107106_220511_lista2.ipynb\" target=\"_parent\"><img src=\"https://colab.research.google.com/assets/colab-badge.svg\" alt=\"Open In Colab\"/></a>"
      ]
    },
    {
      "cell_type": "code",
      "execution_count": 2,
      "metadata": {
        "id": "7VxPi01PZ9Nw"
      },
      "outputs": [],
      "source": [
        "import torch\n",
        "import torch.nn as nn\n",
        "import torch.optim as optim\n",
        "import torch.nn.functional as F\n",
        "import torchvision.datasets as datasets\n",
        "import torchvision.transforms as transforms\n",
        "from torch.utils.data import Dataset, DataLoader\n",
        "\n",
        "from sklearn.metrics import accuracy_score\n",
        "from sklearn.metrics import confusion_matrix\n",
        "from sklearn.metrics import ConfusionMatrixDisplay\n",
        "from sklearn.preprocessing import StandardScaler\n",
        "from sklearn.model_selection import train_test_split\n",
        "\n",
        "import matplotlib.pyplot as plt\n",
        "import pandas as pd\n",
        "import numpy as np\n",
        "from tqdm import tqdm"
      ]
    },
    {
      "cell_type": "code",
      "execution_count": 3,
      "metadata": {
        "colab": {
          "base_uri": "https://localhost:8080/",
          "height": 35
        },
        "id": "6FWMdEJ3dbf_",
        "outputId": "e8a77cee-f9fc-4611-eeb0-b4c618f49e51"
      },
      "outputs": [
        {
          "output_type": "execute_result",
          "data": {
            "text/plain": [
              "'cuda'"
            ],
            "application/vnd.google.colaboratory.intrinsic+json": {
              "type": "string"
            }
          },
          "metadata": {},
          "execution_count": 3
        }
      ],
      "source": [
        "device = \"cuda\" if torch.cuda.is_available() else \"cpu\"\n",
        "device"
      ]
    },
    {
      "cell_type": "markdown",
      "metadata": {
        "id": "G341v7WLWbes"
      },
      "source": [
        "# 1ª Questão"
      ]
    },
    {
      "cell_type": "markdown",
      "metadata": {
        "id": "8HO_6P23UmaU"
      },
      "source": [
        "\"que tipo de pessoa tem mais probabilidade de sobreviver?\""
      ]
    },
    {
      "cell_type": "markdown",
      "metadata": {
        "id": "M2x8hGy3qpHI"
      },
      "source": [
        "### data manipulation"
      ]
    },
    {
      "cell_type": "markdown",
      "metadata": {
        "id": "pjXqK5i9aMcV"
      },
      "source": [
        "#### import from kaggle"
      ]
    },
    {
      "cell_type": "code",
      "execution_count": 147,
      "metadata": {
        "colab": {
          "base_uri": "https://localhost:8080/"
        },
        "id": "89UN1bnDPV5t",
        "outputId": "7dcc0728-bb71-4e37-e6ad-a6e0e0b1251f"
      },
      "outputs": [
        {
          "output_type": "stream",
          "name": "stdout",
          "text": [
            "Requirement already satisfied: kaggle in /usr/local/lib/python3.7/dist-packages (1.5.12)\n",
            "Requirement already satisfied: requests in /usr/local/lib/python3.7/dist-packages (from kaggle) (2.23.0)\n",
            "Requirement already satisfied: certifi in /usr/local/lib/python3.7/dist-packages (from kaggle) (2021.10.8)\n",
            "Requirement already satisfied: tqdm in /usr/local/lib/python3.7/dist-packages (from kaggle) (4.64.0)\n",
            "Requirement already satisfied: python-dateutil in /usr/local/lib/python3.7/dist-packages (from kaggle) (2.8.2)\n",
            "Requirement already satisfied: six>=1.10 in /usr/local/lib/python3.7/dist-packages (from kaggle) (1.15.0)\n",
            "Requirement already satisfied: urllib3 in /usr/local/lib/python3.7/dist-packages (from kaggle) (1.24.3)\n",
            "Requirement already satisfied: python-slugify in /usr/local/lib/python3.7/dist-packages (from kaggle) (6.1.2)\n",
            "Requirement already satisfied: text-unidecode>=1.3 in /usr/local/lib/python3.7/dist-packages (from python-slugify->kaggle) (1.3)\n",
            "Requirement already satisfied: idna<3,>=2.5 in /usr/local/lib/python3.7/dist-packages (from requests->kaggle) (2.10)\n",
            "Requirement already satisfied: chardet<4,>=3.0.2 in /usr/local/lib/python3.7/dist-packages (from requests->kaggle) (3.0.4)\n"
          ]
        }
      ],
      "source": [
        "!pip install kaggle"
      ]
    },
    {
      "cell_type": "code",
      "execution_count": 148,
      "metadata": {
        "id": "VNhsVzUHUnfj",
        "colab": {
          "base_uri": "https://localhost:8080/"
        },
        "outputId": "739dbcd0-7f9c-41e6-d3c5-22abb79e7d01"
      },
      "outputs": [
        {
          "output_type": "stream",
          "name": "stdout",
          "text": [
            "mkdir: cannot create directory ‘/root/.kaggle’: File exists\n"
          ]
        }
      ],
      "source": [
        "! mkdir ~/.kaggle"
      ]
    },
    {
      "cell_type": "code",
      "execution_count": 149,
      "metadata": {
        "id": "U5FVK2aeWIfa"
      },
      "outputs": [],
      "source": [
        "! cp kaggle.json ~/.kaggle/"
      ]
    },
    {
      "cell_type": "code",
      "execution_count": 150,
      "metadata": {
        "id": "Z4muKdFPX7bH"
      },
      "outputs": [],
      "source": [
        "! chmod 600 ~/.kaggle/kaggle.json"
      ]
    },
    {
      "cell_type": "code",
      "execution_count": 283,
      "metadata": {
        "colab": {
          "base_uri": "https://localhost:8080/"
        },
        "id": "JGKZKDQuV8aG",
        "outputId": "7e286b74-a687-4273-f245-d10de32dad92"
      },
      "outputs": [
        {
          "output_type": "stream",
          "name": "stdout",
          "text": [
            "Downloading titanic.zip to /content\n",
            "\r  0% 0.00/34.1k [00:00<?, ?B/s]\n",
            "\r100% 34.1k/34.1k [00:00<00:00, 30.9MB/s]\n"
          ]
        }
      ],
      "source": [
        "! kaggle competitions download -c titanic --force"
      ]
    },
    {
      "cell_type": "code",
      "execution_count": 284,
      "metadata": {
        "colab": {
          "base_uri": "https://localhost:8080/"
        },
        "id": "qCZNcicEWsSp",
        "outputId": "d111b107-5375-4fe8-86ef-3b6ec96bf539"
      },
      "outputs": [
        {
          "output_type": "stream",
          "name": "stdout",
          "text": [
            "Archive:  titanic.zip\n",
            "replace gender_submission.csv? [y]es, [n]o, [A]ll, [N]one, [r]ename: A\n",
            "  inflating: gender_submission.csv   \n",
            "  inflating: test.csv                \n",
            "  inflating: train.csv               \n"
          ]
        }
      ],
      "source": [
        "! unzip titanic.zip"
      ]
    },
    {
      "cell_type": "markdown",
      "metadata": {
        "id": "1Mo5c5tEqzns"
      },
      "source": [
        "#### data preprocessing"
      ]
    },
    {
      "cell_type": "code",
      "execution_count": 285,
      "metadata": {
        "id": "J_oCQMoAZCkX"
      },
      "outputs": [],
      "source": [
        "titanic_train = pd.read_csv(\"train.csv\")\n",
        "titanic_test = pd.read_csv(\"test.csv\")"
      ]
    },
    {
      "cell_type": "markdown",
      "metadata": {
        "id": "Q9d7VdkprVJM"
      },
      "source": [
        "Train"
      ]
    },
    {
      "cell_type": "code",
      "execution_count": 286,
      "metadata": {
        "id": "WEfmtjRsq-9d"
      },
      "outputs": [],
      "source": [
        "titanic_train.drop(['Name','Ticket','Cabin'],axis=1,inplace=True)\n",
        "y = titanic_train.loc[:, 'Survived'].values\n",
        "\n",
        "sex = pd.get_dummies(titanic_train['Sex'],drop_first=True)\n",
        "embark = pd.get_dummies(titanic_train['Embarked'],drop_first=True)\n",
        "\n",
        "titanic_train = pd.concat([titanic_train,sex,embark],axis=1)\n",
        "\n",
        "titanic_train.drop(['Sex','Embarked'],axis=1,inplace=True)\n",
        "\n",
        "titanic_train.fillna(titanic_train.mean(),inplace=True)\n",
        "\n",
        "train_columns = titanic_train.columns\n",
        "titanic_train = pd.DataFrame(StandardScaler().fit_transform(titanic_train))\n",
        "titanic_train.columns  = train_columns\n",
        "\n",
        "features = titanic_train.iloc[:,2:].columns.tolist()\n",
        "target   = titanic_train.loc[:, 'Survived'].name\n",
        "\n",
        "X = titanic_train.iloc[:,2:].values"
      ]
    },
    {
      "cell_type": "code",
      "source": [
        "X_train, X_test, y_train, y_test = train_test_split(X, y, test_size = 0.2)"
      ],
      "metadata": {
        "id": "EthOswywSE70"
      },
      "execution_count": 287,
      "outputs": []
    },
    {
      "cell_type": "code",
      "source": [
        "X_train.shape, y_train.shape, X_test.shape, y_test.shape"
      ],
      "metadata": {
        "colab": {
          "base_uri": "https://localhost:8080/"
        },
        "id": "As4rwDdBSgMb",
        "outputId": "59ae818d-e9ba-4b4a-cee7-6eda449e7ba8"
      },
      "execution_count": 288,
      "outputs": [
        {
          "output_type": "execute_result",
          "data": {
            "text/plain": [
              "((712, 8), (712,), (179, 8), (179,))"
            ]
          },
          "metadata": {},
          "execution_count": 288
        }
      ]
    },
    {
      "cell_type": "markdown",
      "metadata": {
        "id": "GpABmtSSrWH5"
      },
      "source": [
        "Test"
      ]
    },
    {
      "cell_type": "code",
      "execution_count": 289,
      "metadata": {
        "id": "vQRRbLQSrPuJ"
      },
      "outputs": [],
      "source": [
        "titanic_test.drop(['Name','Ticket','Cabin'],axis=1,inplace=True)\n",
        "\n",
        "sex = pd.get_dummies(titanic_test['Sex'],drop_first=True)\n",
        "embark = pd.get_dummies(titanic_test['Embarked'],drop_first=True)\n",
        "\n",
        "titanic_test = pd.concat([titanic_test,sex,embark],axis=1)\n",
        "\n",
        "titanic_test.drop(['Sex','Embarked'],axis=1,inplace=True)\n",
        "\n",
        "titanic_test.fillna(titanic_test.mean(),inplace=True)\n",
        "\n",
        "test_columns  = titanic_test.columns\n",
        "titanic_test = pd.DataFrame(StandardScaler().fit_transform(titanic_test))\n",
        "titanic_test.columns  = test_columns"
      ]
    },
    {
      "cell_type": "code",
      "source": [
        "test = titanic_test.iloc[:,1:].values"
      ],
      "metadata": {
        "id": "BGmJwBFe72Za"
      },
      "execution_count": 290,
      "outputs": []
    },
    {
      "cell_type": "code",
      "source": [
        "test.shape"
      ],
      "metadata": {
        "colab": {
          "base_uri": "https://localhost:8080/"
        },
        "id": "IyCm6AA2AZed",
        "outputId": "fdeac41a-51d9-4527-c03d-d7dd9a652c14"
      },
      "execution_count": 291,
      "outputs": [
        {
          "output_type": "execute_result",
          "data": {
            "text/plain": [
              "(418, 8)"
            ]
          },
          "metadata": {},
          "execution_count": 291
        }
      ]
    },
    {
      "cell_type": "markdown",
      "metadata": {
        "id": "PAHetOnjaVKK"
      },
      "source": [
        "### Network"
      ]
    },
    {
      "cell_type": "code",
      "source": [
        "class dataset(Dataset):\n",
        "    def __init__(self, x, y):\n",
        "        self.x = torch.from_numpy(x).float()\n",
        "        self.y = torch.from_numpy(y)\n",
        "        self.n_sample = x.shape[0]\n",
        "\n",
        "    def __getitem__(self, index):\n",
        "        return self.x[index], self.y[index]\n",
        "\n",
        "    def __len__(self):\n",
        "        return self.n_sample"
      ],
      "metadata": {
        "id": "2O0N98iVXHAt"
      },
      "execution_count": 292,
      "outputs": []
    },
    {
      "cell_type": "code",
      "source": [
        "train_dataset = dataset(X_train, y_train)\n",
        "test_dataset = dataset(X_test, y_test)"
      ],
      "metadata": {
        "id": "o0UulP5vYLZf"
      },
      "execution_count": 293,
      "outputs": []
    },
    {
      "cell_type": "code",
      "execution_count": 294,
      "metadata": {
        "id": "haAcdB8W06rH"
      },
      "outputs": [],
      "source": [
        "# datasset parameters\n",
        "input_size = X_train.shape[1]\n",
        "batch_size = X_train.shape[0]\n",
        "num_classes = 2"
      ]
    },
    {
      "cell_type": "code",
      "execution_count": 295,
      "metadata": {
        "id": "Ahrrze-e06ol"
      },
      "outputs": [],
      "source": [
        "train_loader = DataLoader(\n",
        "    dataset = train_dataset,\n",
        "    batch_size = batch_size,\n",
        "    shuffle = True)\n",
        "\n",
        "test_loader = DataLoader(\n",
        "    dataset = test_dataset,\n",
        "    batch_size = batch_size,\n",
        "    shuffle = True)"
      ]
    },
    {
      "cell_type": "code",
      "execution_count": 296,
      "metadata": {
        "id": "vMVrsloDyM3p"
      },
      "outputs": [],
      "source": [
        "class NN(nn.Module):\n",
        "  def __init__(self, input_size, num_classes, tx_dropout):\n",
        "    super(NN, self).__init__()\n",
        "    self.fc1 = nn.Linear(input_size, 50)\n",
        "    self.fc2 = nn.Linear(50, 20)\n",
        "    self.fc3 = nn.Linear(20, num_classes)\n",
        "    \n",
        "    self.dropout = nn.Dropout(tx_dropout)\n",
        "\n",
        "    self.bn1 = nn.BatchNorm1d(50)\n",
        "    self.bn2 = nn.BatchNorm1d(20)\n",
        "  \n",
        "  def forward(self, x):\n",
        "    x = F.relu(self.bn1(self.fc1(x)))\n",
        "    x = self.dropout(F.relu(self.bn2(self.fc2(x))))\n",
        "    x = torch.sigmoid(self.fc3(x))\n",
        "    return x"
      ]
    },
    {
      "cell_type": "code",
      "source": [
        "print(NN(input_size, num_classes, tx_dropout= 0))"
      ],
      "metadata": {
        "colab": {
          "base_uri": "https://localhost:8080/"
        },
        "id": "fq_tVdyiZKJE",
        "outputId": "0938bea2-eeef-4539-d873-6777bd93f9c8"
      },
      "execution_count": 297,
      "outputs": [
        {
          "output_type": "stream",
          "name": "stdout",
          "text": [
            "NN(\n",
            "  (fc1): Linear(in_features=8, out_features=50, bias=True)\n",
            "  (fc2): Linear(in_features=50, out_features=20, bias=True)\n",
            "  (fc3): Linear(in_features=20, out_features=2, bias=True)\n",
            "  (dropout): Dropout(p=0, inplace=False)\n",
            "  (bn1): BatchNorm1d(50, eps=1e-05, momentum=0.1, affine=True, track_running_stats=True)\n",
            "  (bn2): BatchNorm1d(20, eps=1e-05, momentum=0.1, affine=True, track_running_stats=True)\n",
            ")\n"
          ]
        }
      ]
    },
    {
      "cell_type": "code",
      "execution_count": 298,
      "metadata": {
        "id": "yCOXHdcI06hP"
      },
      "outputs": [],
      "source": [
        "# Check accuracy on training & test to see how good our model\n",
        "def valdation_metrics(loader, losses, model):\n",
        "    num_correct = 0\n",
        "    num_samples = 0\n",
        "    model.eval()\n",
        "    with torch.no_grad():\n",
        "        for x, y in loader:\n",
        "            x = x.to(device=device)\n",
        "            y = y.to(device=device)\n",
        "            x = x.reshape(x.shape[0], -1)\n",
        "\n",
        "            outputs = model(x)\n",
        "            _, predictions = torch.max(outputs, 1)\n",
        "            num_samples += predictions.size(0)\n",
        "            \n",
        "            # accuracy\n",
        "            y_real = y.cpu().detach().numpy()\n",
        "            y_pred = predictions.cpu().detach().numpy()\n",
        "\n",
        "            # validation losses\n",
        "            loss = criterion(outputs, y)\n",
        "            losses += loss.item() \n",
        "            \n",
        "    accuracy = accuracy_score(y_real, y_pred)\n",
        "    losses = (losses/num_samples)\n",
        "    model.train()\n",
        "    return accuracy, losses"
      ]
    },
    {
      "cell_type": "code",
      "source": [
        "# ploting evaluations\n",
        "def network_plots(train, test, metric):\n",
        "    fig, ax = plt.subplots(figsize=(8,5))\n",
        "\n",
        "    ax.plot(train)\n",
        "    ax.plot(test)\n",
        "\n",
        "    ax.legend(('Train', 'Test'), loc=\"best\")\n",
        "    plt.show()\n",
        "    print(f\"The {metric} in train was {round(train[-1],2)} and in test was {round(test[-1],2)}.\")"
      ],
      "metadata": {
        "id": "psbR8zY7Lz4w"
      },
      "execution_count": 299,
      "outputs": []
    },
    {
      "cell_type": "code",
      "execution_count": 300,
      "metadata": {
        "id": "ZyMtJtCS06jx",
        "colab": {
          "base_uri": "https://localhost:8080/"
        },
        "outputId": "d30c4be0-22b7-4fad-8df3-fbc2cb06c722"
      },
      "outputs": [
        {
          "output_type": "stream",
          "name": "stderr",
          "text": [
            "100%|██████████| 200/200 [00:03<00:00, 62.44it/s]\n"
          ]
        }
      ],
      "source": [
        "# hiperparameters\n",
        "num_epochs = 200\n",
        "learning_rate = 0.001\n",
        "tx_dropout = 0.0\n",
        "\n",
        "# Initialize network\n",
        "model = NN(\n",
        "    input_size=input_size, \n",
        "    num_classes=num_classes, \n",
        "    tx_dropout=tx_dropout\n",
        "    ).to(device)\n",
        "\n",
        "# Loss and optimizer\n",
        "criterion = nn.CrossEntropyLoss()\n",
        "optimizer = optim.Adam(model.parameters(), lr=learning_rate)\n",
        "\n",
        "# Train Network\n",
        "plot_train_losses = []\n",
        "plot_test_losses = []\n",
        "plot_train_accuracy = []\n",
        "plot_test_accuracy = []\n",
        "\n",
        "for epoch in tqdm(range(num_epochs)):\n",
        "    train_losses = 0.0\n",
        "    test_losses = 0.0\n",
        "    \n",
        "    for batch_idx, (data, targets) in enumerate(train_loader):\n",
        "        # Get data to cuda if possible\n",
        "        data = data.to(device=device)\n",
        "        targets = targets.to(device=device)\n",
        "        # Get to correct shape\n",
        "        data = data.reshape(data.shape[0], -1)\n",
        "        # forward\n",
        "        outputs = model(data)\n",
        "        loss = criterion(outputs, targets)\n",
        "        # backward\n",
        "        optimizer.zero_grad()\n",
        "        loss.backward()\n",
        "        # gradient descent or adam step\n",
        "        optimizer.step()\n",
        "\n",
        "    # metrics\n",
        "    train_metric = valdation_metrics(train_loader, train_losses, model)\n",
        "    test_metric = valdation_metrics(test_loader, test_losses, model)\n",
        "\n",
        "    # cumulative losses\n",
        "    plot_train_losses.append(train_metric[1])\n",
        "    plot_test_losses.append(test_metric[1])\n",
        "\n",
        "    # cumulative accuracy\n",
        "    train_accuracy = (train_metric[0]*100).item()\n",
        "    test_accuracy = (test_metric[0]*100).item()\n",
        "    plot_train_accuracy.append(train_accuracy)\n",
        "    plot_test_accuracy.append(test_accuracy)"
      ]
    },
    {
      "cell_type": "code",
      "source": [
        "network_plots(plot_train_accuracy, plot_test_accuracy, 'Accuracy')\n",
        "network_plots(plot_train_losses, plot_test_losses, 'Losses')"
      ],
      "metadata": {
        "colab": {
          "base_uri": "https://localhost:8080/",
          "height": 659
        },
        "id": "xHCpYTBFLhJL",
        "outputId": "0c7cb758-0e28-4c80-ec08-528a45518af8"
      },
      "execution_count": 301,
      "outputs": [
        {
          "output_type": "display_data",
          "data": {
            "text/plain": [
              "<Figure size 576x360 with 1 Axes>"
            ],
            "image/png": "[encoded data removed]"
          },
          "metadata": {
            "needs_background": "light"
          }
        },
        {
          "output_type": "stream",
          "name": "stdout",
          "text": [
            "The Accuracy in train was 85.25 and in test was 83.24.\n"
          ]
        },
        {
          "output_type": "display_data",
          "data": {
            "text/plain": [
              "<Figure size 576x360 with 1 Axes>"
            ],
            "image/png": "[encoded data removed]"
          },
          "metadata": {
            "needs_background": "light"
          }
        },
        {
          "output_type": "stream",
          "name": "stdout",
          "text": [
            "The Losses in train was 0.0 and in test was 0.0.\n"
          ]
        }
      ]
    },
    {
      "cell_type": "code",
      "source": [
        "# test_loader\n",
        "model.eval()\n",
        "y_true = []\n",
        "y_pred = []\n",
        "with torch.no_grad():\n",
        "    for x, y in tqdm(test_loader):\n",
        "        x = x.to(device=device)\n",
        "        y = y.to(device=device)\n",
        "        y = y.cpu().detach().numpy()\n",
        "        \n",
        "        x = x.reshape(x.shape[0], -1)\n",
        "        outputs = model(x)\n",
        "\n",
        "        predictions = torch.log_softmax(outputs, dim = 1)\n",
        "        _, predictions = torch.max(predictions, 1)\n",
        "        predictions = predictions.cpu().detach().numpy()\n",
        "\n",
        "        y_true.append(y)\n",
        "        y_pred.append(predictions)\n",
        "\n",
        "model.train()\n",
        "\n",
        "conf_matrix = confusion_matrix(\n",
        "    y_true = y_true[0],\n",
        "    y_pred = y_pred[0]\n",
        "    )\n",
        "labels = np.unique(y)\n",
        "\n",
        "print(accuracy_score(y_true[0], y_pred[0]))\n",
        "\n",
        "\n",
        "plot_cm = ConfusionMatrixDisplay(\n",
        "    confusion_matrix = conf_matrix,\n",
        "    display_labels = labels\n",
        "    ) \\\n",
        "    .plot()\n",
        "\n",
        "plt.show()"
      ],
      "metadata": {
        "colab": {
          "base_uri": "https://localhost:8080/",
          "height": 314
        },
        "id": "9YS4AMLhUcfH",
        "outputId": "919604d5-85f6-4902-ebed-41479fdaf777"
      },
      "execution_count": 302,
      "outputs": [
        {
          "output_type": "stream",
          "name": "stderr",
          "text": [
            "100%|██████████| 1/1 [00:00<00:00, 248.40it/s]"
          ]
        },
        {
          "output_type": "stream",
          "name": "stdout",
          "text": [
            "0.8324022346368715\n"
          ]
        },
        {
          "output_type": "stream",
          "name": "stderr",
          "text": [
            "\n"
          ]
        },
        {
          "output_type": "display_data",
          "data": {
            "text/plain": [
              "<Figure size 432x288 with 2 Axes>"
            ],
            "image/png": "[encoded data removed]"
          },
          "metadata": {
            "needs_background": "light"
          }
        }
      ]
    },
    {
      "cell_type": "markdown",
      "source": [
        "### Submission"
      ],
      "metadata": {
        "id": "dRaTUAhk8Krt"
      }
    },
    {
      "cell_type": "code",
      "source": [
        "class submission(Dataset):\n",
        "    def __init__(self, x):\n",
        "        self.x = torch.from_numpy(x).float()\n",
        "        self.n_sample = x.shape[0]\n",
        "\n",
        "    def __getitem__(self, index):\n",
        "        return self.x[index]\n",
        "\n",
        "    def __len__(self):\n",
        "        return self.n_sample\n",
        "\n",
        "sub_dataset = submission(test)\n",
        "sub_loader = DataLoader(\n",
        "    dataset = sub_dataset,\n",
        "    batch_size = test.shape[0],\n",
        "    shuffle = False) # <<<< ATENÇÃO NA HORA DE SUBMIT!!!!\n",
        "\n",
        "model.eval()\n",
        "with torch.no_grad():\n",
        "    for x in sub_loader:\n",
        "        x = x.to(device=device)\n",
        "        x = x.reshape(x.shape[0], -1)\n",
        "        test_result = model(x)\n",
        "model.train()\n",
        "\n",
        "values, labels = torch.max(test_result, 1)\n",
        "survived = labels.cpu().data.numpy()\n",
        "\n",
        "df_sub = pd.read_csv(\"gender_submission.csv\")\n",
        "submission = pd.DataFrame({'PassengerId': df_sub['PassengerId'], 'Survived': survived})\n",
        "submission.to_csv('submission.csv', index=False)\n",
        "! kaggle competitions submit -c titanic -f submission.csv -m \"No mensage.\""
      ],
      "metadata": {
        "colab": {
          "base_uri": "https://localhost:8080/"
        },
        "id": "pPOdxWwy7M57",
        "outputId": "5b0f4700-d9d5-4ed5-d06c-370eab71e45c"
      },
      "execution_count": 303,
      "outputs": [
        {
          "output_type": "stream",
          "name": "stdout",
          "text": [
            "100% 2.77k/2.77k [00:01<00:00, 2.33kB/s]\n",
            "Successfully submitted to Titanic - Machine Learning from Disaster"
          ]
        }
      ]
    },
    {
      "cell_type": "markdown",
      "source": [
        "Score: 0.78708\n",
        "\n"
      ],
      "metadata": {
        "id": "2Em5MuwPCiOL"
      }
    },
    {
      "cell_type": "markdown",
      "source": [
        "# 2ª Questão"
      ],
      "metadata": {
        "id": "m2N8vmwj6x4S"
      }
    },
    {
      "cell_type": "code",
      "source": [
        "# dataset parameters\n",
        "in_channel = 1\n",
        "input_size = 784\n",
        "num_classes = 10\n",
        "batch_size = 100"
      ],
      "metadata": {
        "id": "dpaIPe8nayq3"
      },
      "execution_count": 397,
      "outputs": []
    },
    {
      "cell_type": "code",
      "source": [
        "train_dataset = datasets.MNIST(root=\"dataset/\", train=True, transform=transforms.ToTensor(), download=True)\n",
        "test_dataset = datasets.MNIST(root=\"dataset/\", train=False, transform=transforms.ToTensor(), download=True)\n",
        "train_loader = DataLoader(dataset=train_dataset, batch_size=batch_size, shuffle=True)\n",
        "test_loader = DataLoader(dataset=test_dataset, batch_size=batch_size, shuffle=True)"
      ],
      "metadata": {
        "id": "cGnUZ8TUYZPz"
      },
      "execution_count": 398,
      "outputs": []
    },
    {
      "cell_type": "code",
      "source": [
        "len(train_dataset), len(test_dataset)"
      ],
      "metadata": {
        "id": "bvqqfZAv4tmh",
        "outputId": "e647b0f6-83b2-4af2-cd2f-342d88393d85",
        "colab": {
          "base_uri": "https://localhost:8080/"
        }
      },
      "execution_count": 114,
      "outputs": [
        {
          "output_type": "execute_result",
          "data": {
            "text/plain": [
              "(60000, 10000)"
            ]
          },
          "metadata": {},
          "execution_count": 114
        }
      ]
    },
    {
      "cell_type": "markdown",
      "source": [
        "#### NN"
      ],
      "metadata": {
        "id": "2ixlFJ-nkaho"
      }
    },
    {
      "cell_type": "code",
      "source": [
        "class NN(nn.Module):\n",
        "    def __init__(self, input_size, num_classes):\n",
        "        super(NN, self).__init__()\n",
        "        self.fc1 = nn.Linear(input_size, 50)\n",
        "        self.fc3 = nn.Linear(50, num_classes)\n",
        "    \n",
        "    def forward(self, x):\n",
        "        x = F.relu(self.fc1(x))\n",
        "        x = self.fc3(x)\n",
        "        return x"
      ],
      "metadata": {
        "id": "PDc9jjO76yhf"
      },
      "execution_count": 129,
      "outputs": []
    },
    {
      "cell_type": "code",
      "source": [
        "# ploting evaluations\n",
        "def network_plots(train, test, metric):\n",
        "    fig, ax = plt.subplots(figsize=(8,5))\n",
        "\n",
        "    ax.plot(train)\n",
        "    ax.plot(test)\n",
        "\n",
        "    ax.legend(('Train', 'Test'), loc=\"best\")\n",
        "    plt.show()\n",
        "    print(f\"The {metric} on train was {round(train[-1],2)}, and on test was {round(test[-1],2)}.\")"
      ],
      "metadata": {
        "id": "-6cs_8glZyYo"
      },
      "execution_count": 125,
      "outputs": []
    },
    {
      "cell_type": "code",
      "source": [
        "# Check accuracy on training & test to see how good our model\n",
        "def valdation_metrics(loader, losses, model):\n",
        "    num_correct = 0\n",
        "    num_samples = 0\n",
        "    model.eval()\n",
        "    with torch.no_grad():\n",
        "        for x, y in loader:\n",
        "            x = x.to(device=device)\n",
        "            y = y.to(device=device)\n",
        "            x = x.reshape(x.shape[0], -1)\n",
        "\n",
        "            outputs = model(x)\n",
        "            _, predictions = torch.max(outputs, 1)\n",
        "            num_samples += predictions.size(0)\n",
        "            \n",
        "            # accuracy\n",
        "            y_real = y.cpu().detach().numpy()\n",
        "            y_pred = predictions.cpu().detach().numpy()\n",
        "\n",
        "            # validation losses\n",
        "            loss = criterion(outputs, y)\n",
        "            losses += loss.item() \n",
        "            \n",
        "    accuracy = accuracy_score(y_real, y_pred)\n",
        "    losses = (losses/num_samples)\n",
        "    model.train()\n",
        "    return accuracy, losses"
      ],
      "metadata": {
        "id": "Vx7S0MssZwH_"
      },
      "execution_count": 128,
      "outputs": []
    },
    {
      "cell_type": "code",
      "source": [
        "# hiperparameters\n",
        "num_epochs = 10\n",
        "learning_rate = 0.01\n",
        "\n",
        "# Initialize network\n",
        "model = NN(\n",
        "    input_size = input_size, \n",
        "    num_classes = num_classes,\n",
        "    ).to(device)\n",
        "\n",
        "# Loss and optimizer\n",
        "criterion = nn.CrossEntropyLoss()\n",
        "optimizer = optim.Adam(model.parameters(), lr=learning_rate)\n",
        "\n",
        "# Train Network\n",
        "plot_train_losses = []\n",
        "plot_test_losses = []\n",
        "plot_train_accuracy = []\n",
        "plot_test_accuracy = []\n",
        "\n",
        "for epoch in tqdm(range(num_epochs)):    \n",
        "    for batch_idx, (data, targets) in enumerate(train_loader):\n",
        "        # Get data to cuda if possible\n",
        "        data = data.to(device=device)\n",
        "        targets = targets.to(device=device)\n",
        "\n",
        "        # reshaping data\n",
        "        data = data.reshape(data.shape[0], -1)\n",
        "        \n",
        "        # forward\n",
        "        outputs = model(data)\n",
        "        loss = criterion(outputs, targets)\n",
        "\n",
        "        # backward\n",
        "        optimizer.zero_grad()\n",
        "        loss.backward()\n",
        "\n",
        "        # gradient descent or adam step\n",
        "        optimizer.step()\n",
        "    \n",
        "    train_losses = 0.0\n",
        "    test_losses = 0.0\n",
        "    # metrics\n",
        "    train_metric = valdation_metrics(train_loader, train_losses, model)\n",
        "    test_metric = valdation_metrics(test_loader, test_losses, model)\n",
        "\n",
        "    # cumulative losses\n",
        "    plot_train_losses.append(train_metric[1])\n",
        "    plot_test_losses.append(test_metric[1])\n",
        "\n",
        "    # cumulative accuracy\n",
        "    train_accuracy = (train_metric[0]*100).item()\n",
        "    test_accuracy = (test_metric[0]*100).item()\n",
        "    plot_train_accuracy.append(train_accuracy)\n",
        "    plot_test_accuracy.append(test_accuracy)\n",
        "\n",
        "    print(f\" || The Accuracy was {round(train_accuracy,2)} on train, and {round(test_accuracy,2)} on test.\")"
      ],
      "metadata": {
        "id": "tHzO6ZwekVKy",
        "colab": {
          "base_uri": "https://localhost:8080/"
        },
        "outputId": "e7000145-29c7-470b-dbeb-4dfba3220619"
      },
      "execution_count": 130,
      "outputs": [
        {
          "output_type": "stream",
          "name": "stderr",
          "text": [
            " 10%|█         | 1/10 [00:18<02:50, 18.90s/it]"
          ]
        },
        {
          "output_type": "stream",
          "name": "stdout",
          "text": [
            " || The Accuracy was 94.79 on train, and 100.0 on test.\n"
          ]
        },
        {
          "output_type": "stream",
          "name": "stderr",
          "text": [
            "\r 20%|██        | 2/10 [00:36<02:26, 18.25s/it]"
          ]
        },
        {
          "output_type": "stream",
          "name": "stdout",
          "text": [
            " || The Accuracy was 98.96 on train, and 100.0 on test.\n"
          ]
        },
        {
          "output_type": "stream",
          "name": "stderr",
          "text": [
            "\r 30%|███       | 3/10 [01:01<02:27, 21.02s/it]"
          ]
        },
        {
          "output_type": "stream",
          "name": "stdout",
          "text": [
            " || The Accuracy was 94.79 on train, and 93.75 on test.\n"
          ]
        },
        {
          "output_type": "stream",
          "name": "stderr",
          "text": [
            "\r 40%|████      | 4/10 [01:23<02:10, 21.79s/it]"
          ]
        },
        {
          "output_type": "stream",
          "name": "stdout",
          "text": [
            " || The Accuracy was 97.92 on train, and 100.0 on test.\n"
          ]
        },
        {
          "output_type": "stream",
          "name": "stderr",
          "text": [
            "\r 50%|█████     | 5/10 [01:41<01:42, 20.42s/it]"
          ]
        },
        {
          "output_type": "stream",
          "name": "stdout",
          "text": [
            " || The Accuracy was 95.83 on train, and 93.75 on test.\n"
          ]
        },
        {
          "output_type": "stream",
          "name": "stderr",
          "text": [
            "\r 60%|██████    | 6/10 [02:02<01:21, 20.49s/it]"
          ]
        },
        {
          "output_type": "stream",
          "name": "stdout",
          "text": [
            " || The Accuracy was 98.96 on train, and 100.0 on test.\n"
          ]
        },
        {
          "output_type": "stream",
          "name": "stderr",
          "text": [
            "\r 70%|███████   | 7/10 [02:20<00:58, 19.64s/it]"
          ]
        },
        {
          "output_type": "stream",
          "name": "stdout",
          "text": [
            " || The Accuracy was 95.83 on train, and 100.0 on test.\n"
          ]
        },
        {
          "output_type": "stream",
          "name": "stderr",
          "text": [
            "\r 80%|████████  | 8/10 [02:40<00:39, 19.81s/it]"
          ]
        },
        {
          "output_type": "stream",
          "name": "stdout",
          "text": [
            " || The Accuracy was 98.96 on train, and 93.75 on test.\n"
          ]
        },
        {
          "output_type": "stream",
          "name": "stderr",
          "text": [
            "\r 90%|█████████ | 9/10 [02:58<00:19, 19.14s/it]"
          ]
        },
        {
          "output_type": "stream",
          "name": "stdout",
          "text": [
            " || The Accuracy was 100.0 on train, and 93.75 on test.\n"
          ]
        },
        {
          "output_type": "stream",
          "name": "stderr",
          "text": [
            "100%|██████████| 10/10 [03:16<00:00, 19.60s/it]"
          ]
        },
        {
          "output_type": "stream",
          "name": "stdout",
          "text": [
            " || The Accuracy was 98.96 on train, and 100.0 on test.\n"
          ]
        },
        {
          "output_type": "stream",
          "name": "stderr",
          "text": [
            "\n"
          ]
        }
      ]
    },
    {
      "cell_type": "code",
      "source": [
        "network_plots(plot_train_accuracy, plot_test_accuracy, 'Accuracy')\n",
        "network_plots(plot_train_losses, plot_test_losses, 'Losses')"
      ],
      "metadata": {
        "colab": {
          "base_uri": "https://localhost:8080/",
          "height": 658
        },
        "id": "_JItOzT5mYAz",
        "outputId": "db13172a-43e7-4a94-8cf4-dcaeff7011d0"
      },
      "execution_count": 131,
      "outputs": [
        {
          "output_type": "display_data",
          "data": {
            "text/plain": [
              "<Figure size 576x360 with 1 Axes>"
            ],
            "image/png": "[encoded data removed]"
          },
          "metadata": {
            "needs_background": "light"
          }
        },
        {
          "output_type": "stream",
          "name": "stdout",
          "text": [
            "The Accuracy on train was 98.96, and on test was 100.0.\n"
          ]
        },
        {
          "output_type": "display_data",
          "data": {
            "text/plain": [
              "<Figure size 576x360 with 1 Axes>"
            ],
            "image/png": "[encoded data removed]"
          },
          "metadata": {
            "needs_background": "light"
          }
        },
        {
          "output_type": "stream",
          "name": "stdout",
          "text": [
            "The Losses on train was 0.0, and on test was 0.0.\n"
          ]
        }
      ]
    },
    {
      "cell_type": "code",
      "source": [
        "predict_dataset = datasets.MNIST(root=\"dataset/\", train=False, transform=transforms.ToTensor(), download=True)\n",
        "predict_loader = DataLoader(dataset=test_dataset, batch_size = 1, shuffle=True)"
      ],
      "metadata": {
        "id": "Ozgo8xxiQMvN"
      },
      "execution_count": 132,
      "outputs": []
    },
    {
      "cell_type": "code",
      "source": [
        "# test_loader\n",
        "model.eval()\n",
        "y_true = []\n",
        "y_pred = []\n",
        "with torch.no_grad():\n",
        "    for x, y in tqdm(predict_loader):\n",
        "        x = x.to(device=device)\n",
        "        y = y.to(device=device)\n",
        "        y = y.cpu().detach().numpy()\n",
        "        \n",
        "        x = x.reshape(x.shape[0], -1)\n",
        "        outputs = model(x)\n",
        "\n",
        "        predictions = torch.log_softmax(outputs, dim = 1)\n",
        "        _, predictions = torch.max(predictions, 1)\n",
        "        predictions = predictions.cpu().detach().numpy()\n",
        "\n",
        "        y_true.append(y)\n",
        "        y_pred.append(predictions)\n",
        "\n",
        "model.train()\n",
        "\n",
        "conf_matrix = confusion_matrix(\n",
        "    y_true = y_true,\n",
        "    y_pred = y_pred\n",
        "    )\n",
        "labels = np.unique(y)\n",
        "\n",
        "print(accuracy_score(y_true, y_pred))\n",
        "\n",
        "\n",
        "plot_cm = ConfusionMatrixDisplay(\n",
        "    confusion_matrix = conf_matrix,\n",
        "    display_labels = labels\n",
        "    ) \\\n",
        "    .plot()\n",
        "\n",
        "plt.show()"
      ],
      "metadata": {
        "colab": {
          "base_uri": "https://localhost:8080/",
          "height": 314
        },
        "id": "e-LVY7VjmRKV",
        "outputId": "d8fb1b8b-cbf7-4136-f4da-20fa9dcbc72c"
      },
      "execution_count": 134,
      "outputs": [
        {
          "output_type": "stream",
          "name": "stderr",
          "text": [
            "100%|██████████| 10000/10000 [00:09<00:00, 1101.96it/s]\n"
          ]
        },
        {
          "output_type": "stream",
          "name": "stdout",
          "text": [
            "0.9663\n"
          ]
        },
        {
          "output_type": "display_data",
          "data": {
            "text/plain": [
              "<Figure size 432x288 with 2 Axes>"
            ],
            "image/png": "[encoded data removed]"
          },
          "metadata": {
            "needs_background": "light"
          }
        }
      ]
    },
    {
      "cell_type": "markdown",
      "source": [
        "### CNN"
      ],
      "metadata": {
        "id": "zF777LDbkVzw"
      }
    },
    {
      "cell_type": "code",
      "source": [
        "# ploting evaluations\n",
        "def network_plots(train, test, metric):\n",
        "    fig, ax = plt.subplots(figsize=(8,5))\n",
        "\n",
        "    ax.plot(train)\n",
        "    ax.plot(test)\n",
        "\n",
        "    ax.legend(('Train', 'Test'), loc=\"best\")\n",
        "    plt.show()\n",
        "    print(f\"The {metric} on train was {round(train[-1],2)}, and on test was {round(test[-1],2)}.\")"
      ],
      "metadata": {
        "id": "YHQ1PYGlOgM2"
      },
      "execution_count": 394,
      "outputs": []
    },
    {
      "cell_type": "code",
      "source": [
        "class CNN(nn.Module):\n",
        "    def __init__(self, in_channel, num_classes):\n",
        "        super(CNN, self).__init__()\n",
        "        self.conv1 = nn.Conv2d(\n",
        "            in_channels = in_channel,\n",
        "            out_channels = 8,\n",
        "            kernel_size = (3,3),\n",
        "            stride = (1,1),\n",
        "            padding = (1,1)\n",
        "        )\n",
        "        self.pool = nn.MaxPool2d(\n",
        "            kernel_size = (2,2),\n",
        "            stride = (2,2),\n",
        "        )\n",
        "        self.conv2 = nn.Conv2d(\n",
        "            in_channels = 8,\n",
        "            out_channels = 16,\n",
        "            kernel_size = (3,3),\n",
        "            stride = (1,1),\n",
        "            padding = (1,1)\n",
        "        )\n",
        "        self.fc1 = nn.Linear(16*7*7, num_classes)\n",
        "\n",
        "    def forward(self, x):\n",
        "        x = F.relu(self.conv1(x))\n",
        "        x = self.pool(x)\n",
        "        x = F.relu(self.conv2(x))\n",
        "        x = self.pool(x)\n",
        "        x = x.reshape(x.shape[0], -1)\n",
        "        x = self.fc1(x)\n",
        "        return x"
      ],
      "metadata": {
        "id": "ssopJ2_88bln"
      },
      "execution_count": 395,
      "outputs": []
    },
    {
      "cell_type": "code",
      "source": [
        "# hiperparameters\n",
        "num_epochs = 10\n",
        "learning_rate = 0.001\n",
        "\n",
        "# Initialize network\n",
        "model = CNN(\n",
        "    in_channel = in_channel, \n",
        "    num_classes = num_classes,\n",
        "    ).to(device)\n",
        "\n",
        "# Loss and optimizer\n",
        "criterion = nn.CrossEntropyLoss()\n",
        "optimizer = optim.Adam(model.parameters(), lr=learning_rate)\n",
        "\n",
        "# Train Network\n",
        "train_losses = []\n",
        "valid_losses = []\n",
        "train_accuracy = []\n",
        "valid_accuracy = []\n",
        "\n",
        "\n",
        "for epoch in tqdm(range(num_epochs)):    \n",
        "    running_loss = 0\n",
        "    train_acc = 0\n",
        "    for batch_idx, (data, targets) in enumerate(train_loader):\n",
        "        # Get data to cuda if possible\n",
        "\n",
        "        data = data.to(device=device)\n",
        "        targets = targets.to(device=device)\n",
        "        \n",
        "        # forward\n",
        "        outputs = model(data)\n",
        "        loss = criterion(outputs, targets)\n",
        "        \n",
        "        # backward\n",
        "        optimizer.zero_grad()\n",
        "        loss.backward()\n",
        "\n",
        "        # gradient descent or adam step\n",
        "        optimizer.step()\n",
        "\n",
        "        # forward metrics log\n",
        "        _, predictions = torch.max(outputs, 1)\n",
        "        equals = predictions == targets.view(*predictions.shape)\n",
        "        train_acc += torch.mean(equals.type(torch.FloatTensor))\n",
        "        running_loss += loss.item()\n",
        "    else:\n",
        "        # validation metrics log\n",
        "        valid_loss = 0\n",
        "        valid_acc = 0\n",
        "        with torch.no_grad():\n",
        "            model.eval()\n",
        "            for x, y in test_loader:\n",
        "                x = x.to(device=device)\n",
        "                y = y.to(device=device)\n",
        "                outputs = model(x)\n",
        "                \n",
        "                _, predictions = torch.max(outputs, 1)\n",
        "\n",
        "                equals = predictions == y.view(*predictions.shape)\n",
        "                \n",
        "                valid_loss += criterion(outputs, y)\n",
        "                valid_acc += torch.mean(equals.type(torch.FloatTensor))\n",
        "            \n",
        "    model.train()\n",
        "            \n",
        "    # traking results\n",
        "    train_accuracy.append((train_acc/len(train_loader)).item())\n",
        "    valid_accuracy.append((valid_acc/len(test_loader)).item())\n",
        "    train_losses.append(running_loss/len(train_loader))\n",
        "    valid_losses.append((valid_loss/len(test_loader)).item())\n",
        "    \n",
        "    acct = round(train_accuracy[-1],2)   \n",
        "    accv = round(valid_accuracy[-1],2)\n",
        "    lossv = round(valid_losses[-1],2)\n",
        "    losst = round(train_losses[-1],2)\n",
        "\n",
        "    print(f\" || acc: train {acct}; valid {accv} | loss: train {losst}; valid {lossv}\")"
      ],
      "metadata": {
        "colab": {
          "base_uri": "https://localhost:8080/"
        },
        "id": "_OgXDz2uZ3FS",
        "outputId": "50efed5f-006d-43be-e723-9ceeab98f86a"
      },
      "execution_count": 448,
      "outputs": [
        {
          "output_type": "stream",
          "name": "stderr",
          "text": [
            " 10%|█         | 1/10 [00:18<02:43, 18.12s/it]"
          ]
        },
        {
          "output_type": "stream",
          "name": "stdout",
          "text": [
            " || acc: train 0.89; valid 0.95 | loss: train 0.39; valid 0.15\n"
          ]
        },
        {
          "output_type": "stream",
          "name": "stderr",
          "text": [
            "\r 20%|██        | 2/10 [00:30<01:57, 14.75s/it]"
          ]
        },
        {
          "output_type": "stream",
          "name": "stdout",
          "text": [
            " || acc: train 0.96; valid 0.97 | loss: train 0.13; valid 0.1\n"
          ]
        },
        {
          "output_type": "stream",
          "name": "stderr",
          "text": [
            "\r 30%|███       | 3/10 [00:42<01:35, 13.66s/it]"
          ]
        },
        {
          "output_type": "stream",
          "name": "stdout",
          "text": [
            " || acc: train 0.97; valid 0.97 | loss: train 0.1; valid 0.08\n"
          ]
        },
        {
          "output_type": "stream",
          "name": "stderr",
          "text": [
            "\r 40%|████      | 4/10 [00:55<01:18, 13.13s/it]"
          ]
        },
        {
          "output_type": "stream",
          "name": "stdout",
          "text": [
            " || acc: train 0.98; valid 0.98 | loss: train 0.08; valid 0.06\n"
          ]
        },
        {
          "output_type": "stream",
          "name": "stderr",
          "text": [
            "\r 50%|█████     | 5/10 [01:07<01:04, 12.87s/it]"
          ]
        },
        {
          "output_type": "stream",
          "name": "stdout",
          "text": [
            " || acc: train 0.98; valid 0.98 | loss: train 0.07; valid 0.06\n"
          ]
        },
        {
          "output_type": "stream",
          "name": "stderr",
          "text": [
            "\r 60%|██████    | 6/10 [01:19<00:50, 12.71s/it]"
          ]
        },
        {
          "output_type": "stream",
          "name": "stdout",
          "text": [
            " || acc: train 0.98; valid 0.98 | loss: train 0.06; valid 0.06\n"
          ]
        },
        {
          "output_type": "stream",
          "name": "stderr",
          "text": [
            "\r 70%|███████   | 7/10 [01:32<00:37, 12.56s/it]"
          ]
        },
        {
          "output_type": "stream",
          "name": "stdout",
          "text": [
            " || acc: train 0.98; valid 0.98 | loss: train 0.06; valid 0.05\n"
          ]
        },
        {
          "output_type": "stream",
          "name": "stderr",
          "text": [
            "\r 80%|████████  | 8/10 [01:44<00:25, 12.52s/it]"
          ]
        },
        {
          "output_type": "stream",
          "name": "stdout",
          "text": [
            " || acc: train 0.98; valid 0.98 | loss: train 0.05; valid 0.05\n"
          ]
        },
        {
          "output_type": "stream",
          "name": "stderr",
          "text": [
            "\r 90%|█████████ | 9/10 [01:56<00:12, 12.45s/it]"
          ]
        },
        {
          "output_type": "stream",
          "name": "stdout",
          "text": [
            " || acc: train 0.99; valid 0.98 | loss: train 0.05; valid 0.05\n"
          ]
        },
        {
          "output_type": "stream",
          "name": "stderr",
          "text": [
            "100%|██████████| 10/10 [02:09<00:00, 12.94s/it]"
          ]
        },
        {
          "output_type": "stream",
          "name": "stdout",
          "text": [
            " || acc: train 0.99; valid 0.98 | loss: train 0.04; valid 0.05\n"
          ]
        },
        {
          "output_type": "stream",
          "name": "stderr",
          "text": [
            "\n"
          ]
        }
      ]
    },
    {
      "cell_type": "code",
      "source": [
        "network_plots(train_accuracy, valid_accuracy, 'Accuracy')\n",
        "network_plots(train_losses, valid_losses, 'Losses')"
      ],
      "metadata": {
        "colab": {
          "base_uri": "https://localhost:8080/",
          "height": 658
        },
        "id": "RT8iBfPCZ7K9",
        "outputId": "b55c083d-891c-4955-a72e-20226f6026fa"
      },
      "execution_count": 449,
      "outputs": [
        {
          "output_type": "display_data",
          "data": {
            "text/plain": [
              "<Figure size 576x360 with 1 Axes>"
            ],
            "image/png": "[encoded data removed]"
          },
          "metadata": {
            "needs_background": "light"
          }
        },
        {
          "output_type": "stream",
          "name": "stdout",
          "text": [
            "The Accuracy on train was 0.99, and on test was 0.98.\n"
          ]
        },
        {
          "output_type": "display_data",
          "data": {
            "text/plain": [
              "<Figure size 576x360 with 1 Axes>"
            ],
            "image/png": "[encoded data removed]"
          },
          "metadata": {
            "needs_background": "light"
          }
        },
        {
          "output_type": "stream",
          "name": "stdout",
          "text": [
            "The Losses on train was 0.04, and on test was 0.05.\n"
          ]
        }
      ]
    },
    {
      "cell_type": "code",
      "source": [
        "predict_dataset = datasets.MNIST(root=\"dataset/\", train=False, transform=transforms.ToTensor(), download=True)\n",
        "predict_loader = DataLoader(dataset=test_dataset, batch_size = 1, shuffle=True)"
      ],
      "metadata": {
        "id": "zv3TZVUs5nSb"
      },
      "execution_count": 450,
      "outputs": []
    },
    {
      "cell_type": "code",
      "source": [
        "# test_loader\n",
        "model.eval()\n",
        "y_true = []\n",
        "y_pred = []\n",
        "with torch.no_grad():\n",
        "    for x, y in tqdm(predict_loader):\n",
        "        x = x.to(device=device)\n",
        "        y = y.to(device=device)\n",
        "        y = y.cpu().detach().numpy()\n",
        "\n",
        "        outputs = model(x)\n",
        "\n",
        "        predictions = torch.log_softmax(outputs, dim = 1)\n",
        "        _, predictions = torch.max(predictions, 1)\n",
        "        predictions = predictions.cpu().detach().numpy()\n",
        "\n",
        "        y_true.append(y)\n",
        "        y_pred.append(predictions)\n",
        "\n",
        "model.train()\n",
        "\n",
        "conf_matrix = confusion_matrix(\n",
        "    y_true = y_true,\n",
        "    y_pred = y_pred\n",
        "    )\n",
        "labels = np.unique(y)\n",
        "\n",
        "print(accuracy_score(y_true, y_pred))\n",
        "\n",
        "\n",
        "plot_cm = ConfusionMatrixDisplay(\n",
        "    confusion_matrix = conf_matrix,\n",
        "    display_labels = labels\n",
        "    ) \\\n",
        "    .plot()\n",
        "\n",
        "plt.show()"
      ],
      "metadata": {
        "colab": {
          "base_uri": "https://localhost:8080/",
          "height": 314
        },
        "id": "YLURDZSQZ8ro",
        "outputId": "bb0421b3-bf9a-4294-94bb-02ce071c1a97"
      },
      "execution_count": 451,
      "outputs": [
        {
          "output_type": "stream",
          "name": "stderr",
          "text": [
            "100%|██████████| 10000/10000 [00:11<00:00, 858.32it/s]\n"
          ]
        },
        {
          "output_type": "stream",
          "name": "stdout",
          "text": [
            "0.9844\n"
          ]
        },
        {
          "output_type": "display_data",
          "data": {
            "text/plain": [
              "<Figure size 432x288 with 2 Axes>"
            ],
            "image/png": "[encoded data removed]"
          },
          "metadata": {
            "needs_background": "light"
          }
        }
      ]
    },
    {
      "cell_type": "markdown",
      "source": [
        "### Kaggle Competition"
      ],
      "metadata": {
        "id": "gyUQLu63TvaL"
      }
    },
    {
      "cell_type": "code",
      "source": [
        "! kaggle competitions download -c digit-recognizer --force"
      ],
      "metadata": {
        "id": "O_5_u8m5TyqJ",
        "outputId": "68a9defe-a18c-48a0-8720-92c90000625d",
        "colab": {
          "base_uri": "https://localhost:8080/"
        }
      },
      "execution_count": 181,
      "outputs": [
        {
          "output_type": "stream",
          "name": "stdout",
          "text": [
            "Downloading digit-recognizer.zip to /content\n",
            " 65% 10.0M/15.3M [00:00<00:00, 38.0MB/s]\n",
            "100% 15.3M/15.3M [00:00<00:00, 55.2MB/s]\n"
          ]
        }
      ]
    },
    {
      "cell_type": "code",
      "source": [
        "! unzip digit-recognizer.zip"
      ],
      "metadata": {
        "id": "ELtIdsdbT9gi",
        "outputId": "419bbb86-a3da-432b-81e2-0b50b3f7ec75",
        "colab": {
          "base_uri": "https://localhost:8080/"
        }
      },
      "execution_count": 403,
      "outputs": [
        {
          "output_type": "stream",
          "name": "stdout",
          "text": [
            "Archive:  digit-recognizer.zip\n",
            "replace sample_submission.csv? [y]es, [n]o, [A]ll, [N]one, [r]ename: A\n",
            "  inflating: sample_submission.csv   \n",
            "  inflating: test.csv                \n",
            "  inflating: train.csv               \n"
          ]
        }
      ]
    },
    {
      "cell_type": "code",
      "source": [
        "test = pd.read_csv(\"test.csv\")"
      ],
      "metadata": {
        "id": "ExfhsTCGUOh7"
      },
      "execution_count": 404,
      "outputs": []
    },
    {
      "cell_type": "code",
      "source": [
        "df_sub = pd.read_csv(\"sample_submission.csv\")"
      ],
      "metadata": {
        "id": "db2gRpAmXVRX"
      },
      "execution_count": 405,
      "outputs": []
    },
    {
      "cell_type": "markdown",
      "source": [
        "#### Submission"
      ],
      "metadata": {
        "id": "RVNno885UKyx"
      }
    },
    {
      "cell_type": "code",
      "source": [
        "class import_mnist(Dataset):\n",
        "    def __init__(self, data, transform=None):\n",
        "        self.data = data\n",
        "        self.transform = transform\n",
        "        \n",
        "    def __len__(self):\n",
        "        return len(self.data)\n",
        "    \n",
        "    def __getitem__(self, index):\n",
        "        image = self.data.iloc[index].values.astype(np.uint8).reshape((28, 28, 1))\n",
        "        \n",
        "        if self.transform is not None:\n",
        "            image = self.transform(image)\n",
        "            \n",
        "        return image\n",
        "\n",
        "transform = transforms.Compose([\n",
        "    transforms.ToPILImage(),\n",
        "    transforms.ToTensor(),\n",
        "    transforms.Normalize(mean=(0.5,), std=(0.5,))\n",
        "])\n",
        "\n",
        "sub_dataset = import_mnist(test, transform=transform)\n",
        "\n",
        "sub_loader = DataLoader(\n",
        "    dataset = sub_dataset,\n",
        "    batch_size = 1,\n",
        "    shuffle = False\n",
        "    )"
      ],
      "metadata": {
        "id": "VFxoMZrSZOIG"
      },
      "execution_count": 406,
      "outputs": []
    },
    {
      "cell_type": "code",
      "source": [
        "# submission prediction\n",
        "model.eval()\n",
        "y_pred = []\n",
        "with torch.no_grad():\n",
        "    for x in tqdm(sub_loader):\n",
        "        x = x.to(device=device)\n",
        "\n",
        "        outputs = model(x)\n",
        "\n",
        "        predictions = torch.log_softmax(outputs, dim = 1)\n",
        "        _, predictions = torch.max(predictions, 1)\n",
        "        predictions = predictions[0].cpu().detach().numpy()\n",
        "        y_pred.append(predictions)\n",
        "\n",
        "model.train()"
      ],
      "metadata": {
        "id": "WR67KfPqabJk",
        "outputId": "32a4f50b-837c-46cb-9b3a-f89c6af6b8d3",
        "colab": {
          "base_uri": "https://localhost:8080/"
        }
      },
      "execution_count": 407,
      "outputs": [
        {
          "output_type": "stream",
          "name": "stderr",
          "text": [
            "100%|██████████| 28000/28000 [00:44<00:00, 627.14it/s]"
          ]
        },
        {
          "output_type": "stream",
          "name": "stdout",
          "text": [
            "[array(2), array(0), array(9), array(0), array(3)]\n"
          ]
        },
        {
          "output_type": "stream",
          "name": "stderr",
          "text": [
            "\n"
          ]
        }
      ]
    },
    {
      "cell_type": "code",
      "source": [
        "submission = pd.DataFrame({'ImageId': df_sub['ImageId'], 'Label': y_pred})\n",
        "submission.to_csv('submission.csv', index=False)"
      ],
      "metadata": {
        "id": "OJOcBdN6Wzpl"
      },
      "execution_count": 408,
      "outputs": []
    },
    {
      "cell_type": "code",
      "source": [
        "! kaggle competitions submit -c digit-recognizer -f submission.csv -m \"No mensage.\""
      ],
      "metadata": {
        "id": "Qkl-0HhXgGKf",
        "outputId": "59635015-ee74-4533-b85c-248cee247059",
        "colab": {
          "base_uri": "https://localhost:8080/"
        }
      },
      "execution_count": 411,
      "outputs": [
        {
          "output_type": "stream",
          "name": "stdout",
          "text": [
            "100% 208k/208k [00:01<00:00, 144kB/s]\n",
            "Successfully submitted to Digit Recognizer"
          ]
        }
      ]
    },
    {
      "cell_type": "markdown",
      "source": [
        "0.81767"
      ],
      "metadata": {
        "id": "QzDepWtLvgA3"
      }
    },
    {
      "cell_type": "code",
      "source": [
        "# Viewing data examples used for validation\n",
        "fig, axis = plt.subplots(2, 10, figsize=(10, 5))\n",
        "images = iter(sub_loader)\n",
        "\n",
        "for i, ax in enumerate(axis.flat):\n",
        "    with torch.no_grad():\n",
        "        image = sub_dataset[i]\n",
        "        ax.imshow(image.view(28, 28), cmap='binary') # add image\n",
        "        ax.axis('off')"
      ],
      "metadata": {
        "id": "_sMXpEzej95N",
        "outputId": "99d69741-5114-4201-d39f-0b61ba1844d2",
        "colab": {
          "base_uri": "https://localhost:8080/",
          "height": 226
        }
      },
      "execution_count": 409,
      "outputs": [
        {
          "output_type": "display_data",
          "data": {
            "text/plain": [
              "<Figure size 720x360 with 20 Axes>"
            ],
            "image/png": "[encoded data removed]"
          },
          "metadata": {
            "needs_background": "light"
          }
        }
      ]
    },
    {
      "cell_type": "code",
      "source": [
        "submission.head(20).T"
      ],
      "metadata": {
        "id": "-f8NqizCjUWN",
        "outputId": "d37f2029-4bfb-4f20-cafe-8b4a49b26429",
        "colab": {
          "base_uri": "https://localhost:8080/",
          "height": 112
        }
      },
      "execution_count": 410,
      "outputs": [
        {
          "output_type": "execute_result",
          "data": {
            "text/plain": [
              "        0  1  2  3  4  5  6  7  8   9   10  11  12  13  14  15  16  17  18  19\n",
              "ImageId  1  2  3  4  5  6  7  8  9  10  11  12  13  14  15  16  17  18  19  20\n",
              "Label    2  0  9  0  3  7  0  3  0   3   5   7   9   0   7   3   3   0   9   0"
            ],
            "text/html": [
              "\n",
              "  <div id=\"df-6fffc795-db99-41ec-9229-7fa22edb1b11\">\n",
              "    <div class=\"colab-df-container\">\n",
              "      <div>\n",
              "<style scoped>\n",
              "    .dataframe tbody tr th:only-of-type {\n",
              "        vertical-align: middle;\n",
              "    }\n",
              "\n",
              "    .dataframe tbody tr th {\n",
              "        vertical-align: top;\n",
              "    }\n",
              "\n",
              "    .dataframe thead th {\n",
              "        text-align: right;\n",
              "    }\n",
              "</style>\n",
              "<table border=\"1\" class=\"dataframe\">\n",
              "  <thead>\n",
              "    <tr style=\"text-align: right;\">\n",
              "      <th></th>\n",
              "      <th>0</th>\n",
              "      <th>1</th>\n",
              "      <th>2</th>\n",
              "      <th>3</th>\n",
              "      <th>4</th>\n",
              "      <th>5</th>\n",
              "      <th>6</th>\n",
              "      <th>7</th>\n",
              "      <th>8</th>\n",
              "      <th>9</th>\n",
              "      <th>10</th>\n",
              "      <th>11</th>\n",
              "      <th>12</th>\n",
              "      <th>13</th>\n",
              "      <th>14</th>\n",
              "      <th>15</th>\n",
              "      <th>16</th>\n",
              "      <th>17</th>\n",
              "      <th>18</th>\n",
              "      <th>19</th>\n",
              "    </tr>\n",
              "  </thead>\n",
              "  <tbody>\n",
              "    <tr>\n",
              "      <th>ImageId</th>\n",
              "      <td>1</td>\n",
              "      <td>2</td>\n",
              "      <td>3</td>\n",
              "      <td>4</td>\n",
              "      <td>5</td>\n",
              "      <td>6</td>\n",
              "      <td>7</td>\n",
              "      <td>8</td>\n",
              "      <td>9</td>\n",
              "      <td>10</td>\n",
              "      <td>11</td>\n",
              "      <td>12</td>\n",
              "      <td>13</td>\n",
              "      <td>14</td>\n",
              "      <td>15</td>\n",
              "      <td>16</td>\n",
              "      <td>17</td>\n",
              "      <td>18</td>\n",
              "      <td>19</td>\n",
              "      <td>20</td>\n",
              "    </tr>\n",
              "    <tr>\n",
              "      <th>Label</th>\n",
              "      <td>2</td>\n",
              "      <td>0</td>\n",
              "      <td>9</td>\n",
              "      <td>0</td>\n",
              "      <td>3</td>\n",
              "      <td>7</td>\n",
              "      <td>0</td>\n",
              "      <td>3</td>\n",
              "      <td>0</td>\n",
              "      <td>3</td>\n",
              "      <td>5</td>\n",
              "      <td>7</td>\n",
              "      <td>9</td>\n",
              "      <td>0</td>\n",
              "      <td>7</td>\n",
              "      <td>3</td>\n",
              "      <td>3</td>\n",
              "      <td>0</td>\n",
              "      <td>9</td>\n",
              "      <td>0</td>\n",
              "    </tr>\n",
              "  </tbody>\n",
              "</table>\n",
              "</div>\n",
              "      <button class=\"colab-df-convert\" onclick=\"convertToInteractive('df-6fffc795-db99-41ec-9229-7fa22edb1b11')\"\n",
              "              title=\"Convert this dataframe to an interactive table.\"\n",
              "              style=\"display:none;\">\n",
              "        \n",
              "  <svg xmlns=\"http://www.w3.org/2000/svg\" height=\"24px\"viewBox=\"0 0 24 24\"\n",
              "       width=\"24px\">\n",
              "    <path d=\"M0 0h24v24H0V0z\" fill=\"none\"/>\n",
              "    <path d=\"M18.56 5.44l.94 2.06.94-2.06 2.06-.94-2.06-.94-.94-2.06-.94 2.06-2.06.94zm-11 1L8.5 8.5l.94-2.06 2.06-.94-2.06-.94L8.5 2.5l-.94 2.06-2.06.94zm10 10l.94 2.06.94-2.06 2.06-.94-2.06-.94-.94-2.06-.94 2.06-2.06.94z\"/><path d=\"M17.41 7.96l-1.37-1.37c-.4-.4-.92-.59-1.43-.59-.52 0-1.04.2-1.43.59L10.3 9.45l-7.72 7.72c-.78.78-.78 2.05 0 2.83L4 21.41c.39.39.9.59 1.41.59.51 0 1.02-.2 1.41-.59l7.78-7.78 2.81-2.81c.8-.78.8-2.07 0-2.86zM5.41 20L4 18.59l7.72-7.72 1.47 1.35L5.41 20z\"/>\n",
              "  </svg>\n",
              "      </button>\n",
              "      \n",
              "  <style>\n",
              "    .colab-df-container {\n",
              "      display:flex;\n",
              "      flex-wrap:wrap;\n",
              "      gap: 12px;\n",
              "    }\n",
              "\n",
              "    .colab-df-convert {\n",
              "      background-color: #E8F0FE;\n",
              "      border: none;\n",
              "      border-radius: 50%;\n",
              "      cursor: pointer;\n",
              "      display: none;\n",
              "      fill: #1967D2;\n",
              "      height: 32px;\n",
              "      padding: 0 0 0 0;\n",
              "      width: 32px;\n",
              "    }\n",
              "\n",
              "    .colab-df-convert:hover {\n",
              "      background-color: #E2EBFA;\n",
              "      box-shadow: 0px 1px 2px rgba(60, 64, 67, 0.3), 0px 1px 3px 1px rgba(60, 64, 67, 0.15);\n",
              "      fill: #174EA6;\n",
              "    }\n",
              "\n",
              "    [theme=dark] .colab-df-convert {\n",
              "      background-color: #3B4455;\n",
              "      fill: #D2E3FC;\n",
              "    }\n",
              "\n",
              "    [theme=dark] .colab-df-convert:hover {\n",
              "      background-color: #434B5C;\n",
              "      box-shadow: 0px 1px 3px 1px rgba(0, 0, 0, 0.15);\n",
              "      filter: drop-shadow(0px 1px 2px rgba(0, 0, 0, 0.3));\n",
              "      fill: #FFFFFF;\n",
              "    }\n",
              "  </style>\n",
              "\n",
              "      <script>\n",
              "        const buttonEl =\n",
              "          document.querySelector('#df-6fffc795-db99-41ec-9229-7fa22edb1b11 button.colab-df-convert');\n",
              "        buttonEl.style.display =\n",
              "          google.colab.kernel.accessAllowed ? 'block' : 'none';\n",
              "\n",
              "        async function convertToInteractive(key) {\n",
              "          const element = document.querySelector('#df-6fffc795-db99-41ec-9229-7fa22edb1b11');\n",
              "          const dataTable =\n",
              "            await google.colab.kernel.invokeFunction('convertToInteractive',\n",
              "                                                     [key], {});\n",
              "          if (!dataTable) return;\n",
              "\n",
              "          const docLinkHtml = 'Like what you see? Visit the ' +\n",
              "            '<a target=\"_blank\" href=https://colab.research.google.com/notebooks/data_table.ipynb>data table notebook</a>'\n",
              "            + ' to learn more about interactive tables.';\n",
              "          element.innerHTML = '';\n",
              "          dataTable['output_type'] = 'display_data';\n",
              "          await google.colab.output.renderOutput(dataTable, element);\n",
              "          const docLink = document.createElement('div');\n",
              "          docLink.innerHTML = docLinkHtml;\n",
              "          element.appendChild(docLink);\n",
              "        }\n",
              "      </script>\n",
              "    </div>\n",
              "  </div>\n",
              "  "
            ]
          },
          "metadata": {},
          "execution_count": 410
        }
      ]
    },
    {
      "cell_type": "markdown",
      "source": [
        "# 3ª Questão"
      ],
      "metadata": {
        "id": "D9jcXFznnjDM"
      }
    },
    {
      "cell_type": "code",
      "source": [
        "# dataset parameters\n",
        "in_channel = 3\n",
        "input_size = 50000\n",
        "num_classes = 10\n",
        "batch_size = 100"
      ],
      "metadata": {
        "id": "8Yt5Vj9g0V-L"
      },
      "execution_count": 455,
      "outputs": []
    },
    {
      "cell_type": "code",
      "source": [
        "train_dataset = datasets.CIFAR10(root=\"dataset/\", train=True, transform=transforms.ToTensor(), download=True)\n",
        "test_dataset = datasets.CIFAR10(root=\"dataset/\", train=False, transform=transforms.ToTensor(), download=True)\n",
        "train_loader = DataLoader(dataset=train_dataset, batch_size=batch_size, shuffle=True)\n",
        "test_loader = DataLoader(dataset=test_dataset, batch_size=batch_size, shuffle=True)"
      ],
      "metadata": {
        "id": "r1bw2QdBzvSW",
        "outputId": "1688ae7b-f530-4022-9c2a-d90d8eaa6c77",
        "colab": {
          "base_uri": "https://localhost:8080/"
        }
      },
      "execution_count": 456,
      "outputs": [
        {
          "output_type": "stream",
          "name": "stdout",
          "text": [
            "Files already downloaded and verified\n",
            "Files already downloaded and verified\n"
          ]
        }
      ]
    },
    {
      "cell_type": "code",
      "source": [
        "len(train_dataset), len(test_dataset)"
      ],
      "metadata": {
        "id": "gzK1d4tQ3_1t",
        "outputId": "8a2ba8a9-d12c-4616-be68-09d626e4e1e0",
        "colab": {
          "base_uri": "https://localhost:8080/"
        }
      },
      "execution_count": 457,
      "outputs": [
        {
          "output_type": "execute_result",
          "data": {
            "text/plain": [
              "(50000, 10000)"
            ]
          },
          "metadata": {},
          "execution_count": 457
        }
      ]
    },
    {
      "cell_type": "code",
      "source": [
        "# ploting evaluations\n",
        "def network_plots(train, test, metric):\n",
        "    fig, ax = plt.subplots(figsize=(8,5))\n",
        "\n",
        "    ax.plot(train)\n",
        "    ax.plot(test)\n",
        "\n",
        "    ax.legend(('Train', 'Test'), loc=\"best\")\n",
        "    plt.show()\n",
        "    print(f\"The {metric} on train was {round(train[-1],2)}, and on test was {round(test[-1],2)}.\")"
      ],
      "metadata": {
        "id": "-NIDbTcczAV7"
      },
      "execution_count": 458,
      "outputs": []
    },
    {
      "cell_type": "code",
      "source": [
        "# reason for the kernel\n",
        "input_featrues = 32\n",
        "padding = 1\n",
        "kernel_size = 3\n",
        "stride = 1\n",
        "\n",
        "kernel = (input_featrues+2*padding-kernel_size)/stride+1\n",
        "\n",
        "MaxPool_output = 32/2/2/2\n",
        "\n",
        "print(kernel, MaxPool_output)"
      ],
      "metadata": {
        "id": "atpFkCuQ6JvM",
        "outputId": "ce5fd286-ceee-4fb2-a56f-8b1ccf4c0672",
        "colab": {
          "base_uri": "https://localhost:8080/"
        }
      },
      "execution_count": 474,
      "outputs": [
        {
          "output_type": "stream",
          "name": "stdout",
          "text": [
            "32.0 4.0\n"
          ]
        }
      ]
    },
    {
      "cell_type": "code",
      "source": [
        "# modelo da LeNet com mais uma camada full conected\n",
        "class LeNet(nn.Module):\n",
        "    def __init__(self, in_channel, num_classes):\n",
        "        super(LeNet, self).__init__()\n",
        "        self.conv1 = nn.Conv2d(\n",
        "            in_channels = in_channel,\n",
        "            out_channels = 16,\n",
        "            kernel_size = (3,3),\n",
        "            stride = (1,1),\n",
        "            padding = (1,1)\n",
        "        )\n",
        "        self.conv2 = nn.Conv2d(\n",
        "            in_channels = 16,\n",
        "            out_channels = 32,\n",
        "            kernel_size = (3,3),\n",
        "            stride = (1,1),\n",
        "            padding = (1,1)\n",
        "        )\n",
        "        self.conv3 = nn.Conv2d(\n",
        "            in_channels = 32,\n",
        "            out_channels = 64,\n",
        "            kernel_size = (3,3),\n",
        "            stride = (1,1),\n",
        "            padding = (1,1)\n",
        "        )\n",
        "        self.pool = nn.MaxPool2d(\n",
        "            kernel_size = (2,2),\n",
        "            stride = (2,2),\n",
        "        )\n",
        "        self.fc1 = nn.Linear(64*4*4, 500)\n",
        "        self.fc2 = nn.Linear(500, 100)\n",
        "        self.fc3 = nn.Linear(100, num_classes)\n",
        "        self.drop1 = nn.Dropout(0.1)\n",
        "\n",
        "    def forward(self, x):\n",
        "        x = F.relu(self.conv1(x))\n",
        "        x = self.pool(x)\n",
        "        x = F.relu(self.conv2(x))\n",
        "        x = self.pool(x)\n",
        "        x = F.relu(self.conv3(x))\n",
        "        x = self.pool(x)\n",
        "        x = x.reshape(x.shape[0], -1) # flatten our images to 1D to input it to the fully connected layers\n",
        "        x = F.relu(self.fc1(x))\n",
        "        x = self.drop1(x)\n",
        "        x = F.relu(self.fc2(x))\n",
        "        x = self.drop1(x)\n",
        "        x = self.fc3(x)\n",
        "        return x"
      ],
      "metadata": {
        "id": "OzMH-_R_4crA"
      },
      "execution_count": 507,
      "outputs": []
    },
    {
      "cell_type": "code",
      "source": [
        "model = LeNet(3,10)\n",
        "model"
      ],
      "metadata": {
        "id": "NkWnUrRy5NBh",
        "outputId": "40f66536-a7c1-48e1-c686-f3c9f785d280",
        "colab": {
          "base_uri": "https://localhost:8080/"
        }
      },
      "execution_count": 508,
      "outputs": [
        {
          "output_type": "execute_result",
          "data": {
            "text/plain": [
              "LeNet(\n",
              "  (conv1): Conv2d(3, 16, kernel_size=(3, 3), stride=(1, 1), padding=(1, 1))\n",
              "  (conv2): Conv2d(16, 32, kernel_size=(3, 3), stride=(1, 1), padding=(1, 1))\n",
              "  (conv3): Conv2d(32, 64, kernel_size=(3, 3), stride=(1, 1), padding=(1, 1))\n",
              "  (pool): MaxPool2d(kernel_size=(2, 2), stride=(2, 2), padding=0, dilation=1, ceil_mode=False)\n",
              "  (fc1): Linear(in_features=1024, out_features=500, bias=True)\n",
              "  (fc2): Linear(in_features=500, out_features=100, bias=True)\n",
              "  (fc3): Linear(in_features=100, out_features=10, bias=True)\n",
              "  (drop1): Dropout(p=0.1, inplace=False)\n",
              ")"
            ]
          },
          "metadata": {},
          "execution_count": 508
        }
      ]
    },
    {
      "cell_type": "code",
      "source": [
        "# hiperparameters\n",
        "num_epochs = 10\n",
        "learning_rate = 0.001\n",
        "\n",
        "# Initialize network\n",
        "model = LeNet(\n",
        "    in_channel = in_channel, \n",
        "    num_classes = num_classes,\n",
        "    ).to(device)\n",
        "\n",
        "# Loss and optimizer\n",
        "criterion = nn.CrossEntropyLoss()\n",
        "optimizer = optim.Adam(model.parameters(), lr=learning_rate)\n",
        "\n",
        "# Train Network\n",
        "train_losses = []\n",
        "valid_losses = []\n",
        "train_accuracy = []\n",
        "valid_accuracy = []\n",
        "\n",
        "\n",
        "for epoch in tqdm(range(num_epochs)):    \n",
        "    running_loss = 0\n",
        "    train_acc = 0\n",
        "    for batch_idx, (data, targets) in enumerate(train_loader):\n",
        "        # Get data to cuda if possible\n",
        "\n",
        "        data = data.to(device=device)\n",
        "        targets = targets.to(device=device)\n",
        "        \n",
        "        # forward\n",
        "        outputs = model(data)\n",
        "        loss = criterion(outputs, targets)\n",
        "        \n",
        "        # backward\n",
        "        optimizer.zero_grad()\n",
        "        loss.backward()\n",
        "\n",
        "        # gradient descent or adam step\n",
        "        optimizer.step()\n",
        "\n",
        "        # forward metrics log\n",
        "        _, predictions = torch.max(outputs, 1)\n",
        "        equals = predictions == targets.view(*predictions.shape)\n",
        "        train_acc += torch.mean(equals.type(torch.FloatTensor))\n",
        "        running_loss += loss.item()\n",
        "    else:\n",
        "        # validation metrics log\n",
        "        valid_loss = 0\n",
        "        valid_acc = 0\n",
        "        with torch.no_grad():\n",
        "            model.eval()\n",
        "            for x, y in test_loader:\n",
        "                x = x.to(device=device)\n",
        "                y = y.to(device=device)\n",
        "                outputs = model(x)\n",
        "                \n",
        "                _, predictions = torch.max(outputs, 1)\n",
        "\n",
        "                equals = predictions == y.view(*predictions.shape)\n",
        "                \n",
        "                valid_loss += criterion(outputs, y)\n",
        "                valid_acc += torch.mean(equals.type(torch.FloatTensor))\n",
        "            \n",
        "    model.train()\n",
        "            \n",
        "    # traking results\n",
        "    train_accuracy.append((train_acc/len(train_loader)).item())\n",
        "    valid_accuracy.append((valid_acc/len(test_loader)).item())\n",
        "    train_losses.append(running_loss/len(train_loader))\n",
        "    valid_losses.append((valid_loss/len(test_loader)).item())\n",
        "    \n",
        "    acct = round(train_accuracy[-1],2)   \n",
        "    accv = round(valid_accuracy[-1],2)\n",
        "    lossv = round(valid_losses[-1],2)\n",
        "    losst = round(train_losses[-1],2)\n",
        "\n",
        "    print(f\" || acc: train {acct}; valid {accv} | loss: train {losst}; valid {lossv}\")"
      ],
      "metadata": {
        "colab": {
          "base_uri": "https://localhost:8080/"
        },
        "id": "cLi93c_qnk3T",
        "outputId": "8a864b62-47b2-48b8-ed05-65385ac774ca"
      },
      "execution_count": 509,
      "outputs": [
        {
          "output_type": "stream",
          "name": "stderr",
          "text": [
            " 10%|█         | 1/10 [00:17<02:38, 17.56s/it]"
          ]
        },
        {
          "output_type": "stream",
          "name": "stdout",
          "text": [
            " || acc: train 0.39; valid 0.47 | loss: train 1.66; valid 1.46\n"
          ]
        },
        {
          "output_type": "stream",
          "name": "stderr",
          "text": [
            "\r 20%|██        | 2/10 [00:35<02:19, 17.50s/it]"
          ]
        },
        {
          "output_type": "stream",
          "name": "stdout",
          "text": [
            " || acc: train 0.52; valid 0.58 | loss: train 1.32; valid 1.17\n"
          ]
        },
        {
          "output_type": "stream",
          "name": "stderr",
          "text": [
            "\r 30%|███       | 3/10 [00:52<02:02, 17.50s/it]"
          ]
        },
        {
          "output_type": "stream",
          "name": "stdout",
          "text": [
            " || acc: train 0.59; valid 0.63 | loss: train 1.13; valid 1.04\n"
          ]
        },
        {
          "output_type": "stream",
          "name": "stderr",
          "text": [
            "\r 40%|████      | 4/10 [01:10<01:45, 17.53s/it]"
          ]
        },
        {
          "output_type": "stream",
          "name": "stdout",
          "text": [
            " || acc: train 0.65; valid 0.65 | loss: train 1.0; valid 0.99\n"
          ]
        },
        {
          "output_type": "stream",
          "name": "stderr",
          "text": [
            "\r 50%|█████     | 5/10 [01:27<01:27, 17.55s/it]"
          ]
        },
        {
          "output_type": "stream",
          "name": "stdout",
          "text": [
            " || acc: train 0.68; valid 0.68 | loss: train 0.9; valid 0.91\n"
          ]
        },
        {
          "output_type": "stream",
          "name": "stderr",
          "text": [
            "\r 60%|██████    | 6/10 [01:45<01:10, 17.54s/it]"
          ]
        },
        {
          "output_type": "stream",
          "name": "stdout",
          "text": [
            " || acc: train 0.71; valid 0.68 | loss: train 0.82; valid 0.9\n"
          ]
        },
        {
          "output_type": "stream",
          "name": "stderr",
          "text": [
            "\r 70%|███████   | 7/10 [02:02<00:52, 17.55s/it]"
          ]
        },
        {
          "output_type": "stream",
          "name": "stdout",
          "text": [
            " || acc: train 0.74; valid 0.68 | loss: train 0.74; valid 0.91\n"
          ]
        },
        {
          "output_type": "stream",
          "name": "stderr",
          "text": [
            "\r 80%|████████  | 8/10 [02:20<00:35, 17.58s/it]"
          ]
        },
        {
          "output_type": "stream",
          "name": "stdout",
          "text": [
            " || acc: train 0.76; valid 0.71 | loss: train 0.69; valid 0.84\n"
          ]
        },
        {
          "output_type": "stream",
          "name": "stderr",
          "text": [
            "\r 90%|█████████ | 9/10 [02:37<00:17, 17.55s/it]"
          ]
        },
        {
          "output_type": "stream",
          "name": "stdout",
          "text": [
            " || acc: train 0.78; valid 0.73 | loss: train 0.62; valid 0.81\n"
          ]
        },
        {
          "output_type": "stream",
          "name": "stderr",
          "text": [
            "100%|██████████| 10/10 [02:55<00:00, 17.54s/it]"
          ]
        },
        {
          "output_type": "stream",
          "name": "stdout",
          "text": [
            " || acc: train 0.8; valid 0.72 | loss: train 0.57; valid 0.82\n"
          ]
        },
        {
          "output_type": "stream",
          "name": "stderr",
          "text": [
            "\n"
          ]
        }
      ]
    },
    {
      "cell_type": "code",
      "source": [
        "network_plots(train_accuracy, valid_accuracy, 'Accuracy')\n",
        "network_plots(train_losses, valid_losses, 'Losses')"
      ],
      "metadata": {
        "id": "ti6DxQBa84c_",
        "outputId": "0e335759-e6ed-41c0-e512-dabb1b1b3fd8",
        "colab": {
          "base_uri": "https://localhost:8080/",
          "height": 658
        }
      },
      "execution_count": 510,
      "outputs": [
        {
          "output_type": "display_data",
          "data": {
            "text/plain": [
              "<Figure size 576x360 with 1 Axes>"
            ],
            "image/png": "[encoded data removed]"
          },
          "metadata": {
            "needs_background": "light"
          }
        },
        {
          "output_type": "stream",
          "name": "stdout",
          "text": [
            "The Accuracy on train was 0.8, and on test was 0.72.\n"
          ]
        },
        {
          "output_type": "display_data",
          "data": {
            "text/plain": [
              "<Figure size 576x360 with 1 Axes>"
            ],
            "image/png": "[encoded data removed]"
          },
          "metadata": {
            "needs_background": "light"
          }
        },
        {
          "output_type": "stream",
          "name": "stdout",
          "text": [
            "The Losses on train was 0.57, and on test was 0.82.\n"
          ]
        }
      ]
    },
    {
      "cell_type": "code",
      "source": [
        "predict_dataset = datasets.CIFAR10(root=\"dataset/\", train=False, transform=transforms.ToTensor(), download=True)\n",
        "predict_loader = DataLoader(dataset=test_dataset, batch_size = 1, shuffle=True)"
      ],
      "metadata": {
        "id": "VlLzVNxB_iCj",
        "outputId": "dd500603-d975-47cf-f5db-f5e4567f53f7",
        "colab": {
          "base_uri": "https://localhost:8080/"
        }
      },
      "execution_count": 511,
      "outputs": [
        {
          "output_type": "stream",
          "name": "stdout",
          "text": [
            "Files already downloaded and verified\n"
          ]
        }
      ]
    },
    {
      "cell_type": "code",
      "source": [
        "# test_loader\n",
        "model.eval()\n",
        "y_true = []\n",
        "y_pred = []\n",
        "with torch.no_grad():\n",
        "    for x, y in tqdm(predict_loader):\n",
        "        x = x.to(device=device)\n",
        "        y = y.to(device=device)\n",
        "        y = y.cpu().detach().numpy()\n",
        "\n",
        "        outputs = model(x)\n",
        "\n",
        "        predictions = torch.log_softmax(outputs, dim = 1)\n",
        "        _, predictions = torch.max(predictions, 1)\n",
        "        predictions = predictions.cpu().detach().numpy()\n",
        "\n",
        "        y_true.append(y)\n",
        "        y_pred.append(predictions)\n",
        "\n",
        "model.train()\n",
        "\n",
        "conf_matrix = confusion_matrix(\n",
        "    y_true = y_true,\n",
        "    y_pred = y_pred\n",
        "    )\n",
        "labels = np.unique(y)\n",
        "\n",
        "print(accuracy_score(y_true, y_pred))\n",
        "\n",
        "\n",
        "plot_cm = ConfusionMatrixDisplay(\n",
        "    confusion_matrix = conf_matrix,\n",
        "    display_labels = labels\n",
        "    ) \\\n",
        "    .plot()\n",
        "\n",
        "plt.show()"
      ],
      "metadata": {
        "id": "5QD53vray53k",
        "outputId": "1d1be207-4883-4b4c-fa66-d96a8aa62229",
        "colab": {
          "base_uri": "https://localhost:8080/",
          "height": 314
        }
      },
      "execution_count": 512,
      "outputs": [
        {
          "output_type": "stream",
          "name": "stderr",
          "text": [
            "100%|██████████| 10000/10000 [00:18<00:00, 544.49it/s]\n"
          ]
        },
        {
          "output_type": "stream",
          "name": "stdout",
          "text": [
            "0.7249\n"
          ]
        },
        {
          "output_type": "display_data",
          "data": {
            "text/plain": [
              "<Figure size 432x288 with 2 Axes>"
            ],
            "image/png": "[encoded data removed]"
          },
          "metadata": {
            "needs_background": "light"
          }
        }
      ]
    },
    {
      "cell_type": "code",
      "source": [
        "# Viewing data examples used for validation\n",
        "fig, axis = plt.subplots(2, 10, figsize=(10, 5))\n",
        "images = iter(sub_loader)\n",
        "\n",
        "for i, ax in enumerate(axis.flat):\n",
        "    with torch.no_grad():\n",
        "        image = sub_dataset[i]\n",
        "        ax.imshow(image.view(28, 28), cmap='binary') # add image\n",
        "        ax.axis('off')"
      ],
      "metadata": {
        "id": "mKd7OkXz4KHu"
      },
      "execution_count": null,
      "outputs": []
    }
  ],
  "metadata": {
    "colab": {
      "name": "1107106_220511_lista2.ipynb",
      "provenance": [],
      "collapsed_sections": [
        "pjXqK5i9aMcV"
      ],
      "toc_visible": true,
      "authorship_tag": "ABX9TyNgx9G6a5en5LlufShqnc4S",
      "include_colab_link": true
    },
    "kernelspec": {
      "display_name": "Python 3",
      "name": "python3"
    },
    "language_info": {
      "name": "python"
    },
    "accelerator": "GPU"
  },
  "nbformat": 4,
  "nbformat_minor": 0
}