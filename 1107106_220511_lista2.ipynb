{
  "cells": [
    {
      "cell_type": "markdown",
      "metadata": {
        "id": "view-in-github",
        "colab_type": "text"
      },
      "source": [
        "<a href=\"https://colab.research.google.com/github/GRACOPORDEUS/atividades_mestrado/blob/main/1107106_220511_lista2.ipynb\" target=\"_parent\"><img src=\"https://colab.research.google.com/assets/colab-badge.svg\" alt=\"Open In Colab\"/></a>"
      ]
    },
    {
      "cell_type": "code",
      "execution_count": 1,
      "metadata": {
        "id": "7VxPi01PZ9Nw"
      },
      "outputs": [],
      "source": [
        "import torch\n",
        "import torch.nn as nn\n",
        "import torch.optim as optim\n",
        "import torch.nn.functional as F\n",
        "import torchvision.datasets as datasets\n",
        "import torchvision.transforms as transforms\n",
        "from torch.utils.data import Dataset, DataLoader\n",
        "\n",
        "from sklearn.metrics import accuracy_score\n",
        "from sklearn.metrics import confusion_matrix\n",
        "from sklearn.metrics import ConfusionMatrixDisplay\n",
        "from sklearn.preprocessing import StandardScaler\n",
        "from sklearn.model_selection import train_test_split\n",
        "\n",
        "import matplotlib.pyplot as plt\n",
        "import pandas as pd\n",
        "import numpy as np\n",
        "from tqdm import tqdm"
      ]
    },
    {
      "cell_type": "code",
      "execution_count": 2,
      "metadata": {
        "colab": {
          "base_uri": "https://localhost:8080/",
          "height": 35
        },
        "id": "6FWMdEJ3dbf_",
        "outputId": "40ce0b14-3131-4aa7-e358-81a09b3eda04"
      },
      "outputs": [
        {
          "output_type": "execute_result",
          "data": {
            "text/plain": [
              "'cuda'"
            ],
            "application/vnd.google.colaboratory.intrinsic+json": {
              "type": "string"
            }
          },
          "metadata": {},
          "execution_count": 2
        }
      ],
      "source": [
        "device = \"cuda\" if torch.cuda.is_available() else \"cpu\"\n",
        "device"
      ]
    },
    {
      "cell_type": "markdown",
      "metadata": {
        "id": "G341v7WLWbes"
      },
      "source": [
        "# 1ª Questão"
      ]
    },
    {
      "cell_type": "markdown",
      "metadata": {
        "id": "8HO_6P23UmaU"
      },
      "source": [
        "\"que tipo de pessoa tem mais probabilidade de sobreviver?\""
      ]
    },
    {
      "cell_type": "markdown",
      "metadata": {
        "id": "M2x8hGy3qpHI"
      },
      "source": [
        "### data manipulation"
      ]
    },
    {
      "cell_type": "markdown",
      "metadata": {
        "id": "pjXqK5i9aMcV"
      },
      "source": [
        "#### import from kaggle"
      ]
    },
    {
      "cell_type": "code",
      "execution_count": null,
      "metadata": {
        "colab": {
          "base_uri": "https://localhost:8080/"
        },
        "id": "89UN1bnDPV5t",
        "outputId": "28a86455-d3a0-4495-b863-5f6201cb9c29"
      },
      "outputs": [
        {
          "output_type": "stream",
          "name": "stdout",
          "text": [
            "Requirement already satisfied: kaggle in /usr/local/lib/python3.7/dist-packages (1.5.12)\n",
            "Requirement already satisfied: python-slugify in /usr/local/lib/python3.7/dist-packages (from kaggle) (6.1.2)\n",
            "Requirement already satisfied: certifi in /usr/local/lib/python3.7/dist-packages (from kaggle) (2021.10.8)\n",
            "Requirement already satisfied: requests in /usr/local/lib/python3.7/dist-packages (from kaggle) (2.23.0)\n",
            "Requirement already satisfied: tqdm in /usr/local/lib/python3.7/dist-packages (from kaggle) (4.64.0)\n",
            "Requirement already satisfied: python-dateutil in /usr/local/lib/python3.7/dist-packages (from kaggle) (2.8.2)\n",
            "Requirement already satisfied: urllib3 in /usr/local/lib/python3.7/dist-packages (from kaggle) (1.24.3)\n",
            "Requirement already satisfied: six>=1.10 in /usr/local/lib/python3.7/dist-packages (from kaggle) (1.15.0)\n",
            "Requirement already satisfied: text-unidecode>=1.3 in /usr/local/lib/python3.7/dist-packages (from python-slugify->kaggle) (1.3)\n",
            "Requirement already satisfied: chardet<4,>=3.0.2 in /usr/local/lib/python3.7/dist-packages (from requests->kaggle) (3.0.4)\n",
            "Requirement already satisfied: idna<3,>=2.5 in /usr/local/lib/python3.7/dist-packages (from requests->kaggle) (2.10)\n"
          ]
        }
      ],
      "source": [
        "!pip install kaggle"
      ]
    },
    {
      "cell_type": "code",
      "execution_count": null,
      "metadata": {
        "id": "VNhsVzUHUnfj"
      },
      "outputs": [],
      "source": [
        "! mkdir ~/.kaggle"
      ]
    },
    {
      "cell_type": "code",
      "execution_count": null,
      "metadata": {
        "id": "U5FVK2aeWIfa"
      },
      "outputs": [],
      "source": [
        "! cp kaggle.json ~/.kaggle/"
      ]
    },
    {
      "cell_type": "code",
      "execution_count": null,
      "metadata": {
        "id": "Z4muKdFPX7bH"
      },
      "outputs": [],
      "source": [
        "! chmod 600 ~/.kaggle/kaggle.json"
      ]
    },
    {
      "cell_type": "code",
      "execution_count": null,
      "metadata": {
        "colab": {
          "base_uri": "https://localhost:8080/"
        },
        "id": "JGKZKDQuV8aG",
        "outputId": "f99646dd-70c9-4f57-d9c2-96557bcd00bc"
      },
      "outputs": [
        {
          "output_type": "stream",
          "name": "stdout",
          "text": [
            "Downloading titanic.zip to /content\n",
            "\r  0% 0.00/34.1k [00:00<?, ?B/s]\n",
            "\r100% 34.1k/34.1k [00:00<00:00, 21.2MB/s]\n"
          ]
        }
      ],
      "source": [
        "! kaggle competitions download -c titanic --force"
      ]
    },
    {
      "cell_type": "code",
      "execution_count": null,
      "metadata": {
        "colab": {
          "base_uri": "https://localhost:8080/"
        },
        "id": "qCZNcicEWsSp",
        "outputId": "58825b01-0ae0-4d40-ca1d-cf80493a01e9"
      },
      "outputs": [
        {
          "output_type": "stream",
          "name": "stdout",
          "text": [
            "Archive:  titanic.zip\n",
            "  inflating: gender_submission.csv   \n",
            "  inflating: test.csv                \n",
            "  inflating: train.csv               \n"
          ]
        }
      ],
      "source": [
        "! unzip titanic.zip"
      ]
    },
    {
      "cell_type": "markdown",
      "metadata": {
        "id": "1Mo5c5tEqzns"
      },
      "source": [
        "#### data preprocessing"
      ]
    },
    {
      "cell_type": "code",
      "execution_count": null,
      "metadata": {
        "id": "J_oCQMoAZCkX"
      },
      "outputs": [],
      "source": [
        "titanic_train = pd.read_csv(\"train.csv\")\n",
        "titanic_test = pd.read_csv(\"test.csv\")"
      ]
    },
    {
      "cell_type": "markdown",
      "metadata": {
        "id": "Q9d7VdkprVJM"
      },
      "source": [
        "Train"
      ]
    },
    {
      "cell_type": "code",
      "execution_count": null,
      "metadata": {
        "id": "WEfmtjRsq-9d"
      },
      "outputs": [],
      "source": [
        "titanic_train.drop(['Name','Ticket','Cabin'],axis=1,inplace=True)\n",
        "y = titanic_train.loc[:, 'Survived'].values\n",
        "\n",
        "sex = pd.get_dummies(titanic_train['Sex'],drop_first=True)\n",
        "embark = pd.get_dummies(titanic_train['Embarked'],drop_first=True)\n",
        "\n",
        "titanic_train = pd.concat([titanic_train,sex,embark],axis=1)\n",
        "\n",
        "titanic_train.drop(['Sex','Embarked'],axis=1,inplace=True)\n",
        "\n",
        "titanic_train.fillna(titanic_train.mean(),inplace=True)\n",
        "\n",
        "train_columns = titanic_train.columns\n",
        "titanic_train = pd.DataFrame(StandardScaler().fit_transform(titanic_train))\n",
        "titanic_train.columns  = train_columns\n",
        "\n",
        "features = titanic_train.iloc[:,2:].columns.tolist()\n",
        "target   = titanic_train.loc[:, 'Survived'].name\n",
        "\n",
        "X = titanic_train.iloc[:,2:].values"
      ]
    },
    {
      "cell_type": "code",
      "source": [
        "X_train, X_test, y_train, y_test = train_test_split(X, y, test_size = 0.2)"
      ],
      "metadata": {
        "id": "EthOswywSE70"
      },
      "execution_count": null,
      "outputs": []
    },
    {
      "cell_type": "code",
      "source": [
        "X_train.shape, y_train.shape, X_test.shape, y_test.shape"
      ],
      "metadata": {
        "colab": {
          "base_uri": "https://localhost:8080/"
        },
        "id": "As4rwDdBSgMb",
        "outputId": "4897d0e0-3297-4276-fd67-6cf9d93c796b"
      },
      "execution_count": null,
      "outputs": [
        {
          "output_type": "execute_result",
          "data": {
            "text/plain": [
              "((712, 8), (712,), (179, 8), (179,))"
            ]
          },
          "metadata": {},
          "execution_count": 12
        }
      ]
    },
    {
      "cell_type": "markdown",
      "metadata": {
        "id": "GpABmtSSrWH5"
      },
      "source": [
        "Test"
      ]
    },
    {
      "cell_type": "code",
      "execution_count": null,
      "metadata": {
        "id": "vQRRbLQSrPuJ"
      },
      "outputs": [],
      "source": [
        "titanic_test.drop(['Name','Ticket','Cabin'],axis=1,inplace=True)\n",
        "\n",
        "sex = pd.get_dummies(titanic_test['Sex'],drop_first=True)\n",
        "embark = pd.get_dummies(titanic_test['Embarked'],drop_first=True)\n",
        "\n",
        "titanic_test = pd.concat([titanic_test,sex,embark],axis=1)\n",
        "\n",
        "titanic_test.drop(['Sex','Embarked'],axis=1,inplace=True)\n",
        "\n",
        "titanic_test.fillna(titanic_test.mean(),inplace=True)\n",
        "\n",
        "test_columns  = titanic_test.columns\n",
        "titanic_test = pd.DataFrame(StandardScaler().fit_transform(titanic_test))\n",
        "titanic_test.columns  = test_columns"
      ]
    },
    {
      "cell_type": "code",
      "source": [
        "test = titanic_test.iloc[:,1:].values"
      ],
      "metadata": {
        "id": "BGmJwBFe72Za"
      },
      "execution_count": null,
      "outputs": []
    },
    {
      "cell_type": "code",
      "source": [
        "test.shape"
      ],
      "metadata": {
        "colab": {
          "base_uri": "https://localhost:8080/"
        },
        "id": "IyCm6AA2AZed",
        "outputId": "d73bfd9f-a7d2-423e-9d24-ec88fe51aaca"
      },
      "execution_count": null,
      "outputs": [
        {
          "output_type": "execute_result",
          "data": {
            "text/plain": [
              "(418, 8)"
            ]
          },
          "metadata": {},
          "execution_count": 15
        }
      ]
    },
    {
      "cell_type": "markdown",
      "metadata": {
        "id": "PAHetOnjaVKK"
      },
      "source": [
        "### Network"
      ]
    },
    {
      "cell_type": "code",
      "source": [
        "class dataset(Dataset):\n",
        "    def __init__(self, x, y):\n",
        "        self.x = torch.from_numpy(x).float()\n",
        "        self.y = torch.from_numpy(y)\n",
        "        self.n_sample = x.shape[0]\n",
        "\n",
        "    def __getitem__(self, index):\n",
        "        return self.x[index], self.y[index]\n",
        "\n",
        "    def __len__(self):\n",
        "        return self.n_sample"
      ],
      "metadata": {
        "id": "2O0N98iVXHAt"
      },
      "execution_count": null,
      "outputs": []
    },
    {
      "cell_type": "code",
      "source": [
        "train_dataset = dataset(X_train, y_train)\n",
        "test_dataset = dataset(X_test, y_test)"
      ],
      "metadata": {
        "id": "o0UulP5vYLZf"
      },
      "execution_count": null,
      "outputs": []
    },
    {
      "cell_type": "code",
      "execution_count": null,
      "metadata": {
        "id": "haAcdB8W06rH"
      },
      "outputs": [],
      "source": [
        "# datasset parameters\n",
        "input_size = X_train.shape[1]\n",
        "batch_size = X_train.shape[0]\n",
        "num_classes = 2"
      ]
    },
    {
      "cell_type": "code",
      "execution_count": null,
      "metadata": {
        "id": "Ahrrze-e06ol"
      },
      "outputs": [],
      "source": [
        "train_loader = DataLoader(\n",
        "    dataset = train_dataset,\n",
        "    batch_size = batch_size,\n",
        "    shuffle = True)\n",
        "\n",
        "test_loader = DataLoader(\n",
        "    dataset = test_dataset,\n",
        "    batch_size = batch_size,\n",
        "    shuffle = True)"
      ]
    },
    {
      "cell_type": "code",
      "execution_count": null,
      "metadata": {
        "id": "vMVrsloDyM3p"
      },
      "outputs": [],
      "source": [
        "class NN(nn.Module):\n",
        "  def __init__(self, input_size, num_classes, tx_dropout):\n",
        "    super(NN, self).__init__()\n",
        "    self.fc1 = nn.Linear(input_size, 30)\n",
        "    self.fc2 = nn.Linear(30, 15)\n",
        "    self.fc3 = nn.Linear(15, num_classes)\n",
        "    \n",
        "    self.dropout = nn.Dropout(tx_dropout)\n",
        "\n",
        "    self.bn1 = nn.BatchNorm1d(30)\n",
        "    self.bn2 = nn.BatchNorm1d(15)\n",
        "  \n",
        "  def forward(self, x):\n",
        "    x = F.relu(self.bn1(self.fc1(x)))\n",
        "    x = self.dropout(F.relu(self.bn2(self.fc2(x))))\n",
        "    x = torch.sigmoid(self.fc3(x))\n",
        "    return x"
      ]
    },
    {
      "cell_type": "code",
      "source": [
        "print(NN(input_size, num_classes, tx_dropout= 0))"
      ],
      "metadata": {
        "colab": {
          "base_uri": "https://localhost:8080/"
        },
        "id": "fq_tVdyiZKJE",
        "outputId": "01561e75-a05e-439b-84e9-39d0eae932c4"
      },
      "execution_count": null,
      "outputs": [
        {
          "output_type": "stream",
          "name": "stdout",
          "text": [
            "NN(\n",
            "  (fc1): Linear(in_features=8, out_features=30, bias=True)\n",
            "  (fc2): Linear(in_features=30, out_features=10, bias=True)\n",
            "  (fc3): Linear(in_features=10, out_features=2, bias=True)\n",
            "  (dropout): Dropout(p=0, inplace=False)\n",
            "  (bn1): BatchNorm1d(30, eps=1e-05, momentum=0.1, affine=True, track_running_stats=True)\n",
            "  (bn2): BatchNorm1d(10, eps=1e-05, momentum=0.1, affine=True, track_running_stats=True)\n",
            ")\n"
          ]
        }
      ]
    },
    {
      "cell_type": "code",
      "execution_count": null,
      "metadata": {
        "id": "yCOXHdcI06hP"
      },
      "outputs": [],
      "source": [
        "# Check accuracy on training & test to see how good our model\n",
        "def valdation_metrics(loader, losses, model):\n",
        "    num_correct = 0\n",
        "    num_samples = 0\n",
        "    model.eval()\n",
        "    \n",
        "    with torch.no_grad():\n",
        "        for x, y in loader:\n",
        "            x = x.to(device=device)\n",
        "            y = y.to(device=device)\n",
        "            x = x.reshape(x.shape[0], -1)\n",
        "\n",
        "            outputs = model(x)\n",
        "            values, predictions = torch.max(outputs, 1)\n",
        "            num_samples += predictions.size(0)\n",
        "            \n",
        "            # accuracy\n",
        "            y_real = y.detach().numpy()\n",
        "            y_pred = predictions.detach().numpy()\n",
        "            accuracy = accuracy_score(y_real, y_pred)\n",
        "\n",
        "            # validation losses\n",
        "            loss = criterion(outputs, y)\n",
        "            losses += loss.item() \n",
        "            losses = (losses/num_samples)\n",
        "\n",
        "    model.train()\n",
        "\n",
        "    return accuracy, losses"
      ]
    },
    {
      "cell_type": "code",
      "source": [
        "# ploting evaluations\n",
        "def network_plots(train, test, metric):\n",
        "    fig, ax = plt.subplots(figsize=(8,5))\n",
        "\n",
        "    ax.plot(train)\n",
        "    ax.plot(test)\n",
        "\n",
        "    ax.legend(('Train', 'Test'), loc=\"best\")\n",
        "    plt.show()\n",
        "    print(f\"The {metric} in train was {round(train[-1],2)} and in test was {round(test[-1],2)}.\")"
      ],
      "metadata": {
        "id": "psbR8zY7Lz4w"
      },
      "execution_count": null,
      "outputs": []
    },
    {
      "cell_type": "code",
      "execution_count": null,
      "metadata": {
        "id": "ZyMtJtCS06jx",
        "colab": {
          "base_uri": "https://localhost:8080/"
        },
        "outputId": "621b8f20-79e9-4829-8dbd-c02054ffbd03"
      },
      "outputs": [
        {
          "output_type": "stream",
          "name": "stderr",
          "text": [
            "100%|██████████| 200/200 [00:04<00:00, 44.25it/s]\n"
          ]
        }
      ],
      "source": [
        "# hiperparameters\n",
        "num_epochs = 200\n",
        "learning_rate = 0.001\n",
        "tx_dropout = 0.0\n",
        "\n",
        "# Initialize network\n",
        "model = NN(\n",
        "    input_size=input_size, \n",
        "    num_classes=num_classes, \n",
        "    tx_dropout=tx_dropout\n",
        "    ).to(device)\n",
        "\n",
        "# Loss and optimizer\n",
        "criterion = nn.CrossEntropyLoss()\n",
        "optimizer = optim.Adam(model.parameters(), lr=learning_rate)\n",
        "\n",
        "# Train Network\n",
        "plot_train_losses = []\n",
        "plot_test_losses = []\n",
        "plot_train_accuracy = []\n",
        "plot_test_accuracy = []\n",
        "\n",
        "for epoch in tqdm(range(num_epochs)):\n",
        "    train_losses = 0.0\n",
        "    test_losses = 0.0\n",
        "    \n",
        "    for batch_idx, (data, targets) in enumerate(train_loader):\n",
        "        # Get data to cuda if possible\n",
        "        data = data.to(device=device)\n",
        "        targets = targets.to(device=device)\n",
        "        # Get to correct shape\n",
        "        data = data.reshape(data.shape[0], -1)\n",
        "        # forward\n",
        "        outputs = model(data)\n",
        "        loss = criterion(outputs, targets)\n",
        "        # backward\n",
        "        optimizer.zero_grad()\n",
        "        loss.backward()\n",
        "        # gradient descent or adam step\n",
        "        optimizer.step()\n",
        "\n",
        "    # metrics\n",
        "    train_metric = valdation_metrics(train_loader, train_losses, model)\n",
        "    test_metric = valdation_metrics(test_loader, test_losses, model)\n",
        "\n",
        "    # cumulative losses\n",
        "    plot_train_losses.append(train_metric[1])\n",
        "    plot_test_losses.append(test_metric[1])\n",
        "\n",
        "    # cumulative accuracy\n",
        "    train_accuracy = (train_metric[0]*100).item()\n",
        "    test_accuracy = (test_metric[0]*100).item()\n",
        "    plot_train_accuracy.append(train_accuracy)\n",
        "    plot_test_accuracy.append(test_accuracy)"
      ]
    },
    {
      "cell_type": "code",
      "source": [
        "network_plots(plot_train_accuracy, plot_test_accuracy, 'Accuracy')\n",
        "network_plots(plot_train_losses, plot_test_losses, 'Losses')"
      ],
      "metadata": {
        "colab": {
          "base_uri": "https://localhost:8080/",
          "height": 658
        },
        "id": "xHCpYTBFLhJL",
        "outputId": "87056826-6b8c-4a1e-abc7-be90092b44ef"
      },
      "execution_count": null,
      "outputs": [
        {
          "output_type": "display_data",
          "data": {
            "text/plain": [
              "<Figure size 576x360 with 1 Axes>"
            ],
            "image/png": "[encoded data removed]"
          },
          "metadata": {
            "needs_background": "light"
          }
        },
        {
          "output_type": "stream",
          "name": "stdout",
          "text": [
            "The Accuracy in train was 84.97 and in test was 85.47.\n"
          ]
        },
        {
          "output_type": "display_data",
          "data": {
            "text/plain": [
              "<Figure size 576x360 with 1 Axes>"
            ],
            "image/png": "[encoded data removed]"
          },
          "metadata": {
            "needs_background": "light"
          }
        },
        {
          "output_type": "stream",
          "name": "stdout",
          "text": [
            "The Losses in train was 0.0 and in test was 0.0.\n"
          ]
        }
      ]
    },
    {
      "cell_type": "code",
      "source": [
        "model.eval()\n",
        "with torch.no_grad():\n",
        "    for x, y in test_loader:\n",
        "        x = x.to(device=device)\n",
        "        y = y.to(device=device)\n",
        "        x = x.reshape(x.shape[0], -1)\n",
        "        outputs = model(x)\n",
        "        values, predictions = torch.max(outputs, 1)\n",
        "model.train()\n",
        "\n",
        "conf_matrix = confusion_matrix(\n",
        "    y_true = y,\n",
        "    y_pred = predictions\n",
        "    )\n",
        "labels = np.unique(y)\n",
        "\n",
        "print(accuracy_score(y, predictions))\n",
        "\n",
        "\n",
        "plot_cm = ConfusionMatrixDisplay(\n",
        "    confusion_matrix = conf_matrix,\n",
        "    display_labels = labels\n",
        "    ) \\\n",
        "    .plot()\n",
        "\n",
        "plt.show()"
      ],
      "metadata": {
        "colab": {
          "base_uri": "https://localhost:8080/",
          "height": 297
        },
        "id": "9YS4AMLhUcfH",
        "outputId": "0053c5b5-bae9-4e6b-9837-16619609c79a"
      },
      "execution_count": null,
      "outputs": [
        {
          "output_type": "stream",
          "name": "stdout",
          "text": [
            "0.8547486033519553\n"
          ]
        },
        {
          "output_type": "display_data",
          "data": {
            "text/plain": [
              "<Figure size 432x288 with 2 Axes>"
            ],
            "image/png": "[encoded data removed]"
          },
          "metadata": {
            "needs_background": "light"
          }
        }
      ]
    },
    {
      "cell_type": "markdown",
      "source": [
        "### Submission"
      ],
      "metadata": {
        "id": "dRaTUAhk8Krt"
      }
    },
    {
      "cell_type": "code",
      "source": [
        "class submission(Dataset):\n",
        "    def __init__(self, x):\n",
        "        self.x = torch.from_numpy(x).float()\n",
        "        self.n_sample = x.shape[0]\n",
        "\n",
        "    def __getitem__(self, index):\n",
        "        return self.x[index]\n",
        "\n",
        "    def __len__(self):\n",
        "        return self.n_sample\n",
        "\n",
        "sub_dataset = submission(test)\n",
        "sub_loader = DataLoader(\n",
        "    dataset = sub_dataset,\n",
        "    batch_size = test.shape[0],\n",
        "    shuffle=True)\n",
        "\n",
        "model.eval()\n",
        "with torch.no_grad():\n",
        "    for x in sub_loader:\n",
        "        x = x.to(device=device)\n",
        "        x = x.reshape(x.shape[0], -1)\n",
        "        test_result = model(x)\n",
        "model.train()\n",
        "\n",
        "values, labels = torch.max(test_result, 1)\n",
        "survived = labels.data.numpy()\n",
        "\n",
        "df_sub = pd.read_csv(\"gender_submission.csv\")\n",
        "submission = pd.DataFrame({'PassengerId': df_sub['PassengerId'], 'Survived': survived})\n",
        "submission.to_csv('submission.csv', index=False)\n",
        "! kaggle competitions submit -c titanic -f submission.csv -m \"No mensage.\""
      ],
      "metadata": {
        "colab": {
          "base_uri": "https://localhost:8080/"
        },
        "id": "pPOdxWwy7M57",
        "outputId": "ccb35b30-fd8c-452b-b326-6713f9e90dba"
      },
      "execution_count": null,
      "outputs": [
        {
          "output_type": "stream",
          "name": "stdout",
          "text": [
            "100% 2.77k/2.77k [00:02<00:00, 1.18kB/s]\n",
            "Successfully submitted to Titanic - Machine Learning from Disaster"
          ]
        }
      ]
    },
    {
      "cell_type": "markdown",
      "source": [
        "Score: 0.56220\n",
        "\n"
      ],
      "metadata": {
        "id": "2Em5MuwPCiOL"
      }
    },
    {
      "cell_type": "markdown",
      "source": [
        "# 2ª Questão"
      ],
      "metadata": {
        "id": "m2N8vmwj6x4S"
      }
    },
    {
      "cell_type": "code",
      "source": [
        "class NN(nn.Module):\n",
        "    def __init__(self, input_size, num_classes):\n",
        "        super(NN, self).__init__()\n",
        "        self.fc1 = nn.Linear(input_size, 50)\n",
        "        self.fc3 = nn.Linear(50, num_classes)\n",
        "    \n",
        "    def forward(self, x):\n",
        "        x = F.relu(self.fc1(x))\n",
        "        x = self.fc3(x)\n",
        "        return x"
      ],
      "metadata": {
        "id": "PDc9jjO76yhf"
      },
      "execution_count": 9,
      "outputs": []
    },
    {
      "cell_type": "code",
      "source": [
        "class CNN(nn.Module):\n",
        "    def __init__(self, in_channel, num_classes):\n",
        "        super(CNN, self).__init__()\n",
        "        self.conv1 = nn.Conv2d(\n",
        "            in_channels = in_channel,\n",
        "            out_channels = 8,\n",
        "            kernel_size = (3,3),\n",
        "            stride = (1,1),\n",
        "            padding = (1,1)\n",
        "        )\n",
        "        self.pool = nn.MaxPool2d(\n",
        "            kernel_size = (2,2),\n",
        "            stride = (2,2),\n",
        "        )\n",
        "        self.conv2 = nn.Conv2d(\n",
        "            in_channels = 8,\n",
        "            out_channels = 16,\n",
        "            kernel_size = (3,3),\n",
        "            stride = (1,1),\n",
        "            padding = (1,1)\n",
        "        )\n",
        "        self.fc1 = nn.Linear(16*7*7, num_classes)\n",
        "\n",
        "    def forward(self, x):\n",
        "        x = F.relu(self.conv1(x))\n",
        "        x = self.pool(x)\n",
        "        x = F.relu(self.conv2(x))\n",
        "        x = self.pool(x)\n",
        "        x = x.reshape(x.shape[0], -1)\n",
        "        x = self.fc1(x)\n",
        "        return x"
      ],
      "metadata": {
        "id": "eix__tejS9Cp"
      },
      "execution_count": null,
      "outputs": []
    },
    {
      "cell_type": "code",
      "source": [
        "# dataset parameters\n",
        "in_channel = 1\n",
        "input_size = 784\n",
        "num_classes = 10\n",
        "batch_size = 64"
      ],
      "metadata": {
        "id": "dpaIPe8nayq3"
      },
      "execution_count": 4,
      "outputs": []
    },
    {
      "cell_type": "code",
      "source": [
        "train_dataset = datasets.MNIST(root=\"dataset/\", train=True, transform=transforms.ToTensor(), download=True)\n",
        "test_dataset = datasets.MNIST(root=\"dataset/\", train=False, transform=transforms.ToTensor(), download=True)\n",
        "train_loader = DataLoader(dataset=train_dataset, batch_size=batch_size, shuffle=True)\n",
        "test_loader = DataLoader(dataset=test_dataset, batch_size=batch_size, shuffle=True)"
      ],
      "metadata": {
        "colab": {
          "base_uri": "https://localhost:8080/",
          "height": 431,
          "referenced_widgets": [
            "f60cfafc525a483a926f19d5f67eb38d",
            "c1c88a1f05c3438687a0fd9c613c3546",
            "6642a09fd524474491dfd728d1778af4",
            "dda5f8052fa5493bb776f49789c0a82a",
            "b8623cd78dcc472881cebd319befe017",
            "4dcbceba268443b9a039017efafa0a0c",
            "1e743d08348d43a78aa771ed0f43a8a2",
            "c8c729be41c642fe96341c31dfcd7d67",
            "1529d2847bfc487cb7fbcd00c7d87c98",
            "49be9276bda847fbb122e0151aa6e2a8",
            "92ea15658d65496fafbf58e5661f27bd",
            "65b3af86c25e45d48d7b27d6f775672e",
            "a1bddfac98b4495eb480ab9b47d08821",
            "431510b3067c425db9a692d6efae8650",
            "30cf3e2921de4889917a676f33d87e90",
            "edb5ab420a214815a4ffc0bfceafa4e0",
            "06570d9c33c44b2ea4ed6cbb904d2c7f",
            "ecae678f94e84d189522bcc1d837004a",
            "8d59bbe746414b84bcf5b5dc2c7d5533",
            "890965bcdf0f480db691d044251863a5",
            "816b8f32792b401d91da0fc76f0758b2",
            "c32e8404a93c4ec1b6c35fa599399bfa",
            "ebb4cad2f2994b48a42cff250e46c924",
            "ad2ef592e1f241768b46280e347fa5b4",
            "bb53ee538f8343c6bd0a2359aba21f5e",
            "b97cd1d343894c1c890ddfb6d8582856",
            "d839c9dfefd24a338f253d4ff631c1a5",
            "27e47103895147c8bcc578ffd4858d5c",
            "4a1e244496564d709a55e67a856428be",
            "3fb01787e3854f3281acd1040573136d",
            "10b37ce5696045b5af0f041016376c4e",
            "6473e9dfc9fb42abb4ee40326de68fba",
            "1ea64a0ff0784379baaadeb9f4aa67f6",
            "e0e97bfd229d4bcd832eec6ab1d98161",
            "0f468ae63e444838912bf05d183f4103",
            "3b9f66abcc0043c2b49cb68bc23ece9b",
            "ad31a5ab18c249dfb11eaab1940d5a93",
            "ea27f2e281c74cdfa6392ebb90e79f9c",
            "a25e56a14b054fd0be1f4fc231486e8b",
            "961237f2e1c04abc90d1584e71958e73",
            "6d8dfeb36cd646bcb6cd7a9bc3b5d670",
            "9e96a5a4e4a544af9849511782874cd5",
            "8eec90ff6b034123ad330ad7f2631dcc",
            "3a6fe41776ab4b41bbff7f827dd5e134"
          ]
        },
        "id": "cGnUZ8TUYZPz",
        "outputId": "41b38403-3ec9-4e8b-b385-0fedcda4f863"
      },
      "execution_count": 5,
      "outputs": [
        {
          "output_type": "stream",
          "name": "stdout",
          "text": [
            "Downloading http://yann.lecun.com/exdb/mnist/train-images-idx3-ubyte.gz\n",
            "Downloading http://yann.lecun.com/exdb/mnist/train-images-idx3-ubyte.gz to dataset/MNIST/raw/train-images-idx3-ubyte.gz\n"
          ]
        },
        {
          "output_type": "display_data",
          "data": {
            "text/plain": [
              "  0%|          | 0/9912422 [00:00<?, ?it/s]"
            ],
            "application/vnd.jupyter.widget-view+json": {
              "version_major": 2,
              "version_minor": 0,
              "model_id": "f60cfafc525a483a926f19d5f67eb38d"
            }
          },
          "metadata": {}
        },
        {
          "output_type": "stream",
          "name": "stdout",
          "text": [
            "Extracting dataset/MNIST/raw/train-images-idx3-ubyte.gz to dataset/MNIST/raw\n",
            "\n",
            "Downloading http://yann.lecun.com/exdb/mnist/train-labels-idx1-ubyte.gz\n",
            "Downloading http://yann.lecun.com/exdb/mnist/train-labels-idx1-ubyte.gz to dataset/MNIST/raw/train-labels-idx1-ubyte.gz\n"
          ]
        },
        {
          "output_type": "display_data",
          "data": {
            "text/plain": [
              "  0%|          | 0/28881 [00:00<?, ?it/s]"
            ],
            "application/vnd.jupyter.widget-view+json": {
              "version_major": 2,
              "version_minor": 0,
              "model_id": "65b3af86c25e45d48d7b27d6f775672e"
            }
          },
          "metadata": {}
        },
        {
          "output_type": "stream",
          "name": "stdout",
          "text": [
            "Extracting dataset/MNIST/raw/train-labels-idx1-ubyte.gz to dataset/MNIST/raw\n",
            "\n",
            "Downloading http://yann.lecun.com/exdb/mnist/t10k-images-idx3-ubyte.gz\n",
            "Downloading http://yann.lecun.com/exdb/mnist/t10k-images-idx3-ubyte.gz to dataset/MNIST/raw/t10k-images-idx3-ubyte.gz\n"
          ]
        },
        {
          "output_type": "display_data",
          "data": {
            "text/plain": [
              "  0%|          | 0/1648877 [00:00<?, ?it/s]"
            ],
            "application/vnd.jupyter.widget-view+json": {
              "version_major": 2,
              "version_minor": 0,
              "model_id": "ebb4cad2f2994b48a42cff250e46c924"
            }
          },
          "metadata": {}
        },
        {
          "output_type": "stream",
          "name": "stdout",
          "text": [
            "Extracting dataset/MNIST/raw/t10k-images-idx3-ubyte.gz to dataset/MNIST/raw\n",
            "\n",
            "Downloading http://yann.lecun.com/exdb/mnist/t10k-labels-idx1-ubyte.gz\n",
            "Downloading http://yann.lecun.com/exdb/mnist/t10k-labels-idx1-ubyte.gz to dataset/MNIST/raw/t10k-labels-idx1-ubyte.gz\n"
          ]
        },
        {
          "output_type": "display_data",
          "data": {
            "text/plain": [
              "  0%|          | 0/4542 [00:00<?, ?it/s]"
            ],
            "application/vnd.jupyter.widget-view+json": {
              "version_major": 2,
              "version_minor": 0,
              "model_id": "e0e97bfd229d4bcd832eec6ab1d98161"
            }
          },
          "metadata": {}
        },
        {
          "output_type": "stream",
          "name": "stdout",
          "text": [
            "Extracting dataset/MNIST/raw/t10k-labels-idx1-ubyte.gz to dataset/MNIST/raw\n",
            "\n"
          ]
        }
      ]
    },
    {
      "cell_type": "code",
      "source": [
        "# Check accuracy on training & test to see how good our model\n",
        "def valdation_metrics(loader, losses, model):\n",
        "    num_correct = 0\n",
        "    num_samples = 0\n",
        "    model.eval()\n",
        "    \n",
        "    with torch.no_grad():\n",
        "        for x, y in loader:\n",
        "            x = x.to(device=device)\n",
        "            y = y.to(device=device)\n",
        "            x = x.reshape(x.shape[0], -1)\n",
        "\n",
        "            outputs = model(x)\n",
        "            values, predictions = torch.max(outputs, 1)\n",
        "            num_samples += predictions.size(0)\n",
        "            \n",
        "            # accuracy\n",
        "            y_real = y.cpu().detach().numpy()\n",
        "            y_pred = predictions.cpu().detach().numpy()\n",
        "            accuracy = accuracy_score(y_real, y_pred)\n",
        "\n",
        "            # validation losses\n",
        "            loss = criterion(outputs, y)\n",
        "            losses += loss.item() \n",
        "            losses = (losses/num_samples)\n",
        "\n",
        "    model.train()\n",
        "\n",
        "    return accuracy, losses"
      ],
      "metadata": {
        "id": "Vx7S0MssZwH_"
      },
      "execution_count": 13,
      "outputs": []
    },
    {
      "cell_type": "code",
      "source": [
        "# ploting evaluations\n",
        "def network_plots(train, test, metric):\n",
        "    fig, ax = plt.subplots(figsize=(8,5))\n",
        "\n",
        "    ax.plot(train)\n",
        "    ax.plot(test)\n",
        "\n",
        "    ax.legend(('Train', 'Test'), loc=\"best\")\n",
        "    plt.show()\n",
        "    print(f\"The {metric} on train was {round(train[-1],2)}, and on test was {round(test[-1],2)}.\")"
      ],
      "metadata": {
        "id": "-6cs_8glZyYo"
      },
      "execution_count": 7,
      "outputs": []
    },
    {
      "cell_type": "markdown",
      "source": [
        "#### NN"
      ],
      "metadata": {
        "id": "2ixlFJ-nkaho"
      }
    },
    {
      "cell_type": "code",
      "source": [
        "# hiperparameters\n",
        "num_epochs = 10\n",
        "learning_rate = 0.01\n",
        "\n",
        "# Initialize network\n",
        "model = NN(\n",
        "    input_size = input_size, \n",
        "    num_classes = num_classes,\n",
        "    ).to(device)\n",
        "\n",
        "# Loss and optimizer\n",
        "criterion = nn.CrossEntropyLoss()\n",
        "optimizer = optim.Adam(model.parameters(), lr=learning_rate)\n",
        "\n",
        "# Train Network\n",
        "plot_train_losses = []\n",
        "plot_test_losses = []\n",
        "plot_train_accuracy = []\n",
        "plot_test_accuracy = []\n",
        "\n",
        "for epoch in range(num_epochs):    \n",
        "    for batch_idx, (data, targets) in enumerate(tqdm(train_loader)):\n",
        "        # Get data to cuda if possible\n",
        "        data = data.to(device=device)\n",
        "        targets = targets.to(device=device)\n",
        "\n",
        "        # reshaping data\n",
        "        data = data.reshape(data.shape[0], -1)\n",
        "        \n",
        "        # forward\n",
        "        outputs = model(data)\n",
        "        loss = criterion(outputs, targets)\n",
        "\n",
        "        # backward\n",
        "        optimizer.zero_grad()\n",
        "        loss.backward()\n",
        "\n",
        "        # gradient descent or adam step\n",
        "        optimizer.step()\n",
        "    \n",
        "    train_losses = 0.0\n",
        "    test_losses = 0.0\n",
        "    # metrics\n",
        "    train_metric = valdation_metrics(train_loader, train_losses, model)\n",
        "    test_metric = valdation_metrics(test_loader, test_losses, model)\n",
        "\n",
        "    # cumulative losses\n",
        "    plot_train_losses.append(train_metric[1])\n",
        "    plot_test_losses.append(test_metric[1])\n",
        "\n",
        "    # cumulative accuracy\n",
        "    train_accuracy = (train_metric[0]*100).item()\n",
        "    test_accuracy = (test_metric[0]*100).item()\n",
        "    plot_train_accuracy.append(train_accuracy)\n",
        "    plot_test_accuracy.append(test_accuracy)"
      ],
      "metadata": {
        "id": "tHzO6ZwekVKy",
        "outputId": "293f6b4c-4b4e-4382-d29b-1211d40cc65a",
        "colab": {
          "base_uri": "https://localhost:8080/"
        }
      },
      "execution_count": 14,
      "outputs": [
        {
          "output_type": "stream",
          "name": "stderr",
          "text": [
            "100%|██████████| 938/938 [00:11<00:00, 83.58it/s]\n",
            "100%|██████████| 938/938 [00:10<00:00, 92.73it/s]\n",
            "100%|██████████| 938/938 [00:10<00:00, 91.40it/s]\n",
            "100%|██████████| 938/938 [00:10<00:00, 91.96it/s]\n",
            "100%|██████████| 938/938 [00:10<00:00, 93.13it/s]\n",
            "100%|██████████| 938/938 [00:10<00:00, 93.34it/s]\n",
            "100%|██████████| 938/938 [00:10<00:00, 92.31it/s]\n",
            "100%|██████████| 938/938 [00:10<00:00, 87.97it/s]\n",
            "100%|██████████| 938/938 [00:10<00:00, 92.04it/s]\n",
            "100%|██████████| 938/938 [00:10<00:00, 92.93it/s]\n"
          ]
        }
      ]
    },
    {
      "cell_type": "code",
      "source": [
        "network_plots(plot_train_accuracy, plot_test_accuracy, 'Accuracy')\n",
        "network_plots(plot_train_losses, plot_test_losses, 'Losses')"
      ],
      "metadata": {
        "id": "_JItOzT5mYAz",
        "outputId": "d213beef-6f8b-42f4-a048-8b59ca623b21",
        "colab": {
          "base_uri": "https://localhost:8080/",
          "height": 669
        }
      },
      "execution_count": 15,
      "outputs": [
        {
          "output_type": "display_data",
          "data": {
            "text/plain": [
              "<Figure size 576x360 with 1 Axes>"
            ],
            "image/png": "[encoded data removed]"
          },
          "metadata": {
            "needs_background": "light"
          }
        },
        {
          "output_type": "stream",
          "name": "stdout",
          "text": [
            "The Accuracy on train was 96.88, and on test was 100.0.\n"
          ]
        },
        {
          "output_type": "display_data",
          "data": {
            "text/plain": [
              "<Figure size 576x360 with 1 Axes>"
            ],
            "image/png": "[encoded data removed]"
          },
          "metadata": {
            "needs_background": "light"
          }
        },
        {
          "output_type": "stream",
          "name": "stdout",
          "text": [
            "The Losses on train was 0.0, and on test was 0.0.\n"
          ]
        }
      ]
    },
    {
      "cell_type": "code",
      "source": [
        "model.eval()\n",
        "with torch.no_grad():\n",
        "    for x, y in test_loader:\n",
        "        x = x.to(device=device)\n",
        "        y = y.to(device=device)\n",
        "        x = x.reshape(x.shape[0], -1)\n",
        "\n",
        "        outputs = model(x)\n",
        "        values, predictions = torch.max(outputs, 1)\n",
        "        y = y.cpu().detach().numpy()\n",
        "        predictions = predictions.cpu().detach().numpy()\n",
        "model.train()\n",
        "\n",
        "conf_matrix = confusion_matrix(\n",
        "    y_true = y,\n",
        "    y_pred = predictions\n",
        "    )\n",
        "labels = np.unique(y)\n",
        "\n",
        "print(accuracy_score(y, predictions))\n",
        "\n",
        "\n",
        "plot_cm = ConfusionMatrixDisplay(\n",
        "    confusion_matrix = conf_matrix,\n",
        "    display_labels = labels\n",
        "    ) \\\n",
        "    .plot()\n",
        "\n",
        "plt.show()"
      ],
      "metadata": {
        "id": "e-LVY7VjmRKV",
        "outputId": "a1b7dead-0fd3-44cd-99f2-aa219d4c1385",
        "colab": {
          "base_uri": "https://localhost:8080/",
          "height": 301
        }
      },
      "execution_count": 16,
      "outputs": [
        {
          "output_type": "stream",
          "name": "stdout",
          "text": [
            "1.0\n"
          ]
        },
        {
          "output_type": "display_data",
          "data": {
            "text/plain": [
              "<Figure size 432x288 with 2 Axes>"
            ],
            "image/png": "[encoded data removed]"
          },
          "metadata": {
            "needs_background": "light"
          }
        }
      ]
    },
    {
      "cell_type": "markdown",
      "source": [
        "### CNN"
      ],
      "metadata": {
        "id": "zF777LDbkVzw"
      }
    },
    {
      "cell_type": "code",
      "source": [
        "# hiperparameters\n",
        "num_epochs = 10\n",
        "learning_rate = 0.01\n",
        "\n",
        "# Initialize network\n",
        "model = CNN(\n",
        "    in_channel = in_channel, \n",
        "    num_classes = num_classes,\n",
        "    ).to(device)\n",
        "\n",
        "# Loss and optimizer\n",
        "criterion = nn.CrossEntropyLoss()\n",
        "optimizer = optim.Adam(model.parameters(), lr=learning_rate)\n",
        "\n",
        "# Train Network\n",
        "plot_train_losses = []\n",
        "plot_test_losses = []\n",
        "plot_train_accuracy = []\n",
        "plot_test_accuracy = []\n",
        "\n",
        "for epoch in range(num_epochs):    \n",
        "    for batch_idx, (data, targets) in enumerate(tqdm(train_loader)):\n",
        "        # Get data to cuda if possible\n",
        "        data = data.to(device=device)\n",
        "        targets = targets.to(device=device)\n",
        "        \n",
        "        # forward\n",
        "        outputs = model(data)\n",
        "        loss = criterion(outputs, targets)\n",
        "\n",
        "        # backward\n",
        "        optimizer.zero_grad()\n",
        "        loss.backward()\n",
        "\n",
        "        # gradient descent or adam step\n",
        "        optimizer.step()\n",
        "    \n",
        "    train_losses = 0.0\n",
        "    test_losses = 0.0\n",
        "    # metrics\n",
        "    train_metric = valdation_metrics(train_loader, train_losses, model)\n",
        "    test_metric = valdation_metrics(test_loader, test_losses, model)\n",
        "\n",
        "    # cumulative losses\n",
        "    plot_train_losses.append(train_metric[1])\n",
        "    plot_test_losses.append(test_metric[1])\n",
        "\n",
        "    # cumulative accuracy\n",
        "    train_accuracy = (train_metric[0]*100).item()\n",
        "    test_accuracy = (test_metric[0]*100).item()\n",
        "    plot_train_accuracy.append(train_accuracy)\n",
        "    plot_test_accuracy.append(test_accuracy)"
      ],
      "metadata": {
        "colab": {
          "base_uri": "https://localhost:8080/"
        },
        "id": "_OgXDz2uZ3FS",
        "outputId": "b78851ff-e0d7-469c-fe00-b0c645143c54"
      },
      "execution_count": null,
      "outputs": [
        {
          "output_type": "stream",
          "name": "stderr",
          "text": [
            "100%|██████████| 938/938 [00:13<00:00, 67.30it/s]\n",
            "100%|██████████| 938/938 [00:12<00:00, 72.51it/s]\n",
            "100%|██████████| 938/938 [00:12<00:00, 73.22it/s]\n",
            "100%|██████████| 938/938 [00:13<00:00, 70.36it/s]\n",
            "100%|██████████| 938/938 [00:12<00:00, 72.40it/s]\n",
            "100%|██████████| 938/938 [00:12<00:00, 72.40it/s]\n",
            "100%|██████████| 938/938 [00:12<00:00, 74.00it/s]\n",
            "100%|██████████| 938/938 [00:12<00:00, 73.38it/s]\n",
            "100%|██████████| 938/938 [00:12<00:00, 74.02it/s]\n",
            "100%|██████████| 938/938 [00:12<00:00, 73.08it/s]\n"
          ]
        }
      ]
    },
    {
      "cell_type": "code",
      "source": [
        "network_plots(plot_train_accuracy, plot_test_accuracy, 'Accuracy')\n",
        "network_plots(plot_train_losses, plot_test_losses, 'Losses')"
      ],
      "metadata": {
        "colab": {
          "base_uri": "https://localhost:8080/",
          "height": 669
        },
        "id": "RT8iBfPCZ7K9",
        "outputId": "920678c2-d12f-4518-b118-9ca7ad886ac5"
      },
      "execution_count": null,
      "outputs": [
        {
          "output_type": "display_data",
          "data": {
            "text/plain": [
              "<Figure size 576x360 with 1 Axes>"
            ],
            "image/png": "[encoded data removed]"
          },
          "metadata": {
            "needs_background": "light"
          }
        },
        {
          "output_type": "stream",
          "name": "stdout",
          "text": [
            "The Accuracy on train was 96.88, and on test was 93.75.\n"
          ]
        },
        {
          "output_type": "display_data",
          "data": {
            "text/plain": [
              "<Figure size 576x360 with 1 Axes>"
            ],
            "image/png": "[encoded data removed]"
          },
          "metadata": {
            "needs_background": "light"
          }
        },
        {
          "output_type": "stream",
          "name": "stdout",
          "text": [
            "The Losses on train was 0.0, and on test was 0.0.\n"
          ]
        }
      ]
    },
    {
      "cell_type": "code",
      "source": [
        "model.eval()\n",
        "with torch.no_grad():\n",
        "    for x, y in test_loader:\n",
        "        x = x.to(device=device)\n",
        "        y = y.to(device=device)\n",
        "        outputs = model(x)\n",
        "        values, predictions = torch.max(outputs, 1)\n",
        "        y = y.cpu().detach().numpy()\n",
        "        predictions = predictions.cpu().detach().numpy()\n",
        "model.train()\n",
        "\n",
        "conf_matrix = confusion_matrix(\n",
        "    y_true = y,\n",
        "    y_pred = predictions\n",
        "    )\n",
        "labels = np.unique(y)\n",
        "\n",
        "print(accuracy_score(y, predictions))\n",
        "\n",
        "\n",
        "plot_cm = ConfusionMatrixDisplay(\n",
        "    confusion_matrix = conf_matrix,\n",
        "    display_labels = labels\n",
        "    ) \\\n",
        "    .plot()\n",
        "\n",
        "plt.show()"
      ],
      "metadata": {
        "colab": {
          "base_uri": "https://localhost:8080/",
          "height": 301
        },
        "id": "YLURDZSQZ8ro",
        "outputId": "edbaa6ce-72f5-4b4f-a9cf-6eb0c316958e"
      },
      "execution_count": null,
      "outputs": [
        {
          "output_type": "stream",
          "name": "stdout",
          "text": [
            "1.0\n"
          ]
        },
        {
          "output_type": "display_data",
          "data": {
            "text/plain": [
              "<Figure size 432x288 with 2 Axes>"
            ],
            "image/png": "[encoded data removed]"
          },
          "metadata": {
            "needs_background": "light"
          }
        }
      ]
    },
    {
      "cell_type": "markdown",
      "source": [
        "# 3 Questão"
      ],
      "metadata": {
        "id": "D9jcXFznnjDM"
      }
    },
    {
      "cell_type": "code",
      "source": [
        ""
      ],
      "metadata": {
        "id": "cLi93c_qnk3T"
      },
      "execution_count": null,
      "outputs": []
    }
  ],
  "metadata": {
    "colab": {
      "name": "1107106_220511_lista2.ipynb",
      "provenance": [],
      "collapsed_sections": [
        "pjXqK5i9aMcV"
      ],
      "toc_visible": true,
      "authorship_tag": "ABX9TyPET+p4K9fqpSlYIgevfKIC",
      "include_colab_link": true
    },
    "kernelspec": {
      "display_name": "Python 3",
      "name": "python3"
    },
    "language_info": {
      "name": "python"
    },
    "accelerator": "GPU",
    "widgets": {
      "application/vnd.jupyter.widget-state+json": {
        "f60cfafc525a483a926f19d5f67eb38d": {
          "model_module": "@jupyter-widgets/controls",
          "model_name": "HBoxModel",
          "model_module_version": "1.5.0",
          "state": {
            "_dom_classes": [],
            "_model_module": "@jupyter-widgets/controls",
            "_model_module_version": "1.5.0",
            "_model_name": "HBoxModel",
            "_view_count": null,
            "_view_module": "@jupyter-widgets/controls",
            "_view_module_version": "1.5.0",
            "_view_name": "HBoxView",
            "box_style": "",
            "children": [
              "IPY_MODEL_c1c88a1f05c3438687a0fd9c613c3546",
              "IPY_MODEL_6642a09fd524474491dfd728d1778af4",
              "IPY_MODEL_dda5f8052fa5493bb776f49789c0a82a"
            ],
            "layout": "IPY_MODEL_b8623cd78dcc472881cebd319befe017"
          }
        },
        "c1c88a1f05c3438687a0fd9c613c3546": {
          "model_module": "@jupyter-widgets/controls",
          "model_name": "HTMLModel",
          "model_module_version": "1.5.0",
          "state": {
            "_dom_classes": [],
            "_model_module": "@jupyter-widgets/controls",
            "_model_module_version": "1.5.0",
            "_model_name": "HTMLModel",
            "_view_count": null,
            "_view_module": "@jupyter-widgets/controls",
            "_view_module_version": "1.5.0",
            "_view_name": "HTMLView",
            "description": "",
            "description_tooltip": null,
            "layout": "IPY_MODEL_4dcbceba268443b9a039017efafa0a0c",
            "placeholder": "​",
            "style": "IPY_MODEL_1e743d08348d43a78aa771ed0f43a8a2",
            "value": ""
          }
        },
        "6642a09fd524474491dfd728d1778af4": {
          "model_module": "@jupyter-widgets/controls",
          "model_name": "FloatProgressModel",
          "model_module_version": "1.5.0",
          "state": {
            "_dom_classes": [],
            "_model_module": "@jupyter-widgets/controls",
            "_model_module_version": "1.5.0",
            "_model_name": "FloatProgressModel",
            "_view_count": null,
            "_view_module": "@jupyter-widgets/controls",
            "_view_module_version": "1.5.0",
            "_view_name": "ProgressView",
            "bar_style": "success",
            "description": "",
            "description_tooltip": null,
            "layout": "IPY_MODEL_c8c729be41c642fe96341c31dfcd7d67",
            "max": 9912422,
            "min": 0,
            "orientation": "horizontal",
            "style": "IPY_MODEL_1529d2847bfc487cb7fbcd00c7d87c98",
            "value": 9912422
          }
        },
        "dda5f8052fa5493bb776f49789c0a82a": {
          "model_module": "@jupyter-widgets/controls",
          "model_name": "HTMLModel",
          "model_module_version": "1.5.0",
          "state": {
            "_dom_classes": [],
            "_model_module": "@jupyter-widgets/controls",
            "_model_module_version": "1.5.0",
            "_model_name": "HTMLModel",
            "_view_count": null,
            "_view_module": "@jupyter-widgets/controls",
            "_view_module_version": "1.5.0",
            "_view_name": "HTMLView",
            "description": "",
            "description_tooltip": null,
            "layout": "IPY_MODEL_49be9276bda847fbb122e0151aa6e2a8",
            "placeholder": "​",
            "style": "IPY_MODEL_92ea15658d65496fafbf58e5661f27bd",
            "value": " 9913344/? [00:00&lt;00:00, 14530123.50it/s]"
          }
        },
        "b8623cd78dcc472881cebd319befe017": {
          "model_module": "@jupyter-widgets/base",
          "model_name": "LayoutModel",
          "model_module_version": "1.2.0",
          "state": {
            "_model_module": "@jupyter-widgets/base",
            "_model_module_version": "1.2.0",
            "_model_name": "LayoutModel",
            "_view_count": null,
            "_view_module": "@jupyter-widgets/base",
            "_view_module_version": "1.2.0",
            "_view_name": "LayoutView",
            "align_content": null,
            "align_items": null,
            "align_self": null,
            "border": null,
            "bottom": null,
            "display": null,
            "flex": null,
            "flex_flow": null,
            "grid_area": null,
            "grid_auto_columns": null,
            "grid_auto_flow": null,
            "grid_auto_rows": null,
            "grid_column": null,
            "grid_gap": null,
            "grid_row": null,
            "grid_template_areas": null,
            "grid_template_columns": null,
            "grid_template_rows": null,
            "height": null,
            "justify_content": null,
            "justify_items": null,
            "left": null,
            "margin": null,
            "max_height": null,
            "max_width": null,
            "min_height": null,
            "min_width": null,
            "object_fit": null,
            "object_position": null,
            "order": null,
            "overflow": null,
            "overflow_x": null,
            "overflow_y": null,
            "padding": null,
            "right": null,
            "top": null,
            "visibility": null,
            "width": null
          }
        },
        "4dcbceba268443b9a039017efafa0a0c": {
          "model_module": "@jupyter-widgets/base",
          "model_name": "LayoutModel",
          "model_module_version": "1.2.0",
          "state": {
            "_model_module": "@jupyter-widgets/base",
            "_model_module_version": "1.2.0",
            "_model_name": "LayoutModel",
            "_view_count": null,
            "_view_module": "@jupyter-widgets/base",
            "_view_module_version": "1.2.0",
            "_view_name": "LayoutView",
            "align_content": null,
            "align_items": null,
            "align_self": null,
            "border": null,
            "bottom": null,
            "display": null,
            "flex": null,
            "flex_flow": null,
            "grid_area": null,
            "grid_auto_columns": null,
            "grid_auto_flow": null,
            "grid_auto_rows": null,
            "grid_column": null,
            "grid_gap": null,
            "grid_row": null,
            "grid_template_areas": null,
            "grid_template_columns": null,
            "grid_template_rows": null,
            "height": null,
            "justify_content": null,
            "justify_items": null,
            "left": null,
            "margin": null,
            "max_height": null,
            "max_width": null,
            "min_height": null,
            "min_width": null,
            "object_fit": null,
            "object_position": null,
            "order": null,
            "overflow": null,
            "overflow_x": null,
            "overflow_y": null,
            "padding": null,
            "right": null,
            "top": null,
            "visibility": null,
            "width": null
          }
        },
        "1e743d08348d43a78aa771ed0f43a8a2": {
          "model_module": "@jupyter-widgets/controls",
          "model_name": "DescriptionStyleModel",
          "model_module_version": "1.5.0",
          "state": {
            "_model_module": "@jupyter-widgets/controls",
            "_model_module_version": "1.5.0",
            "_model_name": "DescriptionStyleModel",
            "_view_count": null,
            "_view_module": "@jupyter-widgets/base",
            "_view_module_version": "1.2.0",
            "_view_name": "StyleView",
            "description_width": ""
          }
        },
        "c8c729be41c642fe96341c31dfcd7d67": {
          "model_module": "@jupyter-widgets/base",
          "model_name": "LayoutModel",
          "model_module_version": "1.2.0",
          "state": {
            "_model_module": "@jupyter-widgets/base",
            "_model_module_version": "1.2.0",
            "_model_name": "LayoutModel",
            "_view_count": null,
            "_view_module": "@jupyter-widgets/base",
            "_view_module_version": "1.2.0",
            "_view_name": "LayoutView",
            "align_content": null,
            "align_items": null,
            "align_self": null,
            "border": null,
            "bottom": null,
            "display": null,
            "flex": null,
            "flex_flow": null,
            "grid_area": null,
            "grid_auto_columns": null,
            "grid_auto_flow": null,
            "grid_auto_rows": null,
            "grid_column": null,
            "grid_gap": null,
            "grid_row": null,
            "grid_template_areas": null,
            "grid_template_columns": null,
            "grid_template_rows": null,
            "height": null,
            "justify_content": null,
            "justify_items": null,
            "left": null,
            "margin": null,
            "max_height": null,
            "max_width": null,
            "min_height": null,
            "min_width": null,
            "object_fit": null,
            "object_position": null,
            "order": null,
            "overflow": null,
            "overflow_x": null,
            "overflow_y": null,
            "padding": null,
            "right": null,
            "top": null,
            "visibility": null,
            "width": null
          }
        },
        "1529d2847bfc487cb7fbcd00c7d87c98": {
          "model_module": "@jupyter-widgets/controls",
          "model_name": "ProgressStyleModel",
          "model_module_version": "1.5.0",
          "state": {
            "_model_module": "@jupyter-widgets/controls",
            "_model_module_version": "1.5.0",
            "_model_name": "ProgressStyleModel",
            "_view_count": null,
            "_view_module": "@jupyter-widgets/base",
            "_view_module_version": "1.2.0",
            "_view_name": "StyleView",
            "bar_color": null,
            "description_width": ""
          }
        },
        "49be9276bda847fbb122e0151aa6e2a8": {
          "model_module": "@jupyter-widgets/base",
          "model_name": "LayoutModel",
          "model_module_version": "1.2.0",
          "state": {
            "_model_module": "@jupyter-widgets/base",
            "_model_module_version": "1.2.0",
            "_model_name": "LayoutModel",
            "_view_count": null,
            "_view_module": "@jupyter-widgets/base",
            "_view_module_version": "1.2.0",
            "_view_name": "LayoutView",
            "align_content": null,
            "align_items": null,
            "align_self": null,
            "border": null,
            "bottom": null,
            "display": null,
            "flex": null,
            "flex_flow": null,
            "grid_area": null,
            "grid_auto_columns": null,
            "grid_auto_flow": null,
            "grid_auto_rows": null,
            "grid_column": null,
            "grid_gap": null,
            "grid_row": null,
            "grid_template_areas": null,
            "grid_template_columns": null,
            "grid_template_rows": null,
            "height": null,
            "justify_content": null,
            "justify_items": null,
            "left": null,
            "margin": null,
            "max_height": null,
            "max_width": null,
            "min_height": null,
            "min_width": null,
            "object_fit": null,
            "object_position": null,
            "order": null,
            "overflow": null,
            "overflow_x": null,
            "overflow_y": null,
            "padding": null,
            "right": null,
            "top": null,
            "visibility": null,
            "width": null
          }
        },
        "92ea15658d65496fafbf58e5661f27bd": {
          "model_module": "@jupyter-widgets/controls",
          "model_name": "DescriptionStyleModel",
          "model_module_version": "1.5.0",
          "state": {
            "_model_module": "@jupyter-widgets/controls",
            "_model_module_version": "1.5.0",
            "_model_name": "DescriptionStyleModel",
            "_view_count": null,
            "_view_module": "@jupyter-widgets/base",
            "_view_module_version": "1.2.0",
            "_view_name": "StyleView",
            "description_width": ""
          }
        },
        "65b3af86c25e45d48d7b27d6f775672e": {
          "model_module": "@jupyter-widgets/controls",
          "model_name": "HBoxModel",
          "model_module_version": "1.5.0",
          "state": {
            "_dom_classes": [],
            "_model_module": "@jupyter-widgets/controls",
            "_model_module_version": "1.5.0",
            "_model_name": "HBoxModel",
            "_view_count": null,
            "_view_module": "@jupyter-widgets/controls",
            "_view_module_version": "1.5.0",
            "_view_name": "HBoxView",
            "box_style": "",
            "children": [
              "IPY_MODEL_a1bddfac98b4495eb480ab9b47d08821",
              "IPY_MODEL_431510b3067c425db9a692d6efae8650",
              "IPY_MODEL_30cf3e2921de4889917a676f33d87e90"
            ],
            "layout": "IPY_MODEL_edb5ab420a214815a4ffc0bfceafa4e0"
          }
        },
        "a1bddfac98b4495eb480ab9b47d08821": {
          "model_module": "@jupyter-widgets/controls",
          "model_name": "HTMLModel",
          "model_module_version": "1.5.0",
          "state": {
            "_dom_classes": [],
            "_model_module": "@jupyter-widgets/controls",
            "_model_module_version": "1.5.0",
            "_model_name": "HTMLModel",
            "_view_count": null,
            "_view_module": "@jupyter-widgets/controls",
            "_view_module_version": "1.5.0",
            "_view_name": "HTMLView",
            "description": "",
            "description_tooltip": null,
            "layout": "IPY_MODEL_06570d9c33c44b2ea4ed6cbb904d2c7f",
            "placeholder": "​",
            "style": "IPY_MODEL_ecae678f94e84d189522bcc1d837004a",
            "value": ""
          }
        },
        "431510b3067c425db9a692d6efae8650": {
          "model_module": "@jupyter-widgets/controls",
          "model_name": "FloatProgressModel",
          "model_module_version": "1.5.0",
          "state": {
            "_dom_classes": [],
            "_model_module": "@jupyter-widgets/controls",
            "_model_module_version": "1.5.0",
            "_model_name": "FloatProgressModel",
            "_view_count": null,
            "_view_module": "@jupyter-widgets/controls",
            "_view_module_version": "1.5.0",
            "_view_name": "ProgressView",
            "bar_style": "success",
            "description": "",
            "description_tooltip": null,
            "layout": "IPY_MODEL_8d59bbe746414b84bcf5b5dc2c7d5533",
            "max": 28881,
            "min": 0,
            "orientation": "horizontal",
            "style": "IPY_MODEL_890965bcdf0f480db691d044251863a5",
            "value": 28881
          }
        },
        "30cf3e2921de4889917a676f33d87e90": {
          "model_module": "@jupyter-widgets/controls",
          "model_name": "HTMLModel",
          "model_module_version": "1.5.0",
          "state": {
            "_dom_classes": [],
            "_model_module": "@jupyter-widgets/controls",
            "_model_module_version": "1.5.0",
            "_model_name": "HTMLModel",
            "_view_count": null,
            "_view_module": "@jupyter-widgets/controls",
            "_view_module_version": "1.5.0",
            "_view_name": "HTMLView",
            "description": "",
            "description_tooltip": null,
            "layout": "IPY_MODEL_816b8f32792b401d91da0fc76f0758b2",
            "placeholder": "​",
            "style": "IPY_MODEL_c32e8404a93c4ec1b6c35fa599399bfa",
            "value": " 29696/? [00:00&lt;00:00, 670178.70it/s]"
          }
        },
        "edb5ab420a214815a4ffc0bfceafa4e0": {
          "model_module": "@jupyter-widgets/base",
          "model_name": "LayoutModel",
          "model_module_version": "1.2.0",
          "state": {
            "_model_module": "@jupyter-widgets/base",
            "_model_module_version": "1.2.0",
            "_model_name": "LayoutModel",
            "_view_count": null,
            "_view_module": "@jupyter-widgets/base",
            "_view_module_version": "1.2.0",
            "_view_name": "LayoutView",
            "align_content": null,
            "align_items": null,
            "align_self": null,
            "border": null,
            "bottom": null,
            "display": null,
            "flex": null,
            "flex_flow": null,
            "grid_area": null,
            "grid_auto_columns": null,
            "grid_auto_flow": null,
            "grid_auto_rows": null,
            "grid_column": null,
            "grid_gap": null,
            "grid_row": null,
            "grid_template_areas": null,
            "grid_template_columns": null,
            "grid_template_rows": null,
            "height": null,
            "justify_content": null,
            "justify_items": null,
            "left": null,
            "margin": null,
            "max_height": null,
            "max_width": null,
            "min_height": null,
            "min_width": null,
            "object_fit": null,
            "object_position": null,
            "order": null,
            "overflow": null,
            "overflow_x": null,
            "overflow_y": null,
            "padding": null,
            "right": null,
            "top": null,
            "visibility": null,
            "width": null
          }
        },
        "06570d9c33c44b2ea4ed6cbb904d2c7f": {
          "model_module": "@jupyter-widgets/base",
          "model_name": "LayoutModel",
          "model_module_version": "1.2.0",
          "state": {
            "_model_module": "@jupyter-widgets/base",
            "_model_module_version": "1.2.0",
            "_model_name": "LayoutModel",
            "_view_count": null,
            "_view_module": "@jupyter-widgets/base",
            "_view_module_version": "1.2.0",
            "_view_name": "LayoutView",
            "align_content": null,
            "align_items": null,
            "align_self": null,
            "border": null,
            "bottom": null,
            "display": null,
            "flex": null,
            "flex_flow": null,
            "grid_area": null,
            "grid_auto_columns": null,
            "grid_auto_flow": null,
            "grid_auto_rows": null,
            "grid_column": null,
            "grid_gap": null,
            "grid_row": null,
            "grid_template_areas": null,
            "grid_template_columns": null,
            "grid_template_rows": null,
            "height": null,
            "justify_content": null,
            "justify_items": null,
            "left": null,
            "margin": null,
            "max_height": null,
            "max_width": null,
            "min_height": null,
            "min_width": null,
            "object_fit": null,
            "object_position": null,
            "order": null,
            "overflow": null,
            "overflow_x": null,
            "overflow_y": null,
            "padding": null,
            "right": null,
            "top": null,
            "visibility": null,
            "width": null
          }
        },
        "ecae678f94e84d189522bcc1d837004a": {
          "model_module": "@jupyter-widgets/controls",
          "model_name": "DescriptionStyleModel",
          "model_module_version": "1.5.0",
          "state": {
            "_model_module": "@jupyter-widgets/controls",
            "_model_module_version": "1.5.0",
            "_model_name": "DescriptionStyleModel",
            "_view_count": null,
            "_view_module": "@jupyter-widgets/base",
            "_view_module_version": "1.2.0",
            "_view_name": "StyleView",
            "description_width": ""
          }
        },
        "8d59bbe746414b84bcf5b5dc2c7d5533": {
          "model_module": "@jupyter-widgets/base",
          "model_name": "LayoutModel",
          "model_module_version": "1.2.0",
          "state": {
            "_model_module": "@jupyter-widgets/base",
            "_model_module_version": "1.2.0",
            "_model_name": "LayoutModel",
            "_view_count": null,
            "_view_module": "@jupyter-widgets/base",
            "_view_module_version": "1.2.0",
            "_view_name": "LayoutView",
            "align_content": null,
            "align_items": null,
            "align_self": null,
            "border": null,
            "bottom": null,
            "display": null,
            "flex": null,
            "flex_flow": null,
            "grid_area": null,
            "grid_auto_columns": null,
            "grid_auto_flow": null,
            "grid_auto_rows": null,
            "grid_column": null,
            "grid_gap": null,
            "grid_row": null,
            "grid_template_areas": null,
            "grid_template_columns": null,
            "grid_template_rows": null,
            "height": null,
            "justify_content": null,
            "justify_items": null,
            "left": null,
            "margin": null,
            "max_height": null,
            "max_width": null,
            "min_height": null,
            "min_width": null,
            "object_fit": null,
            "object_position": null,
            "order": null,
            "overflow": null,
            "overflow_x": null,
            "overflow_y": null,
            "padding": null,
            "right": null,
            "top": null,
            "visibility": null,
            "width": null
          }
        },
        "890965bcdf0f480db691d044251863a5": {
          "model_module": "@jupyter-widgets/controls",
          "model_name": "ProgressStyleModel",
          "model_module_version": "1.5.0",
          "state": {
            "_model_module": "@jupyter-widgets/controls",
            "_model_module_version": "1.5.0",
            "_model_name": "ProgressStyleModel",
            "_view_count": null,
            "_view_module": "@jupyter-widgets/base",
            "_view_module_version": "1.2.0",
            "_view_name": "StyleView",
            "bar_color": null,
            "description_width": ""
          }
        },
        "816b8f32792b401d91da0fc76f0758b2": {
          "model_module": "@jupyter-widgets/base",
          "model_name": "LayoutModel",
          "model_module_version": "1.2.0",
          "state": {
            "_model_module": "@jupyter-widgets/base",
            "_model_module_version": "1.2.0",
            "_model_name": "LayoutModel",
            "_view_count": null,
            "_view_module": "@jupyter-widgets/base",
            "_view_module_version": "1.2.0",
            "_view_name": "LayoutView",
            "align_content": null,
            "align_items": null,
            "align_self": null,
            "border": null,
            "bottom": null,
            "display": null,
            "flex": null,
            "flex_flow": null,
            "grid_area": null,
            "grid_auto_columns": null,
            "grid_auto_flow": null,
            "grid_auto_rows": null,
            "grid_column": null,
            "grid_gap": null,
            "grid_row": null,
            "grid_template_areas": null,
            "grid_template_columns": null,
            "grid_template_rows": null,
            "height": null,
            "justify_content": null,
            "justify_items": null,
            "left": null,
            "margin": null,
            "max_height": null,
            "max_width": null,
            "min_height": null,
            "min_width": null,
            "object_fit": null,
            "object_position": null,
            "order": null,
            "overflow": null,
            "overflow_x": null,
            "overflow_y": null,
            "padding": null,
            "right": null,
            "top": null,
            "visibility": null,
            "width": null
          }
        },
        "c32e8404a93c4ec1b6c35fa599399bfa": {
          "model_module": "@jupyter-widgets/controls",
          "model_name": "DescriptionStyleModel",
          "model_module_version": "1.5.0",
          "state": {
            "_model_module": "@jupyter-widgets/controls",
            "_model_module_version": "1.5.0",
            "_model_name": "DescriptionStyleModel",
            "_view_count": null,
            "_view_module": "@jupyter-widgets/base",
            "_view_module_version": "1.2.0",
            "_view_name": "StyleView",
            "description_width": ""
          }
        },
        "ebb4cad2f2994b48a42cff250e46c924": {
          "model_module": "@jupyter-widgets/controls",
          "model_name": "HBoxModel",
          "model_module_version": "1.5.0",
          "state": {
            "_dom_classes": [],
            "_model_module": "@jupyter-widgets/controls",
            "_model_module_version": "1.5.0",
            "_model_name": "HBoxModel",
            "_view_count": null,
            "_view_module": "@jupyter-widgets/controls",
            "_view_module_version": "1.5.0",
            "_view_name": "HBoxView",
            "box_style": "",
            "children": [
              "IPY_MODEL_ad2ef592e1f241768b46280e347fa5b4",
              "IPY_MODEL_bb53ee538f8343c6bd0a2359aba21f5e",
              "IPY_MODEL_b97cd1d343894c1c890ddfb6d8582856"
            ],
            "layout": "IPY_MODEL_d839c9dfefd24a338f253d4ff631c1a5"
          }
        },
        "ad2ef592e1f241768b46280e347fa5b4": {
          "model_module": "@jupyter-widgets/controls",
          "model_name": "HTMLModel",
          "model_module_version": "1.5.0",
          "state": {
            "_dom_classes": [],
            "_model_module": "@jupyter-widgets/controls",
            "_model_module_version": "1.5.0",
            "_model_name": "HTMLModel",
            "_view_count": null,
            "_view_module": "@jupyter-widgets/controls",
            "_view_module_version": "1.5.0",
            "_view_name": "HTMLView",
            "description": "",
            "description_tooltip": null,
            "layout": "IPY_MODEL_27e47103895147c8bcc578ffd4858d5c",
            "placeholder": "​",
            "style": "IPY_MODEL_4a1e244496564d709a55e67a856428be",
            "value": ""
          }
        },
        "bb53ee538f8343c6bd0a2359aba21f5e": {
          "model_module": "@jupyter-widgets/controls",
          "model_name": "FloatProgressModel",
          "model_module_version": "1.5.0",
          "state": {
            "_dom_classes": [],
            "_model_module": "@jupyter-widgets/controls",
            "_model_module_version": "1.5.0",
            "_model_name": "FloatProgressModel",
            "_view_count": null,
            "_view_module": "@jupyter-widgets/controls",
            "_view_module_version": "1.5.0",
            "_view_name": "ProgressView",
            "bar_style": "success",
            "description": "",
            "description_tooltip": null,
            "layout": "IPY_MODEL_3fb01787e3854f3281acd1040573136d",
            "max": 1648877,
            "min": 0,
            "orientation": "horizontal",
            "style": "IPY_MODEL_10b37ce5696045b5af0f041016376c4e",
            "value": 1648877
          }
        },
        "b97cd1d343894c1c890ddfb6d8582856": {
          "model_module": "@jupyter-widgets/controls",
          "model_name": "HTMLModel",
          "model_module_version": "1.5.0",
          "state": {
            "_dom_classes": [],
            "_model_module": "@jupyter-widgets/controls",
            "_model_module_version": "1.5.0",
            "_model_name": "HTMLModel",
            "_view_count": null,
            "_view_module": "@jupyter-widgets/controls",
            "_view_module_version": "1.5.0",
            "_view_name": "HTMLView",
            "description": "",
            "description_tooltip": null,
            "layout": "IPY_MODEL_6473e9dfc9fb42abb4ee40326de68fba",
            "placeholder": "​",
            "style": "IPY_MODEL_1ea64a0ff0784379baaadeb9f4aa67f6",
            "value": " 1649664/? [00:00&lt;00:00, 17361175.46it/s]"
          }
        },
        "d839c9dfefd24a338f253d4ff631c1a5": {
          "model_module": "@jupyter-widgets/base",
          "model_name": "LayoutModel",
          "model_module_version": "1.2.0",
          "state": {
            "_model_module": "@jupyter-widgets/base",
            "_model_module_version": "1.2.0",
            "_model_name": "LayoutModel",
            "_view_count": null,
            "_view_module": "@jupyter-widgets/base",
            "_view_module_version": "1.2.0",
            "_view_name": "LayoutView",
            "align_content": null,
            "align_items": null,
            "align_self": null,
            "border": null,
            "bottom": null,
            "display": null,
            "flex": null,
            "flex_flow": null,
            "grid_area": null,
            "grid_auto_columns": null,
            "grid_auto_flow": null,
            "grid_auto_rows": null,
            "grid_column": null,
            "grid_gap": null,
            "grid_row": null,
            "grid_template_areas": null,
            "grid_template_columns": null,
            "grid_template_rows": null,
            "height": null,
            "justify_content": null,
            "justify_items": null,
            "left": null,
            "margin": null,
            "max_height": null,
            "max_width": null,
            "min_height": null,
            "min_width": null,
            "object_fit": null,
            "object_position": null,
            "order": null,
            "overflow": null,
            "overflow_x": null,
            "overflow_y": null,
            "padding": null,
            "right": null,
            "top": null,
            "visibility": null,
            "width": null
          }
        },
        "27e47103895147c8bcc578ffd4858d5c": {
          "model_module": "@jupyter-widgets/base",
          "model_name": "LayoutModel",
          "model_module_version": "1.2.0",
          "state": {
            "_model_module": "@jupyter-widgets/base",
            "_model_module_version": "1.2.0",
            "_model_name": "LayoutModel",
            "_view_count": null,
            "_view_module": "@jupyter-widgets/base",
            "_view_module_version": "1.2.0",
            "_view_name": "LayoutView",
            "align_content": null,
            "align_items": null,
            "align_self": null,
            "border": null,
            "bottom": null,
            "display": null,
            "flex": null,
            "flex_flow": null,
            "grid_area": null,
            "grid_auto_columns": null,
            "grid_auto_flow": null,
            "grid_auto_rows": null,
            "grid_column": null,
            "grid_gap": null,
            "grid_row": null,
            "grid_template_areas": null,
            "grid_template_columns": null,
            "grid_template_rows": null,
            "height": null,
            "justify_content": null,
            "justify_items": null,
            "left": null,
            "margin": null,
            "max_height": null,
            "max_width": null,
            "min_height": null,
            "min_width": null,
            "object_fit": null,
            "object_position": null,
            "order": null,
            "overflow": null,
            "overflow_x": null,
            "overflow_y": null,
            "padding": null,
            "right": null,
            "top": null,
            "visibility": null,
            "width": null
          }
        },
        "4a1e244496564d709a55e67a856428be": {
          "model_module": "@jupyter-widgets/controls",
          "model_name": "DescriptionStyleModel",
          "model_module_version": "1.5.0",
          "state": {
            "_model_module": "@jupyter-widgets/controls",
            "_model_module_version": "1.5.0",
            "_model_name": "DescriptionStyleModel",
            "_view_count": null,
            "_view_module": "@jupyter-widgets/base",
            "_view_module_version": "1.2.0",
            "_view_name": "StyleView",
            "description_width": ""
          }
        },
        "3fb01787e3854f3281acd1040573136d": {
          "model_module": "@jupyter-widgets/base",
          "model_name": "LayoutModel",
          "model_module_version": "1.2.0",
          "state": {
            "_model_module": "@jupyter-widgets/base",
            "_model_module_version": "1.2.0",
            "_model_name": "LayoutModel",
            "_view_count": null,
            "_view_module": "@jupyter-widgets/base",
            "_view_module_version": "1.2.0",
            "_view_name": "LayoutView",
            "align_content": null,
            "align_items": null,
            "align_self": null,
            "border": null,
            "bottom": null,
            "display": null,
            "flex": null,
            "flex_flow": null,
            "grid_area": null,
            "grid_auto_columns": null,
            "grid_auto_flow": null,
            "grid_auto_rows": null,
            "grid_column": null,
            "grid_gap": null,
            "grid_row": null,
            "grid_template_areas": null,
            "grid_template_columns": null,
            "grid_template_rows": null,
            "height": null,
            "justify_content": null,
            "justify_items": null,
            "left": null,
            "margin": null,
            "max_height": null,
            "max_width": null,
            "min_height": null,
            "min_width": null,
            "object_fit": null,
            "object_position": null,
            "order": null,
            "overflow": null,
            "overflow_x": null,
            "overflow_y": null,
            "padding": null,
            "right": null,
            "top": null,
            "visibility": null,
            "width": null
          }
        },
        "10b37ce5696045b5af0f041016376c4e": {
          "model_module": "@jupyter-widgets/controls",
          "model_name": "ProgressStyleModel",
          "model_module_version": "1.5.0",
          "state": {
            "_model_module": "@jupyter-widgets/controls",
            "_model_module_version": "1.5.0",
            "_model_name": "ProgressStyleModel",
            "_view_count": null,
            "_view_module": "@jupyter-widgets/base",
            "_view_module_version": "1.2.0",
            "_view_name": "StyleView",
            "bar_color": null,
            "description_width": ""
          }
        },
        "6473e9dfc9fb42abb4ee40326de68fba": {
          "model_module": "@jupyter-widgets/base",
          "model_name": "LayoutModel",
          "model_module_version": "1.2.0",
          "state": {
            "_model_module": "@jupyter-widgets/base",
            "_model_module_version": "1.2.0",
            "_model_name": "LayoutModel",
            "_view_count": null,
            "_view_module": "@jupyter-widgets/base",
            "_view_module_version": "1.2.0",
            "_view_name": "LayoutView",
            "align_content": null,
            "align_items": null,
            "align_self": null,
            "border": null,
            "bottom": null,
            "display": null,
            "flex": null,
            "flex_flow": null,
            "grid_area": null,
            "grid_auto_columns": null,
            "grid_auto_flow": null,
            "grid_auto_rows": null,
            "grid_column": null,
            "grid_gap": null,
            "grid_row": null,
            "grid_template_areas": null,
            "grid_template_columns": null,
            "grid_template_rows": null,
            "height": null,
            "justify_content": null,
            "justify_items": null,
            "left": null,
            "margin": null,
            "max_height": null,
            "max_width": null,
            "min_height": null,
            "min_width": null,
            "object_fit": null,
            "object_position": null,
            "order": null,
            "overflow": null,
            "overflow_x": null,
            "overflow_y": null,
            "padding": null,
            "right": null,
            "top": null,
            "visibility": null,
            "width": null
          }
        },
        "1ea64a0ff0784379baaadeb9f4aa67f6": {
          "model_module": "@jupyter-widgets/controls",
          "model_name": "DescriptionStyleModel",
          "model_module_version": "1.5.0",
          "state": {
            "_model_module": "@jupyter-widgets/controls",
            "_model_module_version": "1.5.0",
            "_model_name": "DescriptionStyleModel",
            "_view_count": null,
            "_view_module": "@jupyter-widgets/base",
            "_view_module_version": "1.2.0",
            "_view_name": "StyleView",
            "description_width": ""
          }
        },
        "e0e97bfd229d4bcd832eec6ab1d98161": {
          "model_module": "@jupyter-widgets/controls",
          "model_name": "HBoxModel",
          "model_module_version": "1.5.0",
          "state": {
            "_dom_classes": [],
            "_model_module": "@jupyter-widgets/controls",
            "_model_module_version": "1.5.0",
            "_model_name": "HBoxModel",
            "_view_count": null,
            "_view_module": "@jupyter-widgets/controls",
            "_view_module_version": "1.5.0",
            "_view_name": "HBoxView",
            "box_style": "",
            "children": [
              "IPY_MODEL_0f468ae63e444838912bf05d183f4103",
              "IPY_MODEL_3b9f66abcc0043c2b49cb68bc23ece9b",
              "IPY_MODEL_ad31a5ab18c249dfb11eaab1940d5a93"
            ],
            "layout": "IPY_MODEL_ea27f2e281c74cdfa6392ebb90e79f9c"
          }
        },
        "0f468ae63e444838912bf05d183f4103": {
          "model_module": "@jupyter-widgets/controls",
          "model_name": "HTMLModel",
          "model_module_version": "1.5.0",
          "state": {
            "_dom_classes": [],
            "_model_module": "@jupyter-widgets/controls",
            "_model_module_version": "1.5.0",
            "_model_name": "HTMLModel",
            "_view_count": null,
            "_view_module": "@jupyter-widgets/controls",
            "_view_module_version": "1.5.0",
            "_view_name": "HTMLView",
            "description": "",
            "description_tooltip": null,
            "layout": "IPY_MODEL_a25e56a14b054fd0be1f4fc231486e8b",
            "placeholder": "​",
            "style": "IPY_MODEL_961237f2e1c04abc90d1584e71958e73",
            "value": ""
          }
        },
        "3b9f66abcc0043c2b49cb68bc23ece9b": {
          "model_module": "@jupyter-widgets/controls",
          "model_name": "FloatProgressModel",
          "model_module_version": "1.5.0",
          "state": {
            "_dom_classes": [],
            "_model_module": "@jupyter-widgets/controls",
            "_model_module_version": "1.5.0",
            "_model_name": "FloatProgressModel",
            "_view_count": null,
            "_view_module": "@jupyter-widgets/controls",
            "_view_module_version": "1.5.0",
            "_view_name": "ProgressView",
            "bar_style": "success",
            "description": "",
            "description_tooltip": null,
            "layout": "IPY_MODEL_6d8dfeb36cd646bcb6cd7a9bc3b5d670",
            "max": 4542,
            "min": 0,
            "orientation": "horizontal",
            "style": "IPY_MODEL_9e96a5a4e4a544af9849511782874cd5",
            "value": 4542
          }
        },
        "ad31a5ab18c249dfb11eaab1940d5a93": {
          "model_module": "@jupyter-widgets/controls",
          "model_name": "HTMLModel",
          "model_module_version": "1.5.0",
          "state": {
            "_dom_classes": [],
            "_model_module": "@jupyter-widgets/controls",
            "_model_module_version": "1.5.0",
            "_model_name": "HTMLModel",
            "_view_count": null,
            "_view_module": "@jupyter-widgets/controls",
            "_view_module_version": "1.5.0",
            "_view_name": "HTMLView",
            "description": "",
            "description_tooltip": null,
            "layout": "IPY_MODEL_8eec90ff6b034123ad330ad7f2631dcc",
            "placeholder": "​",
            "style": "IPY_MODEL_3a6fe41776ab4b41bbff7f827dd5e134",
            "value": " 5120/? [00:00&lt;00:00, 98987.93it/s]"
          }
        },
        "ea27f2e281c74cdfa6392ebb90e79f9c": {
          "model_module": "@jupyter-widgets/base",
          "model_name": "LayoutModel",
          "model_module_version": "1.2.0",
          "state": {
            "_model_module": "@jupyter-widgets/base",
            "_model_module_version": "1.2.0",
            "_model_name": "LayoutModel",
            "_view_count": null,
            "_view_module": "@jupyter-widgets/base",
            "_view_module_version": "1.2.0",
            "_view_name": "LayoutView",
            "align_content": null,
            "align_items": null,
            "align_self": null,
            "border": null,
            "bottom": null,
            "display": null,
            "flex": null,
            "flex_flow": null,
            "grid_area": null,
            "grid_auto_columns": null,
            "grid_auto_flow": null,
            "grid_auto_rows": null,
            "grid_column": null,
            "grid_gap": null,
            "grid_row": null,
            "grid_template_areas": null,
            "grid_template_columns": null,
            "grid_template_rows": null,
            "height": null,
            "justify_content": null,
            "justify_items": null,
            "left": null,
            "margin": null,
            "max_height": null,
            "max_width": null,
            "min_height": null,
            "min_width": null,
            "object_fit": null,
            "object_position": null,
            "order": null,
            "overflow": null,
            "overflow_x": null,
            "overflow_y": null,
            "padding": null,
            "right": null,
            "top": null,
            "visibility": null,
            "width": null
          }
        },
        "a25e56a14b054fd0be1f4fc231486e8b": {
          "model_module": "@jupyter-widgets/base",
          "model_name": "LayoutModel",
          "model_module_version": "1.2.0",
          "state": {
            "_model_module": "@jupyter-widgets/base",
            "_model_module_version": "1.2.0",
            "_model_name": "LayoutModel",
            "_view_count": null,
            "_view_module": "@jupyter-widgets/base",
            "_view_module_version": "1.2.0",
            "_view_name": "LayoutView",
            "align_content": null,
            "align_items": null,
            "align_self": null,
            "border": null,
            "bottom": null,
            "display": null,
            "flex": null,
            "flex_flow": null,
            "grid_area": null,
            "grid_auto_columns": null,
            "grid_auto_flow": null,
            "grid_auto_rows": null,
            "grid_column": null,
            "grid_gap": null,
            "grid_row": null,
            "grid_template_areas": null,
            "grid_template_columns": null,
            "grid_template_rows": null,
            "height": null,
            "justify_content": null,
            "justify_items": null,
            "left": null,
            "margin": null,
            "max_height": null,
            "max_width": null,
            "min_height": null,
            "min_width": null,
            "object_fit": null,
            "object_position": null,
            "order": null,
            "overflow": null,
            "overflow_x": null,
            "overflow_y": null,
            "padding": null,
            "right": null,
            "top": null,
            "visibility": null,
            "width": null
          }
        },
        "961237f2e1c04abc90d1584e71958e73": {
          "model_module": "@jupyter-widgets/controls",
          "model_name": "DescriptionStyleModel",
          "model_module_version": "1.5.0",
          "state": {
            "_model_module": "@jupyter-widgets/controls",
            "_model_module_version": "1.5.0",
            "_model_name": "DescriptionStyleModel",
            "_view_count": null,
            "_view_module": "@jupyter-widgets/base",
            "_view_module_version": "1.2.0",
            "_view_name": "StyleView",
            "description_width": ""
          }
        },
        "6d8dfeb36cd646bcb6cd7a9bc3b5d670": {
          "model_module": "@jupyter-widgets/base",
          "model_name": "LayoutModel",
          "model_module_version": "1.2.0",
          "state": {
            "_model_module": "@jupyter-widgets/base",
            "_model_module_version": "1.2.0",
            "_model_name": "LayoutModel",
            "_view_count": null,
            "_view_module": "@jupyter-widgets/base",
            "_view_module_version": "1.2.0",
            "_view_name": "LayoutView",
            "align_content": null,
            "align_items": null,
            "align_self": null,
            "border": null,
            "bottom": null,
            "display": null,
            "flex": null,
            "flex_flow": null,
            "grid_area": null,
            "grid_auto_columns": null,
            "grid_auto_flow": null,
            "grid_auto_rows": null,
            "grid_column": null,
            "grid_gap": null,
            "grid_row": null,
            "grid_template_areas": null,
            "grid_template_columns": null,
            "grid_template_rows": null,
            "height": null,
            "justify_content": null,
            "justify_items": null,
            "left": null,
            "margin": null,
            "max_height": null,
            "max_width": null,
            "min_height": null,
            "min_width": null,
            "object_fit": null,
            "object_position": null,
            "order": null,
            "overflow": null,
            "overflow_x": null,
            "overflow_y": null,
            "padding": null,
            "right": null,
            "top": null,
            "visibility": null,
            "width": null
          }
        },
        "9e96a5a4e4a544af9849511782874cd5": {
          "model_module": "@jupyter-widgets/controls",
          "model_name": "ProgressStyleModel",
          "model_module_version": "1.5.0",
          "state": {
            "_model_module": "@jupyter-widgets/controls",
            "_model_module_version": "1.5.0",
            "_model_name": "ProgressStyleModel",
            "_view_count": null,
            "_view_module": "@jupyter-widgets/base",
            "_view_module_version": "1.2.0",
            "_view_name": "StyleView",
            "bar_color": null,
            "description_width": ""
          }
        },
        "8eec90ff6b034123ad330ad7f2631dcc": {
          "model_module": "@jupyter-widgets/base",
          "model_name": "LayoutModel",
          "model_module_version": "1.2.0",
          "state": {
            "_model_module": "@jupyter-widgets/base",
            "_model_module_version": "1.2.0",
            "_model_name": "LayoutModel",
            "_view_count": null,
            "_view_module": "@jupyter-widgets/base",
            "_view_module_version": "1.2.0",
            "_view_name": "LayoutView",
            "align_content": null,
            "align_items": null,
            "align_self": null,
            "border": null,
            "bottom": null,
            "display": null,
            "flex": null,
            "flex_flow": null,
            "grid_area": null,
            "grid_auto_columns": null,
            "grid_auto_flow": null,
            "grid_auto_rows": null,
            "grid_column": null,
            "grid_gap": null,
            "grid_row": null,
            "grid_template_areas": null,
            "grid_template_columns": null,
            "grid_template_rows": null,
            "height": null,
            "justify_content": null,
            "justify_items": null,
            "left": null,
            "margin": null,
            "max_height": null,
            "max_width": null,
            "min_height": null,
            "min_width": null,
            "object_fit": null,
            "object_position": null,
            "order": null,
            "overflow": null,
            "overflow_x": null,
            "overflow_y": null,
            "padding": null,
            "right": null,
            "top": null,
            "visibility": null,
            "width": null
          }
        },
        "3a6fe41776ab4b41bbff7f827dd5e134": {
          "model_module": "@jupyter-widgets/controls",
          "model_name": "DescriptionStyleModel",
          "model_module_version": "1.5.0",
          "state": {
            "_model_module": "@jupyter-widgets/controls",
            "_model_module_version": "1.5.0",
            "_model_name": "DescriptionStyleModel",
            "_view_count": null,
            "_view_module": "@jupyter-widgets/base",
            "_view_module_version": "1.2.0",
            "_view_name": "StyleView",
            "description_width": ""
          }
        }
      }
    }
  },
  "nbformat": 4,
  "nbformat_minor": 0
}