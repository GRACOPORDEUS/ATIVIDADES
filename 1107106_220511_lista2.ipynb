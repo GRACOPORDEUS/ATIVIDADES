{
  "cells": [
    {
      "cell_type": "markdown",
      "metadata": {
        "id": "view-in-github",
        "colab_type": "text"
      },
      "source": [
        "<a href=\"https://colab.research.google.com/github/GRACOPORDEUS/atividades_mestrado/blob/main/1107106_220511_lista2.ipynb\" target=\"_parent\"><img src=\"https://colab.research.google.com/assets/colab-badge.svg\" alt=\"Open In Colab\"/></a>"
      ]
    },
    {
      "cell_type": "code",
      "execution_count": 51,
      "metadata": {
        "id": "7VxPi01PZ9Nw"
      },
      "outputs": [],
      "source": [
        "import torch\n",
        "import torch.nn as nn\n",
        "import torch.optim as optim\n",
        "import torch.nn.functional as F\n",
        "import torchvision.datasets as datasets\n",
        "import torchvision.transforms as transforms\n",
        "from torch.utils.data import Dataset, DataLoader\n",
        "\n",
        "from sklearn.metrics import accuracy_score\n",
        "from sklearn.metrics import confusion_matrix\n",
        "from sklearn.metrics import ConfusionMatrixDisplay\n",
        "from sklearn.preprocessing import StandardScaler\n",
        "from sklearn.model_selection import train_test_split\n",
        "\n",
        "import matplotlib.pyplot as plt\n",
        "import pandas as pd\n",
        "import numpy as np\n",
        "from tqdm import tqdm"
      ]
    },
    {
      "cell_type": "code",
      "execution_count": 8,
      "metadata": {
        "colab": {
          "base_uri": "https://localhost:8080/",
          "height": 35
        },
        "id": "6FWMdEJ3dbf_",
        "outputId": "f409b809-2d36-4a43-d155-a3016fa078f4"
      },
      "outputs": [
        {
          "output_type": "execute_result",
          "data": {
            "text/plain": [
              "'cpu'"
            ],
            "application/vnd.google.colaboratory.intrinsic+json": {
              "type": "string"
            }
          },
          "metadata": {},
          "execution_count": 8
        }
      ],
      "source": [
        "device = \"cuda\" if torch.cuda.is_available() else \"cpu\"\n",
        "device"
      ]
    },
    {
      "cell_type": "markdown",
      "metadata": {
        "id": "G341v7WLWbes"
      },
      "source": [
        "# 1ª Questão"
      ]
    },
    {
      "cell_type": "markdown",
      "metadata": {
        "id": "8HO_6P23UmaU"
      },
      "source": [
        "\"que tipo de pessoa tem mais probabilidade de sobreviver?\""
      ]
    },
    {
      "cell_type": "markdown",
      "metadata": {
        "id": "M2x8hGy3qpHI"
      },
      "source": [
        "### data manipulation"
      ]
    },
    {
      "cell_type": "markdown",
      "metadata": {
        "id": "pjXqK5i9aMcV"
      },
      "source": [
        "#### import from kaggle"
      ]
    },
    {
      "cell_type": "code",
      "execution_count": 1,
      "metadata": {
        "colab": {
          "base_uri": "https://localhost:8080/"
        },
        "id": "89UN1bnDPV5t",
        "outputId": "28a86455-d3a0-4495-b863-5f6201cb9c29"
      },
      "outputs": [
        {
          "output_type": "stream",
          "name": "stdout",
          "text": [
            "Requirement already satisfied: kaggle in /usr/local/lib/python3.7/dist-packages (1.5.12)\n",
            "Requirement already satisfied: python-slugify in /usr/local/lib/python3.7/dist-packages (from kaggle) (6.1.2)\n",
            "Requirement already satisfied: certifi in /usr/local/lib/python3.7/dist-packages (from kaggle) (2021.10.8)\n",
            "Requirement already satisfied: requests in /usr/local/lib/python3.7/dist-packages (from kaggle) (2.23.0)\n",
            "Requirement already satisfied: tqdm in /usr/local/lib/python3.7/dist-packages (from kaggle) (4.64.0)\n",
            "Requirement already satisfied: python-dateutil in /usr/local/lib/python3.7/dist-packages (from kaggle) (2.8.2)\n",
            "Requirement already satisfied: urllib3 in /usr/local/lib/python3.7/dist-packages (from kaggle) (1.24.3)\n",
            "Requirement already satisfied: six>=1.10 in /usr/local/lib/python3.7/dist-packages (from kaggle) (1.15.0)\n",
            "Requirement already satisfied: text-unidecode>=1.3 in /usr/local/lib/python3.7/dist-packages (from python-slugify->kaggle) (1.3)\n",
            "Requirement already satisfied: chardet<4,>=3.0.2 in /usr/local/lib/python3.7/dist-packages (from requests->kaggle) (3.0.4)\n",
            "Requirement already satisfied: idna<3,>=2.5 in /usr/local/lib/python3.7/dist-packages (from requests->kaggle) (2.10)\n"
          ]
        }
      ],
      "source": [
        "!pip install kaggle"
      ]
    },
    {
      "cell_type": "code",
      "execution_count": 2,
      "metadata": {
        "id": "VNhsVzUHUnfj"
      },
      "outputs": [],
      "source": [
        "! mkdir ~/.kaggle"
      ]
    },
    {
      "cell_type": "code",
      "execution_count": 3,
      "metadata": {
        "id": "U5FVK2aeWIfa"
      },
      "outputs": [],
      "source": [
        "! cp kaggle.json ~/.kaggle/"
      ]
    },
    {
      "cell_type": "code",
      "execution_count": 4,
      "metadata": {
        "id": "Z4muKdFPX7bH"
      },
      "outputs": [],
      "source": [
        "! chmod 600 ~/.kaggle/kaggle.json"
      ]
    },
    {
      "cell_type": "code",
      "execution_count": 5,
      "metadata": {
        "colab": {
          "base_uri": "https://localhost:8080/"
        },
        "id": "JGKZKDQuV8aG",
        "outputId": "f99646dd-70c9-4f57-d9c2-96557bcd00bc"
      },
      "outputs": [
        {
          "output_type": "stream",
          "name": "stdout",
          "text": [
            "Downloading titanic.zip to /content\n",
            "\r  0% 0.00/34.1k [00:00<?, ?B/s]\n",
            "\r100% 34.1k/34.1k [00:00<00:00, 21.2MB/s]\n"
          ]
        }
      ],
      "source": [
        "! kaggle competitions download -c titanic --force"
      ]
    },
    {
      "cell_type": "code",
      "execution_count": 6,
      "metadata": {
        "colab": {
          "base_uri": "https://localhost:8080/"
        },
        "id": "qCZNcicEWsSp",
        "outputId": "58825b01-0ae0-4d40-ca1d-cf80493a01e9"
      },
      "outputs": [
        {
          "output_type": "stream",
          "name": "stdout",
          "text": [
            "Archive:  titanic.zip\n",
            "  inflating: gender_submission.csv   \n",
            "  inflating: test.csv                \n",
            "  inflating: train.csv               \n"
          ]
        }
      ],
      "source": [
        "! unzip titanic.zip"
      ]
    },
    {
      "cell_type": "markdown",
      "metadata": {
        "id": "1Mo5c5tEqzns"
      },
      "source": [
        "#### data preprocessing"
      ]
    },
    {
      "cell_type": "code",
      "execution_count": 9,
      "metadata": {
        "id": "J_oCQMoAZCkX"
      },
      "outputs": [],
      "source": [
        "titanic_train = pd.read_csv(\"train.csv\")\n",
        "titanic_test = pd.read_csv(\"test.csv\")"
      ]
    },
    {
      "cell_type": "markdown",
      "metadata": {
        "id": "Q9d7VdkprVJM"
      },
      "source": [
        "Train"
      ]
    },
    {
      "cell_type": "code",
      "execution_count": 10,
      "metadata": {
        "id": "WEfmtjRsq-9d"
      },
      "outputs": [],
      "source": [
        "titanic_train.drop(['Name','Ticket','Cabin'],axis=1,inplace=True)\n",
        "y = titanic_train.loc[:, 'Survived'].values\n",
        "\n",
        "sex = pd.get_dummies(titanic_train['Sex'],drop_first=True)\n",
        "embark = pd.get_dummies(titanic_train['Embarked'],drop_first=True)\n",
        "\n",
        "titanic_train = pd.concat([titanic_train,sex,embark],axis=1)\n",
        "\n",
        "titanic_train.drop(['Sex','Embarked'],axis=1,inplace=True)\n",
        "\n",
        "titanic_train.fillna(titanic_train.mean(),inplace=True)\n",
        "\n",
        "train_columns = titanic_train.columns\n",
        "titanic_train = pd.DataFrame(StandardScaler().fit_transform(titanic_train))\n",
        "titanic_train.columns  = train_columns\n",
        "\n",
        "features = titanic_train.iloc[:,2:].columns.tolist()\n",
        "target   = titanic_train.loc[:, 'Survived'].name\n",
        "\n",
        "X = titanic_train.iloc[:,2:].values"
      ]
    },
    {
      "cell_type": "code",
      "source": [
        "X_train, X_test, y_train, y_test = train_test_split(X, y, test_size = 0.2)"
      ],
      "metadata": {
        "id": "EthOswywSE70"
      },
      "execution_count": 11,
      "outputs": []
    },
    {
      "cell_type": "code",
      "source": [
        "X_train.shape, y_train.shape, X_test.shape, y_test.shape"
      ],
      "metadata": {
        "colab": {
          "base_uri": "https://localhost:8080/"
        },
        "id": "As4rwDdBSgMb",
        "outputId": "4897d0e0-3297-4276-fd67-6cf9d93c796b"
      },
      "execution_count": 12,
      "outputs": [
        {
          "output_type": "execute_result",
          "data": {
            "text/plain": [
              "((712, 8), (712,), (179, 8), (179,))"
            ]
          },
          "metadata": {},
          "execution_count": 12
        }
      ]
    },
    {
      "cell_type": "markdown",
      "metadata": {
        "id": "GpABmtSSrWH5"
      },
      "source": [
        "Test"
      ]
    },
    {
      "cell_type": "code",
      "execution_count": 13,
      "metadata": {
        "id": "vQRRbLQSrPuJ"
      },
      "outputs": [],
      "source": [
        "titanic_test.drop(['Name','Ticket','Cabin'],axis=1,inplace=True)\n",
        "\n",
        "sex = pd.get_dummies(titanic_test['Sex'],drop_first=True)\n",
        "embark = pd.get_dummies(titanic_test['Embarked'],drop_first=True)\n",
        "\n",
        "titanic_test = pd.concat([titanic_test,sex,embark],axis=1)\n",
        "\n",
        "titanic_test.drop(['Sex','Embarked'],axis=1,inplace=True)\n",
        "\n",
        "titanic_test.fillna(titanic_test.mean(),inplace=True)\n",
        "\n",
        "test_columns  = titanic_test.columns\n",
        "titanic_test = pd.DataFrame(StandardScaler().fit_transform(titanic_test))\n",
        "titanic_test.columns  = test_columns"
      ]
    },
    {
      "cell_type": "code",
      "source": [
        "test = titanic_test.iloc[:,1:].values"
      ],
      "metadata": {
        "id": "BGmJwBFe72Za"
      },
      "execution_count": 14,
      "outputs": []
    },
    {
      "cell_type": "code",
      "source": [
        "test.shape"
      ],
      "metadata": {
        "colab": {
          "base_uri": "https://localhost:8080/"
        },
        "id": "IyCm6AA2AZed",
        "outputId": "d73bfd9f-a7d2-423e-9d24-ec88fe51aaca"
      },
      "execution_count": 15,
      "outputs": [
        {
          "output_type": "execute_result",
          "data": {
            "text/plain": [
              "(418, 8)"
            ]
          },
          "metadata": {},
          "execution_count": 15
        }
      ]
    },
    {
      "cell_type": "markdown",
      "metadata": {
        "id": "PAHetOnjaVKK"
      },
      "source": [
        "### Network"
      ]
    },
    {
      "cell_type": "code",
      "source": [
        "class dataset(Dataset):\n",
        "    def __init__(self, x, y):\n",
        "        self.x = torch.from_numpy(x).float()\n",
        "        self.y = torch.from_numpy(y)\n",
        "        self.n_sample = x.shape[0]\n",
        "\n",
        "    def __getitem__(self, index):\n",
        "        return self.x[index], self.y[index]\n",
        "\n",
        "    def __len__(self):\n",
        "        return self.n_sample"
      ],
      "metadata": {
        "id": "2O0N98iVXHAt"
      },
      "execution_count": 16,
      "outputs": []
    },
    {
      "cell_type": "code",
      "source": [
        "train_dataset = dataset(X_train, y_train)\n",
        "test_dataset = dataset(X_test, y_test)"
      ],
      "metadata": {
        "id": "o0UulP5vYLZf"
      },
      "execution_count": 17,
      "outputs": []
    },
    {
      "cell_type": "code",
      "execution_count": 18,
      "metadata": {
        "id": "haAcdB8W06rH"
      },
      "outputs": [],
      "source": [
        "# datasset parameters\n",
        "input_size = X_train.shape[1]\n",
        "batch_size = X_train.shape[0]\n",
        "num_classes = 2"
      ]
    },
    {
      "cell_type": "code",
      "execution_count": 19,
      "metadata": {
        "id": "Ahrrze-e06ol"
      },
      "outputs": [],
      "source": [
        "train_loader = DataLoader(\n",
        "    dataset = train_dataset,\n",
        "    batch_size = batch_size,\n",
        "    shuffle = True)\n",
        "\n",
        "test_loader = DataLoader(\n",
        "    dataset = test_dataset,\n",
        "    batch_size = batch_size,\n",
        "    shuffle = True)"
      ]
    },
    {
      "cell_type": "code",
      "execution_count": 92,
      "metadata": {
        "id": "vMVrsloDyM3p"
      },
      "outputs": [],
      "source": [
        "class NN(nn.Module):\n",
        "  def __init__(self, input_size, num_classes, tx_dropout):\n",
        "    super(NN, self).__init__()\n",
        "    self.fc1 = nn.Linear(input_size, 30)\n",
        "    self.fc2 = nn.Linear(30, 15)\n",
        "    self.fc3 = nn.Linear(15, num_classes)\n",
        "    \n",
        "    self.dropout = nn.Dropout(tx_dropout)\n",
        "\n",
        "    self.bn1 = nn.BatchNorm1d(30)\n",
        "    self.bn2 = nn.BatchNorm1d(15)\n",
        "  \n",
        "  def forward(self, x):\n",
        "    x = F.relu(self.bn1(self.fc1(x)))\n",
        "    x = self.dropout(F.relu(self.bn2(self.fc2(x))))\n",
        "    x = torch.sigmoid(self.fc3(x))\n",
        "    return x"
      ]
    },
    {
      "cell_type": "code",
      "source": [
        "print(NN(input_size, num_classes, tx_dropout= 0))"
      ],
      "metadata": {
        "colab": {
          "base_uri": "https://localhost:8080/"
        },
        "id": "fq_tVdyiZKJE",
        "outputId": "01561e75-a05e-439b-84e9-39d0eae932c4"
      },
      "execution_count": 21,
      "outputs": [
        {
          "output_type": "stream",
          "name": "stdout",
          "text": [
            "NN(\n",
            "  (fc1): Linear(in_features=8, out_features=30, bias=True)\n",
            "  (fc2): Linear(in_features=30, out_features=10, bias=True)\n",
            "  (fc3): Linear(in_features=10, out_features=2, bias=True)\n",
            "  (dropout): Dropout(p=0, inplace=False)\n",
            "  (bn1): BatchNorm1d(30, eps=1e-05, momentum=0.1, affine=True, track_running_stats=True)\n",
            "  (bn2): BatchNorm1d(10, eps=1e-05, momentum=0.1, affine=True, track_running_stats=True)\n",
            ")\n"
          ]
        }
      ]
    },
    {
      "cell_type": "code",
      "execution_count": 118,
      "metadata": {
        "id": "yCOXHdcI06hP"
      },
      "outputs": [],
      "source": [
        "# Check accuracy on training & test to see how good our model\n",
        "def valdation_metrics(loader, losses, model):\n",
        "    num_correct = 0\n",
        "    num_samples = 0\n",
        "    model.eval()\n",
        "    \n",
        "    with torch.no_grad():\n",
        "        for x, y in loader:\n",
        "            x = x.to(device=device)\n",
        "            y = y.to(device=device)\n",
        "            x = x.reshape(x.shape[0], -1)\n",
        "\n",
        "            outputs = model(x)\n",
        "            values, predictions = torch.max(outputs, 1)\n",
        "            num_samples += predictions.size(0)\n",
        "            \n",
        "            # accuracy\n",
        "            y_real = y.detach().numpy()\n",
        "            y_pred = predictions.detach().numpy()\n",
        "            accuracy = accuracy_score(y_real, y_pred)\n",
        "\n",
        "            # validation losses\n",
        "            loss = criterion(outputs, y)\n",
        "            losses += loss.item() \n",
        "            losses = (losses/num_samples)\n",
        "\n",
        "    model.train()\n",
        "\n",
        "    return accuracy, losses"
      ]
    },
    {
      "cell_type": "code",
      "source": [
        "# ploting evaluations\n",
        "def network_plots(train, test, metric):\n",
        "    fig, ax = plt.subplots(figsize=(8,5))\n",
        "\n",
        "    ax.plot(train)\n",
        "    ax.plot(test)\n",
        "\n",
        "    ax.legend(('Train', 'Test'), loc=\"best\")\n",
        "    plt.show()\n",
        "    print(f\"The {metric} in train was {round(train[-1],2)} and in test was {round(test[-1],2)}.\")"
      ],
      "metadata": {
        "id": "psbR8zY7Lz4w"
      },
      "execution_count": 98,
      "outputs": []
    },
    {
      "cell_type": "code",
      "execution_count": 126,
      "metadata": {
        "id": "ZyMtJtCS06jx",
        "colab": {
          "base_uri": "https://localhost:8080/"
        },
        "outputId": "621b8f20-79e9-4829-8dbd-c02054ffbd03"
      },
      "outputs": [
        {
          "output_type": "stream",
          "name": "stderr",
          "text": [
            "100%|██████████| 200/200 [00:04<00:00, 44.25it/s]\n"
          ]
        }
      ],
      "source": [
        "# hiperparameters\n",
        "num_epochs = 200\n",
        "learning_rate = 0.001\n",
        "tx_dropout = 0.0\n",
        "\n",
        "# Initialize network\n",
        "model = NN(\n",
        "    input_size=input_size, \n",
        "    num_classes=num_classes, \n",
        "    tx_dropout=tx_dropout\n",
        "    ).to(device)\n",
        "\n",
        "# Loss and optimizer\n",
        "criterion = nn.CrossEntropyLoss()\n",
        "optimizer = optim.Adam(model.parameters(), lr=learning_rate)\n",
        "\n",
        "# Train Network\n",
        "plot_train_losses = []\n",
        "plot_test_losses = []\n",
        "plot_train_accuracy = []\n",
        "plot_test_accuracy = []\n",
        "\n",
        "for epoch in tqdm(range(num_epochs)):\n",
        "    train_losses = 0.0\n",
        "    test_losses = 0.0\n",
        "    \n",
        "    for batch_idx, (data, targets) in enumerate(train_loader):\n",
        "        # Get data to cuda if possible\n",
        "        data = data.to(device=device)\n",
        "        targets = targets.to(device=device)\n",
        "        # Get to correct shape\n",
        "        data = data.reshape(data.shape[0], -1)\n",
        "        # forward\n",
        "        outputs = model(data)\n",
        "        loss = criterion(outputs, targets)\n",
        "        # backward\n",
        "        optimizer.zero_grad()\n",
        "        loss.backward()\n",
        "        # gradient descent or adam step\n",
        "        optimizer.step()\n",
        "\n",
        "    # metrics\n",
        "    train_metric = valdation_metrics(train_loader, train_losses, model)\n",
        "    test_metric = valdation_metrics(test_loader, test_losses, model)\n",
        "\n",
        "    # cumulative losses\n",
        "    plot_train_losses.append(train_metric[1])\n",
        "    plot_test_losses.append(test_metric[1])\n",
        "\n",
        "    # cumulative accuracy\n",
        "    train_accuracy = (train_metric[0]*100).item()\n",
        "    test_accuracy = (test_metric[0]*100).item()\n",
        "    plot_train_accuracy.append(train_accuracy)\n",
        "    plot_test_accuracy.append(test_accuracy)"
      ]
    },
    {
      "cell_type": "code",
      "source": [
        "print(train_metric)"
      ],
      "metadata": {
        "colab": {
          "base_uri": "https://localhost:8080/"
        },
        "id": "V0PgZV33jv5D",
        "outputId": "b7616965-61f1-45fb-9064-bcf8c772c73c"
      },
      "execution_count": 127,
      "outputs": [
        {
          "output_type": "stream",
          "name": "stdout",
          "text": [
            "(0.8497191011235955, 0.0006904027351502622)\n"
          ]
        }
      ]
    },
    {
      "cell_type": "code",
      "source": [
        "train_accuracy"
      ],
      "metadata": {
        "colab": {
          "base_uri": "https://localhost:8080/"
        },
        "id": "A-KLzX6tN4yU",
        "outputId": "2972cc0c-ca3f-487f-ce80-5ded772ae085"
      },
      "execution_count": 128,
      "outputs": [
        {
          "output_type": "execute_result",
          "data": {
            "text/plain": [
              "84.97191011235955"
            ]
          },
          "metadata": {},
          "execution_count": 128
        }
      ]
    },
    {
      "cell_type": "code",
      "source": [
        "network_plots(plot_train_accuracy, plot_test_accuracy, 'Accuracy')\n",
        "network_plots(plot_train_losses, plot_test_losses, 'Losses')"
      ],
      "metadata": {
        "colab": {
          "base_uri": "https://localhost:8080/",
          "height": 658
        },
        "id": "xHCpYTBFLhJL",
        "outputId": "87056826-6b8c-4a1e-abc7-be90092b44ef"
      },
      "execution_count": 129,
      "outputs": [
        {
          "output_type": "display_data",
          "data": {
            "text/plain": [
              "<Figure size 576x360 with 1 Axes>"
            ],
            "image/png": "[encoded data removed]"
          },
          "metadata": {
            "needs_background": "light"
          }
        },
        {
          "output_type": "stream",
          "name": "stdout",
          "text": [
            "The Accuracy in train was 84.97 and in test was 85.47.\n"
          ]
        },
        {
          "output_type": "display_data",
          "data": {
            "text/plain": [
              "<Figure size 576x360 with 1 Axes>"
            ],
            "image/png": "[encoded data removed]"
          },
          "metadata": {
            "needs_background": "light"
          }
        },
        {
          "output_type": "stream",
          "name": "stdout",
          "text": [
            "The Losses in train was 0.0 and in test was 0.0.\n"
          ]
        }
      ]
    },
    {
      "cell_type": "code",
      "source": [
        "model.eval()\n",
        "with torch.no_grad():\n",
        "    for x, y in test_loader:\n",
        "        x = x.to(device=device)\n",
        "        y = y.to(device=device)\n",
        "        x = x.reshape(x.shape[0], -1)\n",
        "        outputs = model(x)\n",
        "        values, predictions = torch.max(outputs, 1)\n",
        "model.train()\n",
        "\n",
        "conf_matrix = confusion_matrix(\n",
        "    y_true = y,\n",
        "    y_pred = predictions\n",
        "    )\n",
        "labels = np.unique(y)\n",
        "\n",
        "print(accuracy_score(y, predictions))\n",
        "\n",
        "\n",
        "plot_cm = ConfusionMatrixDisplay(\n",
        "    confusion_matrix = conf_matrix,\n",
        "    display_labels = labels\n",
        "    ) \\\n",
        "    .plot()\n",
        "\n",
        "plt.show()"
      ],
      "metadata": {
        "colab": {
          "base_uri": "https://localhost:8080/",
          "height": 297
        },
        "id": "9YS4AMLhUcfH",
        "outputId": "0053c5b5-bae9-4e6b-9837-16619609c79a"
      },
      "execution_count": 130,
      "outputs": [
        {
          "output_type": "stream",
          "name": "stdout",
          "text": [
            "0.8547486033519553\n"
          ]
        },
        {
          "output_type": "display_data",
          "data": {
            "text/plain": [
              "<Figure size 432x288 with 2 Axes>"
            ],
            "image/png": "[encoded data removed]"
          },
          "metadata": {
            "needs_background": "light"
          }
        }
      ]
    },
    {
      "cell_type": "markdown",
      "source": [
        "Submission"
      ],
      "metadata": {
        "id": "dRaTUAhk8Krt"
      }
    },
    {
      "cell_type": "code",
      "source": [
        "class submission(Dataset):\n",
        "    def __init__(self, x):\n",
        "        self.x = torch.from_numpy(x).float()\n",
        "        self.n_sample = x.shape[0]\n",
        "\n",
        "    def __getitem__(self, index):\n",
        "        return self.x[index]\n",
        "\n",
        "    def __len__(self):\n",
        "        return self.n_sample\n",
        "\n",
        "sub_dataset = submission(test)\n",
        "sub_loader = DataLoader(\n",
        "    dataset = sub_dataset,\n",
        "    batch_size = test.shape[0],\n",
        "    shuffle=True)\n",
        "\n",
        "model.eval()\n",
        "with torch.no_grad():\n",
        "    for x in sub_loader:\n",
        "        x = x.to(device=device)\n",
        "        x = x.reshape(x.shape[0], -1)\n",
        "        test_result = model(x)\n",
        "model.train()\n",
        "\n",
        "values, labels = torch.max(test_result, 1)\n",
        "survived = labels.data.numpy()\n",
        "\n",
        "df_sub = pd.read_csv(\"gender_submission.csv\")\n",
        "submission = pd.DataFrame({'PassengerId': df_sub['PassengerId'], 'Survived': survived})\n",
        "submission.to_csv('submission.csv', index=False)\n",
        "! kaggle competitions submit -c titanic -f submission.csv -m \"No mensage.\""
      ],
      "metadata": {
        "colab": {
          "base_uri": "https://localhost:8080/"
        },
        "id": "pPOdxWwy7M57",
        "outputId": "ccb35b30-fd8c-452b-b326-6713f9e90dba"
      },
      "execution_count": 131,
      "outputs": [
        {
          "output_type": "stream",
          "name": "stdout",
          "text": [
            "100% 2.77k/2.77k [00:02<00:00, 1.18kB/s]\n",
            "Successfully submitted to Titanic - Machine Learning from Disaster"
          ]
        }
      ]
    },
    {
      "cell_type": "markdown",
      "source": [
        "Score: 0.56220\n",
        "\n"
      ],
      "metadata": {
        "id": "2Em5MuwPCiOL"
      }
    },
    {
      "cell_type": "markdown",
      "source": [
        "# 2ª Questão"
      ],
      "metadata": {
        "id": "m2N8vmwj6x4S"
      }
    },
    {
      "cell_type": "code",
      "source": [
        ""
      ],
      "metadata": {
        "id": "PDc9jjO76yhf"
      },
      "execution_count": null,
      "outputs": []
    }
  ],
  "metadata": {
    "colab": {
      "name": "1107106_220511_lista2.ipynb",
      "provenance": [],
      "collapsed_sections": [
        "pjXqK5i9aMcV"
      ],
      "authorship_tag": "ABX9TyOWCdpsCrsBS++Yk29DIv3E",
      "include_colab_link": true
    },
    "kernelspec": {
      "display_name": "Python 3",
      "name": "python3"
    },
    "language_info": {
      "name": "python"
    }
  },
  "nbformat": 4,
  "nbformat_minor": 0
}